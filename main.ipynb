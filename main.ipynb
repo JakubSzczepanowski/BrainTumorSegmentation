{
 "cells": [
  {
   "cell_type": "code",
   "execution_count": 1,
   "metadata": {},
   "outputs": [
    {
     "name": "stderr",
     "output_type": "stream",
     "text": [
      "c:\\Users\\Dell\\AppData\\Local\\Programs\\Python\\Python39\\lib\\site-packages\\tensorflow_addons\\utils\\tfa_eol_msg.py:23: UserWarning: \n",
      "\n",
      "TensorFlow Addons (TFA) has ended development and introduction of new features.\n",
      "TFA has entered a minimal maintenance and release mode until a planned end of life in May 2024.\n",
      "Please modify downstream libraries to take dependencies from other repositories in our TensorFlow community (e.g. Keras, Keras-CV, and Keras-NLP). \n",
      "\n",
      "For more information see: https://github.com/tensorflow/addons/issues/2807 \n",
      "\n",
      "  warnings.warn(\n"
     ]
    },
    {
     "name": "stdout",
     "output_type": "stream",
     "text": [
      "Using TensorFlow backend\n"
     ]
    },
    {
     "name": "stderr",
     "output_type": "stream",
     "text": [
      "c:\\Users\\Dell\\AppData\\Local\\Programs\\Python\\Python39\\lib\\site-packages\\tqdm\\auto.py:21: TqdmWarning: IProgress not found. Please update jupyter and ipywidgets. See https://ipywidgets.readthedocs.io/en/stable/user_install.html\n",
      "  from .autonotebook import tqdm as notebook_tqdm\n"
     ]
    }
   ],
   "source": [
    "import tensorflow as tf\n",
    "import tensorflow_addons as tfa\n",
    "import numpy as np\n",
    "import os\n",
    "import dataloader\n",
    "import architecture\n",
    "import metrics"
   ]
  },
  {
   "cell_type": "code",
   "execution_count": 2,
   "metadata": {},
   "outputs": [],
   "source": [
    "ROOT_DIR = '.'\n",
    "DATA_DIR = 'BRATS_2018'\n",
    "LABELED_DIR = 'MICCAI_BraTS_2018_Data_Training'\n",
    "UNLABELED_DIR = 'MICCAI_BraTS_2018_Data_Validation'\n",
    "LABELED_PATH = os.path.join(ROOT_DIR, DATA_DIR, LABELED_DIR)\n",
    "UNLABELED_PATH = os.path.join(ROOT_DIR, DATA_DIR, UNLABELED_DIR)\n",
    "\n",
    "BATCH_SIZE = 32\n",
    "BRAIN_SLICES = 8\n",
    "NUM_CLASSES = 4\n",
    "X_DTYPE = np.float32\n",
    "Y_DTYPE = np.uint8\n",
    "MAX_VALUE = 32767"
   ]
  },
  {
   "cell_type": "code",
   "execution_count": 3,
   "metadata": {},
   "outputs": [],
   "source": [
    "paths, sizes = dataloader.load_dataset_paths(LABELED_PATH, UNLABELED_PATH)"
   ]
  },
  {
   "cell_type": "code",
   "execution_count": 4,
   "metadata": {},
   "outputs": [],
   "source": [
    "train_brains, val_brains, test_brains, unlabeled_brains = paths"
   ]
  },
  {
   "cell_type": "code",
   "execution_count": 5,
   "metadata": {},
   "outputs": [],
   "source": [
    "hgg_train_size, lgg_train_size, hgg_val_size, lgg_val_size = sizes "
   ]
  },
  {
   "cell_type": "code",
   "execution_count": 6,
   "metadata": {},
   "outputs": [
    {
     "data": {
      "text/plain": [
       "(142, 50)"
      ]
     },
     "execution_count": 6,
     "metadata": {},
     "output_type": "execute_result"
    }
   ],
   "source": [
    "hgg_train_size, lgg_train_size"
   ]
  },
  {
   "cell_type": "code",
   "execution_count": 7,
   "metadata": {},
   "outputs": [
    {
     "data": {
      "text/plain": [
       "(192, 49, 44, 66)"
      ]
     },
     "execution_count": 7,
     "metadata": {},
     "output_type": "execute_result"
    }
   ],
   "source": [
    "len(train_brains), len(val_brains), len(test_brains), len(unlabeled_brains)"
   ]
  },
  {
   "cell_type": "code",
   "execution_count": 8,
   "metadata": {},
   "outputs": [],
   "source": [
    "# all_brains = train_brains + val_brains + test_brains + unlabeled_brains"
   ]
  },
  {
   "cell_type": "code",
   "execution_count": 9,
   "metadata": {},
   "outputs": [],
   "source": [
    "# dataloader.find_max_per_channel(all_brains)"
   ]
  },
  {
   "cell_type": "code",
   "execution_count": 15,
   "metadata": {},
   "outputs": [],
   "source": [
    "import matplotlib.pyplot as plt"
   ]
  },
  {
   "cell_type": "markdown",
   "metadata": {},
   "source": [
    "Pobieranie warstwowo-losowe"
   ]
  },
  {
   "cell_type": "code",
   "execution_count": 124,
   "metadata": {},
   "outputs": [],
   "source": [
    "train_dataset = tf.data.Dataset.from_generator(dataloader.build_data_generator, output_signature=(\n",
    "    tf.TensorSpec(shape=(BATCH_SIZE, dataloader.IMAGE_SIZE, dataloader.IMAGE_SIZE, dataloader.CHANNELS), dtype=X_DTYPE),\n",
    "    tf.TensorSpec(shape=(BATCH_SIZE, dataloader.IMAGE_SIZE, dataloader.IMAGE_SIZE, NUM_CLASSES), dtype=Y_DTYPE)\n",
    "), args=[train_brains, MAX_VALUE, BATCH_SIZE, BRAIN_SLICES, True, True, False, 22, hgg_train_size, lgg_train_size])"
   ]
  },
  {
   "cell_type": "code",
   "execution_count": null,
   "metadata": {},
   "outputs": [],
   "source": [
    "for elem in train_dataset.take(1):\n",
    "    for i in range(BATCH_SIZE):\n",
    "        plt.imshow(elem[0][i, :, :, 0])\n",
    "        plt.show()\n",
    "        plt.imshow(elem[1][i, :, :, 1])\n",
    "        plt.show()"
   ]
  },
  {
   "cell_type": "code",
   "execution_count": 111,
   "metadata": {},
   "outputs": [],
   "source": [
    "from importlib import reload\n",
    "reload(dataloader)\n",
    "import dataloader"
   ]
  },
  {
   "cell_type": "markdown",
   "metadata": {},
   "source": [
    "Pobieranie losowe"
   ]
  },
  {
   "cell_type": "code",
   "execution_count": 126,
   "metadata": {},
   "outputs": [],
   "source": [
    "train_dataset = tf.data.Dataset.from_generator(dataloader.build_data_generator, output_signature=(\n",
    "    tf.TensorSpec(shape=(BATCH_SIZE, dataloader.IMAGE_SIZE, dataloader.IMAGE_SIZE, dataloader.CHANNELS), dtype=X_DTYPE),\n",
    "    tf.TensorSpec(shape=(BATCH_SIZE, dataloader.IMAGE_SIZE, dataloader.IMAGE_SIZE, NUM_CLASSES), dtype=Y_DTYPE)\n",
    "), args=[train_brains, MAX_VALUE, BATCH_SIZE, BRAIN_SLICES, True, False, False, 22, hgg_train_size, lgg_train_size])"
   ]
  },
  {
   "cell_type": "code",
   "execution_count": null,
   "metadata": {},
   "outputs": [],
   "source": [
    "for elem in train_dataset.take(1):\n",
    "    for i in range(0, BATCH_SIZE, 2):\n",
    "        plt.imshow(elem[0][i, :, :, 0])\n",
    "        plt.show()\n",
    "        plt.imshow(elem[1][i, :, :, 1])\n",
    "        plt.show()"
   ]
  },
  {
   "cell_type": "markdown",
   "metadata": {},
   "source": [
    "Pobieranie warstwowo-sekwencyjne"
   ]
  },
  {
   "cell_type": "code",
   "execution_count": 128,
   "metadata": {},
   "outputs": [],
   "source": [
    "train_dataset = tf.data.Dataset.from_generator(dataloader.build_data_generator, output_signature=(\n",
    "    tf.TensorSpec(shape=(BATCH_SIZE, dataloader.IMAGE_SIZE, dataloader.IMAGE_SIZE, dataloader.CHANNELS), dtype=X_DTYPE),\n",
    "    tf.TensorSpec(shape=(BATCH_SIZE, dataloader.IMAGE_SIZE, dataloader.IMAGE_SIZE, NUM_CLASSES), dtype=Y_DTYPE)\n",
    "), args=[train_brains, MAX_VALUE, BATCH_SIZE, BRAIN_SLICES, False, False, False, 22, hgg_train_size, lgg_train_size])"
   ]
  },
  {
   "cell_type": "code",
   "execution_count": null,
   "metadata": {},
   "outputs": [],
   "source": [
    "for elem in train_dataset.take(1):\n",
    "    for i in range(BATCH_SIZE):\n",
    "        plt.imshow(elem[0][i, :, :, 0])\n",
    "        plt.show()\n",
    "        plt.imshow(elem[1][i, :, :, 1])\n",
    "        plt.show()"
   ]
  },
  {
   "cell_type": "markdown",
   "metadata": {},
   "source": [
    "Zbiór testowy"
   ]
  },
  {
   "cell_type": "code",
   "execution_count": 123,
   "metadata": {},
   "outputs": [
    {
     "data": {
      "image/png": "[encoded data removed]",
      "text/plain": [
       "<Figure size 432x288 with 1 Axes>"
      ]
     },
     "metadata": {
      "needs_background": "light"
     },
     "output_type": "display_data"
    },
    {
     "data": {
      "image/png": "[encoded data removed]",
      "text/plain": [
       "<Figure size 432x288 with 1 Axes>"
      ]
     },
     "metadata": {
      "needs_background": "light"
     },
     "output_type": "display_data"
    }
   ],
   "source": [
    "import nibabel as nib\n",
    "import cv2\n",
    "\n",
    "for path in test_brains:\n",
    "    path = dataloader.extend_path_from_last_part(path)\n",
    "    t1 = nib.load(f'{path}_t1.nii').get_fdata(dtype=X_DTYPE)\n",
    "    t1ce = nib.load(f'{path}_t1ce.nii').get_fdata(dtype=X_DTYPE)\n",
    "    t2 = nib.load(f'{path}_t2.nii').get_fdata(dtype=X_DTYPE)\n",
    "    flair = nib.load(f'{path}_flair.nii').get_fdata(dtype=X_DTYPE)\n",
    "    seg = nib.load(f'{path}_seg.nii').get_fdata(dtype=X_DTYPE)\n",
    "    batch_X = np.zeros((dataloader.BRAIN_FRAMES, dataloader.IMAGE_SIZE, dataloader.IMAGE_SIZE, dataloader.CHANNELS), dtype=X_DTYPE)\n",
    "    batch_Y = np.zeros((dataloader.BRAIN_FRAMES, dataloader.IMAGE_SIZE, dataloader.IMAGE_SIZE), dtype=Y_DTYPE)\n",
    "\n",
    "    for i in range(dataloader.BRAIN_FRAMES):\n",
    "        batch_X[i, :, :, 0] = cv2.resize(t1[:, :, i], (dataloader.IMAGE_SIZE, dataloader.IMAGE_SIZE))\n",
    "        batch_X[i, :, :, 1] = cv2.resize(t1ce[:, :, i], (dataloader.IMAGE_SIZE, dataloader.IMAGE_SIZE))\n",
    "        batch_X[i, :, :, 2] = cv2.resize(t2[:, :, i], (dataloader.IMAGE_SIZE, dataloader.IMAGE_SIZE))\n",
    "        batch_X[i, :, :, 3] = cv2.resize(flair[:, :, i], (dataloader.IMAGE_SIZE, dataloader.IMAGE_SIZE))\n",
    "        y_map = dataloader.DataGenerator._map_labels(seg[:, :, i])\n",
    "        \n",
    "        batch_Y[i, :, :] = cv2.resize(y_map, (dataloader.IMAGE_SIZE, dataloader.IMAGE_SIZE))\n",
    "\n",
    "    batch_Y = tf.one_hot(batch_Y, 4, dtype=Y_DTYPE)\n",
    "\n",
    "    plt.imshow(batch_X[0, :, :, 0])\n",
    "    plt.show()\n",
    "    plt.imshow(batch_Y[0, :, :, 1])\n",
    "    plt.show()\n",
    "    break"
   ]
  },
  {
   "cell_type": "code",
   "execution_count": 12,
   "metadata": {},
   "outputs": [],
   "source": [
    "train_dataset = train_dataset.repeat().prefetch(tf.data.AUTOTUNE)"
   ]
  },
  {
   "cell_type": "code",
   "execution_count": 13,
   "metadata": {},
   "outputs": [],
   "source": [
    "val_dataset = val_dataset.repeat().prefetch(tf.data.AUTOTUNE)"
   ]
  },
  {
   "cell_type": "code",
   "execution_count": 67,
   "metadata": {},
   "outputs": [],
   "source": [
    "from keras import backend as K"
   ]
  },
  {
   "cell_type": "code",
   "execution_count": 174,
   "metadata": {},
   "outputs": [
    {
     "name": "stdout",
     "output_type": "stream",
     "text": [
      "tf.Tensor([0.00109971 0.1458139  0.5603247  0.29276177], shape=(4,), dtype=float32)\n"
     ]
    }
   ],
   "source": [
    "w = 0\n",
    "for elem in train_dataset.take(len(train_brains) * (dataloader.BRAIN_FRAMES//BATCH_SIZE)):\n",
    "    class_counts = K.sum(elem[1], axis=[0, 1, 2])\n",
    "    class_weights = tf.math.reciprocal(class_counts)\n",
    "\n",
    "    w += class_weights/K.sum(class_weights, keepdims=True)\n",
    "print(w/(len(train_brains) * (dataloader.BRAIN_FRAMES//BATCH_SIZE)))"
   ]
  },
  {
   "cell_type": "code",
   "execution_count": 99,
   "metadata": {},
   "outputs": [
    {
     "data": {
      "image/png": "[encoded data removed]",
      "text/plain": [
       "<Figure size 432x288 with 1 Axes>"
      ]
     },
     "metadata": {
      "needs_background": "light"
     },
     "output_type": "display_data"
    },
    {
     "data": {
      "image/png": "[encoded data removed]",
      "text/plain": [
       "<Figure size 432x288 with 1 Axes>"
      ]
     },
     "metadata": {
      "needs_background": "light"
     },
     "output_type": "display_data"
    }
   ],
   "source": [
    "for elem in train_dataset.take(1):\n",
    "    plt.imshow(elem[0][16, :, :, 0])\n",
    "    plt.show()\n",
    "    elo = tf.argmax(elem[1][16, :, :, :], axis=-1)\n",
    "    plt.imshow(elo)\n",
    "    plt.show()"
   ]
  },
  {
   "cell_type": "code",
   "execution_count": 70,
   "metadata": {},
   "outputs": [],
   "source": [
    "class_weights = tf.math.reciprocal(np.array([518359, 3426, 993, 1510], dtype=np.float32))"
   ]
  },
  {
   "cell_type": "code",
   "execution_count": 71,
   "metadata": {},
   "outputs": [
    {
     "data": {
      "text/plain": [
       "<tf.Tensor: shape=(4,), dtype=float32, numpy=\n",
       "array([1.9291649e-06, 2.9188558e-04, 1.0070493e-03, 6.6225167e-04],\n",
       "      dtype=float32)>"
      ]
     },
     "execution_count": 71,
     "metadata": {},
     "output_type": "execute_result"
    }
   ],
   "source": [
    "class_weights"
   ]
  },
  {
   "cell_type": "code",
   "execution_count": 173,
   "metadata": {},
   "outputs": [
    {
     "data": {
      "text/plain": [
       "<tf.Tensor: shape=(4,), dtype=float32, numpy=array([0.00098271, 0.14868484, 0.5129852 , 0.33734724], dtype=float32)>"
      ]
     },
     "execution_count": 173,
     "metadata": {},
     "output_type": "execute_result"
    }
   ],
   "source": [
    "new_class_weights = class_weights/tf.reduce_sum(class_weights, keepdims=True)\n",
    "new_class_weights"
   ]
  },
  {
   "cell_type": "code",
   "execution_count": 115,
   "metadata": {},
   "outputs": [
    {
     "data": {
      "image/png": "[encoded data removed]",
      "text/plain": [
       "<Figure size 432x288 with 1 Axes>"
      ]
     },
     "metadata": {
      "needs_background": "light"
     },
     "output_type": "display_data"
    }
   ],
   "source": [
    "import matplotlib.pyplot as plt\n",
    "plt.imshow(seg[0, :, :, 2])\n",
    "plt.show()"
   ]
  },
  {
   "cell_type": "code",
   "execution_count": null,
   "metadata": {},
   "outputs": [],
   "source": [
    "# Z losowaniem - 3.5s bez - 0.2s"
   ]
  },
  {
   "cell_type": "code",
   "execution_count": 18,
   "metadata": {},
   "outputs": [],
   "source": [
    "reload(architecture)\n",
    "import architecture"
   ]
  },
  {
   "cell_type": "code",
   "execution_count": null,
   "metadata": {},
   "outputs": [],
   "source": [
    "model = architecture.build_model((dataloader.IMAGE_SIZE, dataloader.IMAGE_SIZE, dataloader.CHANNELS), NUM_CLASSES)"
   ]
  },
  {
   "cell_type": "code",
   "execution_count": null,
   "metadata": {},
   "outputs": [],
   "source": [
    "model.get_layer('sequential').layers[0].weights"
   ]
  },
  {
   "cell_type": "code",
   "execution_count": 20,
   "metadata": {},
   "outputs": [
    {
     "name": "stdout",
     "output_type": "stream",
     "text": [
      "Model: \"model_1\"\n",
      "__________________________________________________________________________________________________\n",
      " Layer (type)                Output Shape                 Param #   Connected to                  \n",
      "==================================================================================================\n",
      " input_2 (InputLayer)        [(None, 128, 128, 4)]        0         []                            \n",
      "                                                                                                  \n",
      " sequential_9 (Sequential)   (None, 128, 128, 16)         3040      ['input_2[0][0]']             \n",
      "                                                                                                  \n",
      " max_pooling2d_4 (MaxPoolin  (None, 64, 64, 16)           0         ['sequential_9[0][0]']        \n",
      " g2D)                                                                                             \n",
      "                                                                                                  \n",
      " sequential_10 (Sequential)  (None, 64, 64, 32)           14144     ['max_pooling2d_4[0][0]']     \n",
      "                                                                                                  \n",
      " max_pooling2d_5 (MaxPoolin  (None, 32, 32, 32)           0         ['sequential_10[0][0]']       \n",
      " g2D)                                                                                             \n",
      "                                                                                                  \n",
      " sequential_11 (Sequential)  (None, 32, 32, 64)           55936     ['max_pooling2d_5[0][0]']     \n",
      "                                                                                                  \n",
      " max_pooling2d_6 (MaxPoolin  (None, 16, 16, 64)           0         ['sequential_11[0][0]']       \n",
      " g2D)                                                                                             \n",
      "                                                                                                  \n",
      " sequential_12 (Sequential)  (None, 16, 16, 128)          222464    ['max_pooling2d_6[0][0]']     \n",
      "                                                                                                  \n",
      " max_pooling2d_7 (MaxPoolin  (None, 8, 8, 128)            0         ['sequential_12[0][0]']       \n",
      " g2D)                                                                                             \n",
      "                                                                                                  \n",
      " sequential_13 (Sequential)  (None, 8, 8, 256)            887296    ['max_pooling2d_7[0][0]']     \n",
      "                                                                                                  \n",
      " conv2d_transpose_4 (Conv2D  (None, 16, 16, 128)          131200    ['sequential_13[0][0]']       \n",
      " Transpose)                                                                                       \n",
      "                                                                                                  \n",
      " batch_normalization_32 (Ba  (None, 16, 16, 128)          512       ['conv2d_transpose_4[0][0]']  \n",
      " tchNormalization)                                                                                \n",
      "                                                                                                  \n",
      " leaky_re_lu_10 (LeakyReLU)  (None, 16, 16, 128)          0         ['batch_normalization_32[0][0]\n",
      "                                                                    ']                            \n",
      "                                                                                                  \n",
      " cbam_4 (CBAM)               (None, 16, 16, 128)          2282      ['sequential_12[0][0]']       \n",
      "                                                                                                  \n",
      " concatenate_4 (Concatenate  (None, 16, 16, 256)          0         ['leaky_re_lu_10[0][0]',      \n",
      " )                                                                   'cbam_4[0][0]']              \n",
      "                                                                                                  \n",
      " sequential_14 (Sequential)  (None, 16, 16, 128)          443648    ['concatenate_4[0][0]']       \n",
      "                                                                                                  \n",
      " conv2d_transpose_5 (Conv2D  (None, 32, 32, 64)           32832     ['sequential_14[0][0]']       \n",
      " Transpose)                                                                                       \n",
      "                                                                                                  \n",
      " batch_normalization_35 (Ba  (None, 32, 32, 64)           256       ['conv2d_transpose_5[0][0]']  \n",
      " tchNormalization)                                                                                \n",
      "                                                                                                  \n",
      " leaky_re_lu_13 (LeakyReLU)  (None, 32, 32, 64)           0         ['batch_normalization_35[0][0]\n",
      "                                                                    ']                            \n",
      "                                                                                                  \n",
      " cbam_5 (CBAM)               (None, 32, 32, 64)           678       ['sequential_11[0][0]']       \n",
      "                                                                                                  \n",
      " concatenate_5 (Concatenate  (None, 32, 32, 128)          0         ['leaky_re_lu_13[0][0]',      \n",
      " )                                                                   'cbam_5[0][0]']              \n",
      "                                                                                                  \n",
      " sequential_15 (Sequential)  (None, 32, 32, 64)           111232    ['concatenate_5[0][0]']       \n",
      "                                                                                                  \n",
      " conv2d_transpose_6 (Conv2D  (None, 64, 64, 32)           8224      ['sequential_15[0][0]']       \n",
      " Transpose)                                                                                       \n",
      "                                                                                                  \n",
      " batch_normalization_38 (Ba  (None, 64, 64, 32)           128       ['conv2d_transpose_6[0][0]']  \n",
      " tchNormalization)                                                                                \n",
      "                                                                                                  \n",
      " leaky_re_lu_16 (LeakyReLU)  (None, 64, 64, 32)           0         ['batch_normalization_38[0][0]\n",
      "                                                                    ']                            \n",
      "                                                                                                  \n",
      " cbam_6 (CBAM)               (None, 64, 64, 32)           260       ['sequential_10[0][0]']       \n",
      "                                                                                                  \n",
      " concatenate_6 (Concatenate  (None, 64, 64, 64)           0         ['leaky_re_lu_16[0][0]',      \n",
      " )                                                                   'cbam_6[0][0]']              \n",
      "                                                                                                  \n",
      " sequential_16 (Sequential)  (None, 64, 64, 32)           27968     ['concatenate_6[0][0]']       \n",
      "                                                                                                  \n",
      " conv2d_transpose_7 (Conv2D  (None, 128, 128, 16)         2064      ['sequential_16[0][0]']       \n",
      " Transpose)                                                                                       \n",
      "                                                                                                  \n",
      " batch_normalization_41 (Ba  (None, 128, 128, 16)         64        ['conv2d_transpose_7[0][0]']  \n",
      " tchNormalization)                                                                                \n",
      "                                                                                                  \n",
      " leaky_re_lu_19 (LeakyReLU)  (None, 128, 128, 16)         0         ['batch_normalization_41[0][0]\n",
      "                                                                    ']                            \n",
      "                                                                                                  \n",
      " cbam_7 (CBAM)               (None, 128, 128, 16)         147       ['sequential_9[0][0]']        \n",
      "                                                                                                  \n",
      " concatenate_7 (Concatenate  (None, 128, 128, 32)         0         ['leaky_re_lu_19[0][0]',      \n",
      " )                                                                   'cbam_7[0][0]']              \n",
      "                                                                                                  \n",
      " sequential_17 (Sequential)  (None, 128, 128, 16)         7072      ['concatenate_7[0][0]']       \n",
      "                                                                                                  \n",
      " conv2d_37 (Conv2D)          (None, 128, 128, 4)          68        ['sequential_17[0][0]']       \n",
      "                                                                                                  \n",
      "==================================================================================================\n",
      "Total params: 1951515 (7.44 MB)\n",
      "Trainable params: 1948091 (7.43 MB)\n",
      "Non-trainable params: 3424 (13.38 KB)\n",
      "__________________________________________________________________________________________________\n"
     ]
    }
   ],
   "source": [
    "model.summary()"
   ]
  },
  {
   "cell_type": "code",
   "execution_count": 24,
   "metadata": {},
   "outputs": [],
   "source": [
    "def scale_fn(x):\n",
    "    return 1/(2.**(x-1))\n",
    "\n",
    "steps_per_epoch = len(train_brains) * (dataloader.BRAIN_FRAMES//BATCH_SIZE)\n",
    "val_steps_per_epoch = len(val_brains) * (dataloader.BRAIN_FRAMES//BATCH_SIZE)\n",
    "clr = tfa.optimizers.CyclicalLearningRate(initial_learning_rate=1e-4,\n",
    "    maximal_learning_rate=1e-2,\n",
    "    scale_fn=scale_fn,\n",
    "    step_size=2 * steps_per_epoch\n",
    ")"
   ]
  },
  {
   "cell_type": "code",
   "execution_count": 27,
   "metadata": {},
   "outputs": [],
   "source": [
    "model.compile(loss=metrics.weighted_f1_loss, optimizer=tf.keras.optimizers.AdamW(weight_decay=0.007), metrics=['accuracy', \n",
    "                                                                                               tf.keras.metrics.OneHotMeanIoU(num_classes=NUM_CLASSES),\n",
    "                                                                                               tf.keras.metrics.OneHotIoU(num_classes=NUM_CLASSES, target_class_ids=[0]),\n",
    "                                                                                               tf.keras.metrics.OneHotIoU(num_classes=NUM_CLASSES, target_class_ids=[1]),\n",
    "                                                                                               tf.keras.metrics.OneHotIoU(num_classes=NUM_CLASSES, target_class_ids=[2]),\n",
    "                                                                                               tf.keras.metrics.OneHotIoU(num_classes=NUM_CLASSES, target_class_ids=[3]),\n",
    "                                                                                               tf.keras.metrics.Precision(class_id=0),\n",
    "                                                                                               tf.keras.metrics.Precision(class_id=1),\n",
    "                                                                                               tf.keras.metrics.Precision(class_id=2),\n",
    "                                                                                               tf.keras.metrics.Precision(class_id=3),\n",
    "                                                                                               tf.keras.metrics.Recall(class_id=0),\n",
    "                                                                                               tf.keras.metrics.Recall(class_id=1),\n",
    "                                                                                               tf.keras.metrics.Recall(class_id=2),\n",
    "                                                                                               tf.keras.metrics.Recall(class_id=3)])"
   ]
  },
  {
   "cell_type": "code",
   "execution_count": 22,
   "metadata": {},
   "outputs": [],
   "source": [
    "checkpoint_filepath = os.path.join(ROOT_DIR, 'checkpoints', 'model-{epoch:02d}-{val_one_hot_mean_io_u:.3f}')\n",
    "\n",
    "model_checkpoint_callback = tf.keras.callbacks.ModelCheckpoint(\n",
    "    filepath=checkpoint_filepath,\n",
    "    save_weights_only=True,\n",
    "    monitor='val_one_hot_mean_io_u',\n",
    "    mode='max',\n",
    "    save_best_only=True)\n",
    "\n",
    "early_stop_callback = tf.keras.callbacks.EarlyStopping(monitor='val_loss', min_delta=0.001, patience=5, verbose=1, restore_best_weights=True)\n",
    "\n",
    "csv_logger_callback = tf.keras.callbacks.CSVLogger('brainTumor.log')"
   ]
  },
  {
   "cell_type": "code",
   "execution_count": 28,
   "metadata": {},
   "outputs": [
    {
     "name": "stdout",
     "output_type": "stream",
     "text": [
      "768/768 [==============================] - 3681s 5s/step - loss: 0.8783 - accuracy: 0.6106 - one_hot_mean_io_u_1: 0.1928 - one_hot_io_u_4: 0.6126 - one_hot_io_u_5: 0.1060 - one_hot_io_u_6: 0.0483 - one_hot_io_u_7: 0.0042 - precision_4: 0.9941 - precision_5: 0.1746 - precision_6: 0.0806 - precision_7: 0.0042 - recall_4: 0.6015 - recall_5: 0.3037 - recall_6: 0.2992 - recall_7: 0.3189 - val_loss: 0.8347 - val_accuracy: 0.6511 - val_one_hot_mean_io_u_1: 0.2465 - val_one_hot_io_u_4: 0.6535 - val_one_hot_io_u_5: 0.1577 - val_one_hot_io_u_6: 0.1711 - val_one_hot_io_u_7: 0.0038 - val_precision_4: 0.9934 - val_precision_5: 0.2666 - val_precision_6: 0.2500 - val_precision_7: 0.0035 - val_recall_4: 0.6553 - val_recall_5: 0.2836 - val_recall_6: 0.3727 - val_recall_7: 0.2647\n"
     ]
    }
   ],
   "source": [
    "history = model.fit(train_dataset, epochs=1, steps_per_epoch=steps_per_epoch, validation_data=val_dataset, validation_steps=val_steps_per_epoch, workers=2)"
   ]
  },
  {
   "cell_type": "code",
   "execution_count": 104,
   "metadata": {},
   "outputs": [
    {
     "name": "stdout",
     "output_type": "stream",
     "text": [
      "768/768 [==============================] - 3328s 4s/step - loss: 0.8985 - accuracy: 0.3789 - one_hot_mean_io_u_1: 0.1360 - one_hot_io_u_4: 0.3797 - one_hot_io_u_5: 0.0031 - one_hot_io_u_6: 0.0110 - one_hot_io_u_7: 0.1502 - precision_4: 0.9998 - precision_5: 0.0032 - precision_6: 0.0111 - precision_7: 0.2194 - recall_4: 0.3730 - recall_5: 0.1722 - recall_6: 0.6984 - recall_7: 0.4121 - val_loss: 0.9937 - val_accuracy: 0.4646 - val_one_hot_mean_io_u_1: 0.1200 - val_one_hot_io_u_4: 0.4637 - val_one_hot_io_u_5: 0.0123 - val_one_hot_io_u_6: 0.0026 - val_one_hot_io_u_7: 0.0014 - val_precision_4: 0.9950 - val_precision_5: 0.0123 - val_precision_6: 0.1482 - val_precision_7: 0.9124 - val_recall_4: 0.4648 - val_recall_5: 0.8218 - val_recall_6: 0.0027 - val_recall_7: 0.0013\n"
     ]
    }
   ],
   "source": [
    "history = model.fit(train_dataset, epochs=1, steps_per_epoch=steps_per_epoch, validation_data=val_dataset, validation_steps=val_steps_per_epoch, workers=2)"
   ]
  },
  {
   "cell_type": "code",
   "execution_count": 61,
   "metadata": {},
   "outputs": [],
   "source": [
    "model.save(\"model_epoch_2.keras\")"
   ]
  },
  {
   "cell_type": "code",
   "execution_count": null,
   "metadata": {},
   "outputs": [],
   "source": [
    "elo = tf.keras.models.load_model(\"model_epoch_2.keras\")"
   ]
  },
  {
   "cell_type": "code",
   "execution_count": 38,
   "metadata": {},
   "outputs": [
    {
     "name": "stdout",
     "output_type": "stream",
     "text": [
      "Model: \"model_1\"\n",
      "__________________________________________________________________________________________________\n",
      " Layer (type)                Output Shape                 Param #   Connected to                  \n",
      "==================================================================================================\n",
      " input_2 (InputLayer)        [(None, 128, 128, 4)]        0         []                            \n",
      "                                                                                                  \n",
      " sequential_9 (Sequential)   (None, 128, 128, 16)         2912      ['input_2[0][0]']             \n",
      "                                                                                                  \n",
      " max_pooling2d_4 (MaxPoolin  (None, 64, 64, 16)           0         ['sequential_9[0][0]']        \n",
      " g2D)                                                                                             \n",
      "                                                                                                  \n",
      " sequential_10 (Sequential)  (None, 64, 64, 32)           13888     ['max_pooling2d_4[0][0]']     \n",
      "                                                                                                  \n",
      " max_pooling2d_5 (MaxPoolin  (None, 32, 32, 32)           0         ['sequential_10[0][0]']       \n",
      " g2D)                                                                                             \n",
      "                                                                                                  \n",
      " sequential_11 (Sequential)  (None, 32, 32, 64)           55424     ['max_pooling2d_5[0][0]']     \n",
      "                                                                                                  \n",
      " max_pooling2d_6 (MaxPoolin  (None, 16, 16, 64)           0         ['sequential_11[0][0]']       \n",
      " g2D)                                                                                             \n",
      "                                                                                                  \n",
      " sequential_12 (Sequential)  (None, 16, 16, 128)          221440    ['max_pooling2d_6[0][0]']     \n",
      "                                                                                                  \n",
      " max_pooling2d_7 (MaxPoolin  (None, 8, 8, 128)            0         ['sequential_12[0][0]']       \n",
      " g2D)                                                                                             \n",
      "                                                                                                  \n",
      " sequential_13 (Sequential)  (None, 8, 8, 256)            885248    ['max_pooling2d_7[0][0]']     \n",
      "                                                                                                  \n",
      " conv2d_transpose_4 (Conv2D  (None, 16, 16, 128)          131200    ['sequential_13[0][0]']       \n",
      " Transpose)                                                                                       \n",
      "                                                                                                  \n",
      " concatenate_4 (Concatenate  (None, 16, 16, 256)          0         ['conv2d_transpose_4[0][0]',  \n",
      " )                                                                   'sequential_12[0][0]']       \n",
      "                                                                                                  \n",
      " sequential_14 (Sequential)  (None, 16, 16, 128)          442624    ['concatenate_4[0][0]']       \n",
      "                                                                                                  \n",
      " conv2d_transpose_5 (Conv2D  (None, 32, 32, 64)           32832     ['sequential_14[0][0]']       \n",
      " Transpose)                                                                                       \n",
      "                                                                                                  \n",
      " concatenate_5 (Concatenate  (None, 32, 32, 128)          0         ['conv2d_transpose_5[0][0]',  \n",
      " )                                                                   'sequential_11[0][0]']       \n",
      "                                                                                                  \n",
      " sequential_15 (Sequential)  (None, 32, 32, 64)           110720    ['concatenate_5[0][0]']       \n",
      "                                                                                                  \n",
      " conv2d_transpose_6 (Conv2D  (None, 64, 64, 32)           8224      ['sequential_15[0][0]']       \n",
      " Transpose)                                                                                       \n",
      "                                                                                                  \n",
      " concatenate_6 (Concatenate  (None, 64, 64, 64)           0         ['conv2d_transpose_6[0][0]',  \n",
      " )                                                                   'sequential_10[0][0]']       \n",
      "                                                                                                  \n",
      " sequential_16 (Sequential)  (None, 64, 64, 32)           27712     ['concatenate_6[0][0]']       \n",
      "                                                                                                  \n",
      " conv2d_transpose_7 (Conv2D  (None, 128, 128, 16)         2064      ['sequential_16[0][0]']       \n",
      " Transpose)                                                                                       \n",
      "                                                                                                  \n",
      " concatenate_7 (Concatenate  (None, 128, 128, 32)         0         ['conv2d_transpose_7[0][0]',  \n",
      " )                                                                   'sequential_9[0][0]']        \n",
      "                                                                                                  \n",
      " sequential_17 (Sequential)  (None, 128, 128, 16)         6944      ['concatenate_7[0][0]']       \n",
      "                                                                                                  \n",
      " conv2d_37 (Conv2D)          (None, 128, 128, 4)          68        ['sequential_17[0][0]']       \n",
      "                                                                                                  \n",
      "==================================================================================================\n",
      "Total params: 1941300 (7.41 MB)\n",
      "Trainable params: 1941300 (7.41 MB)\n",
      "Non-trainable params: 0 (0.00 Byte)\n",
      "__________________________________________________________________________________________________\n"
     ]
    }
   ],
   "source": [
    "elo.summary()"
   ]
  },
  {
   "cell_type": "code",
   "execution_count": 8,
   "metadata": {},
   "outputs": [],
   "source": [
    "import nibabel as nib\n",
    "import cv2\n",
    "\n",
    "t1 = cv2.resize(nib.load(f'{dataloader.extend_path_from_last_part(train_brains[0])}_t1.nii').get_fdata()[:, :, 70], (128, 128))\n",
    "t1ce = cv2.resize(nib.load(f'{dataloader.extend_path_from_last_part(train_brains[0])}_t1ce.nii').get_fdata()[:, :, 70], (128, 128))\n",
    "t2 = cv2.resize(nib.load(f'{dataloader.extend_path_from_last_part(train_brains[0])}_t2.nii').get_fdata()[:, :, 70], (128, 128))\n",
    "flair = cv2.resize(nib.load(f'{dataloader.extend_path_from_last_part(train_brains[0])}_flair.nii').get_fdata()[:, :, 70], (128, 128))\n",
    "seg = cv2.resize(nib.load(f'{dataloader.extend_path_from_last_part(train_brains[0])}_seg.nii').get_fdata()[:, :, 70], (128, 128))"
   ]
  },
  {
   "cell_type": "code",
   "execution_count": 10,
   "metadata": {},
   "outputs": [
    {
     "data": {
      "text/plain": [
       "(0.0, 463.55078125, 123.56214414473143)"
      ]
     },
     "execution_count": 10,
     "metadata": {},
     "output_type": "execute_result"
    }
   ],
   "source": [
    "np.min(t1), np.max(t1), np.std(t1)"
   ]
  },
  {
   "cell_type": "code",
   "execution_count": 11,
   "metadata": {},
   "outputs": [
    {
     "data": {
      "text/plain": [
       "(0.0, 168.70703125, 24.063296194642728)"
      ]
     },
     "execution_count": 11,
     "metadata": {},
     "output_type": "execute_result"
    }
   ],
   "source": [
    "np.min(t1ce), np.max(t1ce), np.std(t1ce)"
   ]
  },
  {
   "cell_type": "code",
   "execution_count": 12,
   "metadata": {},
   "outputs": [
    {
     "data": {
      "text/plain": [
       "(0.0, 1454.140625, 287.98824283570474)"
      ]
     },
     "execution_count": 12,
     "metadata": {},
     "output_type": "execute_result"
    }
   ],
   "source": [
    "np.min(t2), np.max(t2), np.std(t2)"
   ]
  },
  {
   "cell_type": "code",
   "execution_count": 13,
   "metadata": {},
   "outputs": [
    {
     "data": {
      "text/plain": [
       "(0.0, 325.97265625, 92.97123386792443)"
      ]
     },
     "execution_count": 13,
     "metadata": {},
     "output_type": "execute_result"
    }
   ],
   "source": [
    "np.min(flair), np.max(flair), np.std(flair)"
   ]
  },
  {
   "cell_type": "code",
   "execution_count": 14,
   "metadata": {},
   "outputs": [
    {
     "data": {
      "text/plain": [
       "(0.0, 4.0, 0.43565172693928583)"
      ]
     },
     "execution_count": 14,
     "metadata": {},
     "output_type": "execute_result"
    }
   ],
   "source": [
    "np.min(seg), np.max(seg), np.std(seg)"
   ]
  },
  {
   "cell_type": "code",
   "execution_count": 192,
   "metadata": {},
   "outputs": [],
   "source": [
    "seg = tf.one_hot(seg.reshape(1, 128, 128), 4, dtype=np.uint8)"
   ]
  },
  {
   "cell_type": "code",
   "execution_count": 193,
   "metadata": {},
   "outputs": [],
   "source": [
    "test = np.concatenate([np.expand_dims(t1, axis=-1), np.expand_dims(t1ce, axis=-1), np.expand_dims(t2, axis=-1), np.expand_dims(flair, axis=-1)], axis=-1)"
   ]
  },
  {
   "cell_type": "code",
   "execution_count": 194,
   "metadata": {},
   "outputs": [
    {
     "name": "stdout",
     "output_type": "stream",
     "text": [
      "1/1 [==============================] - 1s 1s/step\n"
     ]
    }
   ],
   "source": [
    "pred = model.predict(test.reshape(1, 128, 128, 4))"
   ]
  },
  {
   "cell_type": "code",
   "execution_count": 196,
   "metadata": {},
   "outputs": [],
   "source": [
    "import matplotlib.pyplot as plt"
   ]
  },
  {
   "cell_type": "code",
   "execution_count": 207,
   "metadata": {},
   "outputs": [
    {
     "data": {
      "text/plain": [
       "<matplotlib.image.AxesImage at 0x190d7511af0>"
      ]
     },
     "execution_count": 207,
     "metadata": {},
     "output_type": "execute_result"
    },
    {
     "data": {
      "image/png": "[encoded data removed]",
      "text/plain": [
       "<Figure size 432x288 with 1 Axes>"
      ]
     },
     "metadata": {
      "needs_background": "light"
     },
     "output_type": "display_data"
    }
   ],
   "source": [
    "plt.imshow(pred[0][:, :, 0])"
   ]
  },
  {
   "cell_type": "code",
   "execution_count": 131,
   "metadata": {},
   "outputs": [
    {
     "data": {
      "text/plain": [
       "<matplotlib.image.AxesImage at 0x2dac36aa970>"
      ]
     },
     "execution_count": 131,
     "metadata": {},
     "output_type": "execute_result"
    },
    {
     "data": {
      "image/png": "[encoded data removed]",
      "text/plain": [
       "<Figure size 432x288 with 1 Axes>"
      ]
     },
     "metadata": {
      "needs_background": "light"
     },
     "output_type": "display_data"
    }
   ],
   "source": [
    "import matplotlib.pyplot as plt\n",
    "plt.imshow(seg)"
   ]
  },
  {
   "cell_type": "code",
   "execution_count": 46,
   "metadata": {},
   "outputs": [
    {
     "data": {
      "text/plain": [
       "{'loss': [1.1112102270126343, 0.4273770749568939],\n",
       " 'accuracy': [0.643875777721405, 0.9611085057258606],\n",
       " 'one_hot_mean_io_u': [0.162858784198761, 0.2403409332036972],\n",
       " 'one_hot_io_u': [0.6442953944206238, 0.961113691329956],\n",
       " 'one_hot_io_u_1': [0.0, 0.0],\n",
       " 'one_hot_io_u_2': [0.007139731198549271, 0.0002500144182704389],\n",
       " 'one_hot_io_u_3': [0.0, 0.0],\n",
       " 'weighted_f1': [0.4888043701648712, 0.8008794784545898],\n",
       " 'precision': [1.0, 0.9833060503005981],\n",
       " 'precision_1': [0.0, 0.0],\n",
       " 'precision_2': [0.0, 0.0],\n",
       " 'precision_3': [0.0, 0.0],\n",
       " 'recall': [0.005293977912515402, 0.7690828442573547],\n",
       " 'recall_1': [0.0, 0.0],\n",
       " 'recall_2': [0.0, 0.0],\n",
       " 'recall_3': [0.0, 0.0],\n",
       " 'val_loss': [0.7661035656929016, 0.09657168388366699],\n",
       " 'val_accuracy': [0.9624722599983215, 0.9846280217170715],\n",
       " 'val_one_hot_mean_io_u': [0.24061806499958038, 0.24615700542926788],\n",
       " 'val_one_hot_io_u': [0.9624722599983215, 0.9846280217170715],\n",
       " 'val_one_hot_io_u_1': [0.0, 0.0],\n",
       " 'val_one_hot_io_u_2': [0.0, 0.0],\n",
       " 'val_one_hot_io_u_3': [0.0, 0.0],\n",
       " 'val_weighted_f1': [0.6338299512863159, 0.9673532843589783],\n",
       " 'val_precision': [0.9877117276191711, 0.9899000525474548],\n",
       " 'val_precision_1': [0.0, 0.0],\n",
       " 'val_precision_2': [0.0, 0.0],\n",
       " 'val_precision_3': [0.0, 0.0],\n",
       " 'val_recall': [0.307643860578537, 0.9875466823577881],\n",
       " 'val_recall_1': [0.0, 0.0],\n",
       " 'val_recall_2': [0.0, 0.0],\n",
       " 'val_recall_3': [0.0, 0.0]}"
      ]
     },
     "execution_count": 46,
     "metadata": {},
     "output_type": "execute_result"
    }
   ],
   "source": [
    "history.history"
   ]
  },
  {
   "cell_type": "code",
   "execution_count": 44,
   "metadata": {},
   "outputs": [
    {
     "name": "stdout",
     "output_type": "stream",
     "text": [
      "Epoch 1/2\n",
      "768/768 [==============================] - 3951s 5s/step - loss: 0.1080 - accuracy: 0.9780 - val_loss: 0.1126 - val_accuracy: 0.9794\n",
      "Epoch 2/2\n",
      "WARNING:tensorflow:Your input ran out of data; interrupting training. Make sure that your dataset or generator can generate at least `steps_per_epoch * epochs` batches (in this case, 1536 batches). You may need to use the repeat() function when building your dataset.\n",
      "768/768 [==============================] - 169s 220ms/step - loss: 0.0000e+00 - accuracy: 0.0000e+00 - val_loss: 0.1126 - val_accuracy: 0.9794\n"
     ]
    }
   ],
   "source": [
    "history = model.fit(train_dataset, epochs=1, steps_per_epoch=len(train_brains) * (dataloader.BRAIN_FRAMES//BATCH_SIZE), validation_data=val_dataset)"
   ]
  },
  {
   "cell_type": "code",
   "execution_count": 22,
   "metadata": {},
   "outputs": [
    {
     "name": "stdout",
     "output_type": "stream",
     "text": [
      "228/228 [==============================] - 195s 854ms/step - loss: 0.0924 - accuracy: 0.9782\n"
     ]
    },
    {
     "data": {
      "text/plain": [
       "[0.09240186959505081, 0.9781610369682312]"
      ]
     },
     "execution_count": 22,
     "metadata": {},
     "output_type": "execute_result"
    }
   ],
   "source": [
    "model.evaluate()"
   ]
  }
 ],
 "metadata": {
  "kernelspec": {
   "display_name": "Python 3",
   "language": "python",
   "name": "python3"
  },
  "language_info": {
   "codemirror_mode": {
    "name": "ipython",
    "version": 3
   },
   "file_extension": ".py",
   "mimetype": "text/x-python",
   "name": "python",
   "nbconvert_exporter": "python",
   "pygments_lexer": "ipython3",
   "version": "3.9.6"
  },
  "orig_nbformat": 4
 },
 "nbformat": 4,
 "nbformat_minor": 2
}
