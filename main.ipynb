{
 "cells": [
  {
   "cell_type": "code",
   "execution_count": 1,
   "metadata": {},
   "outputs": [
    {
     "name": "stderr",
     "output_type": "stream",
     "text": [
      "c:\\Users\\Dell\\AppData\\Local\\Programs\\Python\\Python39\\lib\\site-packages\\tensorflow_addons\\utils\\tfa_eol_msg.py:23: UserWarning: \n",
      "\n",
      "TensorFlow Addons (TFA) has ended development and introduction of new features.\n",
      "TFA has entered a minimal maintenance and release mode until a planned end of life in May 2024.\n",
      "Please modify downstream libraries to take dependencies from other repositories in our TensorFlow community (e.g. Keras, Keras-CV, and Keras-NLP). \n",
      "\n",
      "For more information see: https://github.com/tensorflow/addons/issues/2807 \n",
      "\n",
      "  warnings.warn(\n"
     ]
    },
    {
     "name": "stdout",
     "output_type": "stream",
     "text": [
      "Using TensorFlow backend\n"
     ]
    },
    {
     "name": "stderr",
     "output_type": "stream",
     "text": [
      "c:\\Users\\Dell\\AppData\\Local\\Programs\\Python\\Python39\\lib\\site-packages\\tqdm\\auto.py:21: TqdmWarning: IProgress not found. Please update jupyter and ipywidgets. See https://ipywidgets.readthedocs.io/en/stable/user_install.html\n",
      "  from .autonotebook import tqdm as notebook_tqdm\n"
     ]
    }
   ],
   "source": [
    "import tensorflow as tf\n",
    "import tensorflow_addons as tfa\n",
    "import numpy as np\n",
    "import os\n",
    "import dataloader\n",
    "import architecture\n",
    "import metrics\n",
    "import nibabel as nib\n",
    "import cv2\n",
    "import matplotlib.pyplot as plt"
   ]
  },
  {
   "cell_type": "code",
   "execution_count": 2,
   "metadata": {},
   "outputs": [],
   "source": [
    "ROOT_DIR = '.'\n",
    "DATA_DIR = 'BRATS_2018'\n",
    "LABELED_DIR = 'MICCAI_BraTS_2018_Data_Training'\n",
    "UNLABELED_DIR = 'MICCAI_BraTS_2018_Data_Validation'\n",
    "LABELED_PATH = os.path.join(ROOT_DIR, DATA_DIR, LABELED_DIR)\n",
    "UNLABELED_PATH = os.path.join(ROOT_DIR, DATA_DIR, UNLABELED_DIR)\n",
    "\n",
    "BATCH_SIZE = 32\n",
    "BRAIN_SLICES = 8\n",
    "NUM_CLASSES = 4\n",
    "X_DTYPE = np.float32\n",
    "Y_DTYPE = np.uint8\n",
    "MAX_VALUE = 32767"
   ]
  },
  {
   "cell_type": "code",
   "execution_count": 3,
   "metadata": {},
   "outputs": [],
   "source": [
    "paths, sizes = dataloader.load_dataset_paths(LABELED_PATH, UNLABELED_PATH)"
   ]
  },
  {
   "cell_type": "code",
   "execution_count": 4,
   "metadata": {},
   "outputs": [],
   "source": [
    "train_brains, val_brains, test_brains, unlabeled_brains = paths"
   ]
  },
  {
   "cell_type": "code",
   "execution_count": 5,
   "metadata": {},
   "outputs": [],
   "source": [
    "hgg_train_size, lgg_train_size, hgg_val_size, lgg_val_size = sizes "
   ]
  },
  {
   "cell_type": "code",
   "execution_count": 6,
   "metadata": {},
   "outputs": [
    {
     "data": {
      "text/plain": [
       "(142, 50)"
      ]
     },
     "execution_count": 6,
     "metadata": {},
     "output_type": "execute_result"
    }
   ],
   "source": [
    "hgg_train_size, lgg_train_size"
   ]
  },
  {
   "cell_type": "code",
   "execution_count": 9,
   "metadata": {},
   "outputs": [
    {
     "data": {
      "text/plain": [
       "(192, 49, 44)"
      ]
     },
     "execution_count": 9,
     "metadata": {},
     "output_type": "execute_result"
    }
   ],
   "source": [
    "len(train_brains), len(val_brains), len(test_brains)"
   ]
  },
  {
   "cell_type": "code",
   "execution_count": 8,
   "metadata": {},
   "outputs": [],
   "source": [
    "test_dataset = tf.data.Dataset.from_generator(dataloader.build_data_generator, output_signature=(\n",
    "    tf.TensorSpec(shape=(dataloader.BRAIN_FRAMES, dataloader.IMAGE_SIZE, dataloader.IMAGE_SIZE, dataloader.CHANNELS), dtype=X_DTYPE),\n",
    "    tf.TensorSpec(shape=(dataloader.BRAIN_FRAMES, dataloader.IMAGE_SIZE, dataloader.IMAGE_SIZE, NUM_CLASSES), dtype=Y_DTYPE)\n",
    "), args=[test_brains, MAX_VALUE, dataloader.BRAIN_FRAMES, 1, False, False, False, 0, hgg_train_size, lgg_train_size])"
   ]
  },
  {
   "cell_type": "code",
   "execution_count": 15,
   "metadata": {},
   "outputs": [
    {
     "name": "stdout",
     "output_type": "stream",
     "text": [
      "44/44 [==============================] - 173s 4s/step - loss: 0.9932 - accuracy: 0.2947 - one_hot_mean_io_u: 0.0778 - one_hot_io_u: 0.2948 - one_hot_io_u_1: 0.0087 - one_hot_io_u_2: 0.0045 - one_hot_io_u_3: 0.0034 - precision: 0.0000e+00 - precision_1: 0.0000e+00 - precision_2: 0.0000e+00 - precision_3: 0.0000e+00 - recall: 0.0000e+00 - recall_1: 0.0000e+00 - recall_2: 0.0000e+00 - recall_3: 0.0000e+00\n"
     ]
    },
    {
     "data": {
      "text/plain": [
       "[0.9932040572166443,\n",
       " 0.29465726017951965,\n",
       " 0.07784107327461243,\n",
       " 0.2947508692741394,\n",
       " 0.008732856251299381,\n",
       " 0.0044817146845161915,\n",
       " 0.003398865694180131,\n",
       " 0.0,\n",
       " 0.0,\n",
       " 0.0,\n",
       " 0.0,\n",
       " 0.0,\n",
       " 0.0,\n",
       " 0.0,\n",
       " 0.0]"
      ]
     },
     "execution_count": 15,
     "metadata": {},
     "output_type": "execute_result"
    }
   ],
   "source": [
    "model.evaluate(test_dataset)"
   ]
  },
  {
   "cell_type": "code",
   "execution_count": 8,
   "metadata": {},
   "outputs": [
    {
     "data": {
      "text/plain": [
       "(192, 49, 44, 66)"
      ]
     },
     "execution_count": 8,
     "metadata": {},
     "output_type": "execute_result"
    }
   ],
   "source": [
    "len(train_brains), len(val_brains), len(test_brains), len(unlabeled_brains)"
   ]
  },
  {
   "cell_type": "code",
   "execution_count": 8,
   "metadata": {},
   "outputs": [],
   "source": [
    "# all_brains = train_brains + val_brains + test_brains + unlabeled_brains"
   ]
  },
  {
   "cell_type": "code",
   "execution_count": 9,
   "metadata": {},
   "outputs": [],
   "source": [
    "# dataloader.find_max_per_channel(all_brains)"
   ]
  },
  {
   "cell_type": "markdown",
   "metadata": {},
   "source": [
    "Pobieranie warstwowo-losowe"
   ]
  },
  {
   "cell_type": "code",
   "execution_count": 7,
   "metadata": {},
   "outputs": [],
   "source": [
    "train_dataset = tf.data.Dataset.from_generator(dataloader.build_data_generator, output_signature=(\n",
    "    tf.TensorSpec(shape=(BATCH_SIZE, dataloader.IMAGE_SIZE, dataloader.IMAGE_SIZE, dataloader.CHANNELS), dtype=X_DTYPE),\n",
    "    tf.TensorSpec(shape=(BATCH_SIZE, dataloader.IMAGE_SIZE, dataloader.IMAGE_SIZE, NUM_CLASSES), dtype=Y_DTYPE)\n",
    "), args=[train_brains, MAX_VALUE, BATCH_SIZE, BRAIN_SLICES, True, True, False, 22, hgg_train_size, lgg_train_size])"
   ]
  },
  {
   "cell_type": "code",
   "execution_count": null,
   "metadata": {},
   "outputs": [],
   "source": [
    "for elem in train_dataset.take(1):\n",
    "    for i in range(BATCH_SIZE):\n",
    "        plt.imshow(elem[0][i, :, :, 0])\n",
    "        plt.show()\n",
    "        plt.imshow(elem[1][i, :, :, 1])\n",
    "        plt.show()"
   ]
  },
  {
   "cell_type": "code",
   "execution_count": 111,
   "metadata": {},
   "outputs": [],
   "source": [
    "from importlib import reload\n",
    "reload(dataloader)\n",
    "import dataloader"
   ]
  },
  {
   "cell_type": "markdown",
   "metadata": {},
   "source": [
    "Pobieranie losowe"
   ]
  },
  {
   "cell_type": "code",
   "execution_count": 38,
   "metadata": {},
   "outputs": [],
   "source": [
    "train_dataset = tf.data.Dataset.from_generator(dataloader.build_data_generator, output_signature=(\n",
    "    tf.TensorSpec(shape=(BATCH_SIZE, dataloader.IMAGE_SIZE, dataloader.IMAGE_SIZE, dataloader.CHANNELS), dtype=X_DTYPE),\n",
    "    tf.TensorSpec(shape=(BATCH_SIZE, dataloader.IMAGE_SIZE, dataloader.IMAGE_SIZE, NUM_CLASSES), dtype=Y_DTYPE)\n",
    "), args=[train_brains, MAX_VALUE, BATCH_SIZE, BRAIN_SLICES, True, False, False, 22, hgg_train_size, lgg_train_size])"
   ]
  },
  {
   "cell_type": "code",
   "execution_count": null,
   "metadata": {},
   "outputs": [],
   "source": [
    "for elem in train_dataset.take(1):\n",
    "    for i in range(0, BATCH_SIZE, 2):\n",
    "        plt.imshow(elem[0][i, :, :, 0])\n",
    "        plt.show()\n",
    "        plt.imshow(elem[1][i, :, :, 1])\n",
    "        plt.show()"
   ]
  },
  {
   "cell_type": "markdown",
   "metadata": {},
   "source": [
    "Pobieranie warstwowo-sekwencyjne"
   ]
  },
  {
   "cell_type": "code",
   "execution_count": 29,
   "metadata": {},
   "outputs": [],
   "source": [
    "from importlib import reload\n",
    "reload(dataloader)\n",
    "import dataloader"
   ]
  },
  {
   "cell_type": "code",
   "execution_count": 40,
   "metadata": {},
   "outputs": [],
   "source": [
    "train_dataset = tf.data.Dataset.from_generator(dataloader.build_data_generator, output_signature=(\n",
    "    tf.TensorSpec(shape=(BATCH_SIZE, dataloader.IMAGE_SIZE, dataloader.IMAGE_SIZE, dataloader.CHANNELS), dtype=X_DTYPE),\n",
    "    tf.TensorSpec(shape=(BATCH_SIZE, dataloader.IMAGE_SIZE, dataloader.IMAGE_SIZE, NUM_CLASSES), dtype=Y_DTYPE)\n",
    "), args=[train_brains, MAX_VALUE, BATCH_SIZE, BRAIN_SLICES, False, False, False, 22, hgg_train_size, lgg_train_size])"
   ]
  },
  {
   "cell_type": "code",
   "execution_count": null,
   "metadata": {},
   "outputs": [],
   "source": [
    "#from IPython.display import clear_output\n",
    "i = 0\n",
    "for elem in train_dataset.take(8):\n",
    "    clear_output(wait=True)\n",
    "    if i == 7:\n",
    "        for i in range(BATCH_SIZE):\n",
    "            plt.imshow(elem[0][i, :, :, 0])\n",
    "            plt.show()\n",
    "            plt.imshow(elem[1][i, :, :, 1])\n",
    "            plt.show()\n",
    "    i += 1"
   ]
  },
  {
   "cell_type": "markdown",
   "metadata": {},
   "source": [
    "Zbiór testowy"
   ]
  },
  {
   "cell_type": "code",
   "execution_count": 11,
   "metadata": {},
   "outputs": [
    {
     "name": "stdout",
     "output_type": "stream",
     "text": [
      "Counter({0: 110431511, 1: 689024, 3: 334433, 2: 283912})\n"
     ]
    }
   ],
   "source": [
    "from collections import Counter\n",
    "\n",
    "c = Counter()\n",
    "for path in test_brains:\n",
    "    path = dataloader.extend_path_from_last_part(path)\n",
    "    seg = nib.load(f'{path}_seg.nii').get_fdata(dtype=X_DTYPE)\n",
    "    batch_Y = np.zeros((dataloader.BRAIN_FRAMES, dataloader.IMAGE_SIZE, dataloader.IMAGE_SIZE), dtype=Y_DTYPE)\n",
    "    for i in range(dataloader.BRAIN_FRAMES):\n",
    "        y_map = dataloader.DataGenerator._map_labels(seg[:, :, i])\n",
    "        batch_Y[i, :, :] = cv2.resize(y_map, (dataloader.IMAGE_SIZE, dataloader.IMAGE_SIZE))\n",
    "    c.update(batch_Y.flatten())\n",
    "    \n",
    "print(c)"
   ]
  },
  {
   "cell_type": "code",
   "execution_count": 8,
   "metadata": {},
   "outputs": [
    {
     "name": "stdout",
     "output_type": "stream",
     "text": [
      "5/5 [==============================] - 5s 565ms/step\n"
     ]
    },
    {
     "name": "stderr",
     "output_type": "stream",
     "text": [
      "Traceback (most recent call last):\n",
      "  File \"_pydevd_bundle/pydevd_cython.pyx\", line 1078, in _pydevd_bundle.pydevd_cython.PyDBFrame.trace_dispatch\n",
      "  File \"_pydevd_bundle/pydevd_cython.pyx\", line 297, in _pydevd_bundle.pydevd_cython.PyDBFrame.do_wait_suspend\n",
      "  File \"c:\\Users\\Dell\\AppData\\Local\\Programs\\Python\\Python39\\lib\\site-packages\\debugpy\\_vendored\\pydevd\\pydevd.py\", line 1949, in do_wait_suspend\n",
      "    keep_suspended = self._do_wait_suspend(thread, frame, event, arg, suspend_type, from_this_thread, frames_tracker)\n",
      "  File \"c:\\Users\\Dell\\AppData\\Local\\Programs\\Python\\Python39\\lib\\site-packages\\debugpy\\_vendored\\pydevd\\pydevd.py\", line 1984, in _do_wait_suspend\n",
      "    time.sleep(0.01)\n",
      "KeyboardInterrupt\n"
     ]
    },
    {
     "ename": "KeyboardInterrupt",
     "evalue": "",
     "output_type": "error",
     "traceback": [
      "\u001b[1;31m---------------------------------------------------------------------------\u001b[0m",
      "\u001b[1;31mKeyboardInterrupt\u001b[0m                         Traceback (most recent call last)",
      "\u001b[1;32m~\\AppData\\Local\\Temp/ipykernel_13440/1554896790.py\u001b[0m in \u001b[0;36m<module>\u001b[1;34m\u001b[0m\n\u001b[0;32m     54\u001b[0m             \u001b[0miou_value\u001b[0m \u001b[1;33m=\u001b[0m \u001b[0miou_metric\u001b[0m\u001b[1;33m.\u001b[0m\u001b[0mresult\u001b[0m\u001b[1;33m(\u001b[0m\u001b[1;33m)\u001b[0m\u001b[1;33m.\u001b[0m\u001b[0mnumpy\u001b[0m\u001b[1;33m(\u001b[0m\u001b[1;33m)\u001b[0m\u001b[1;33m\u001b[0m\u001b[1;33m\u001b[0m\u001b[0m\n\u001b[0;32m     55\u001b[0m \u001b[1;33m\u001b[0m\u001b[0m\n\u001b[1;32m---> 56\u001b[1;33m             \u001b[1;32mif\u001b[0m \u001b[0mnp\u001b[0m\u001b[1;33m.\u001b[0m\u001b[0many\u001b[0m\u001b[1;33m(\u001b[0m\u001b[0mbatch_Y\u001b[0m\u001b[1;33m[\u001b[0m\u001b[0mframe_index\u001b[0m\u001b[1;33m,\u001b[0m \u001b[1;33m:\u001b[0m\u001b[1;33m,\u001b[0m \u001b[1;33m:\u001b[0m\u001b[1;33m,\u001b[0m \u001b[0mclass_index\u001b[0m\u001b[1;33m]\u001b[0m \u001b[1;33m==\u001b[0m \u001b[1;36m1\u001b[0m\u001b[1;33m)\u001b[0m \u001b[1;32mor\u001b[0m \u001b[0mnp\u001b[0m\u001b[1;33m.\u001b[0m\u001b[0many\u001b[0m\u001b[1;33m(\u001b[0m\u001b[0my_pred\u001b[0m\u001b[1;33m[\u001b[0m\u001b[0mframe_index\u001b[0m\u001b[1;33m,\u001b[0m \u001b[1;33m:\u001b[0m\u001b[1;33m,\u001b[0m \u001b[1;33m:\u001b[0m\u001b[1;33m,\u001b[0m \u001b[0mclass_index\u001b[0m\u001b[1;33m]\u001b[0m \u001b[1;33m>\u001b[0m \u001b[1;36m0.5\u001b[0m\u001b[1;33m)\u001b[0m\u001b[1;33m:\u001b[0m\u001b[1;33m\u001b[0m\u001b[1;33m\u001b[0m\u001b[0m\n\u001b[0m\u001b[0;32m     57\u001b[0m                 \u001b[0mis_class_frames\u001b[0m \u001b[1;33m=\u001b[0m \u001b[1;32mTrue\u001b[0m\u001b[1;33m\u001b[0m\u001b[1;33m\u001b[0m\u001b[0m\n\u001b[0;32m     58\u001b[0m \u001b[1;33m\u001b[0m\u001b[0m\n",
      "\u001b[1;32m~\\AppData\\Local\\Temp/ipykernel_13440/1554896790.py\u001b[0m in \u001b[0;36m<module>\u001b[1;34m\u001b[0m\n\u001b[0;32m     54\u001b[0m             \u001b[0miou_value\u001b[0m \u001b[1;33m=\u001b[0m \u001b[0miou_metric\u001b[0m\u001b[1;33m.\u001b[0m\u001b[0mresult\u001b[0m\u001b[1;33m(\u001b[0m\u001b[1;33m)\u001b[0m\u001b[1;33m.\u001b[0m\u001b[0mnumpy\u001b[0m\u001b[1;33m(\u001b[0m\u001b[1;33m)\u001b[0m\u001b[1;33m\u001b[0m\u001b[1;33m\u001b[0m\u001b[0m\n\u001b[0;32m     55\u001b[0m \u001b[1;33m\u001b[0m\u001b[0m\n\u001b[1;32m---> 56\u001b[1;33m             \u001b[1;32mif\u001b[0m \u001b[0mnp\u001b[0m\u001b[1;33m.\u001b[0m\u001b[0many\u001b[0m\u001b[1;33m(\u001b[0m\u001b[0mbatch_Y\u001b[0m\u001b[1;33m[\u001b[0m\u001b[0mframe_index\u001b[0m\u001b[1;33m,\u001b[0m \u001b[1;33m:\u001b[0m\u001b[1;33m,\u001b[0m \u001b[1;33m:\u001b[0m\u001b[1;33m,\u001b[0m \u001b[0mclass_index\u001b[0m\u001b[1;33m]\u001b[0m \u001b[1;33m==\u001b[0m \u001b[1;36m1\u001b[0m\u001b[1;33m)\u001b[0m \u001b[1;32mor\u001b[0m \u001b[0mnp\u001b[0m\u001b[1;33m.\u001b[0m\u001b[0many\u001b[0m\u001b[1;33m(\u001b[0m\u001b[0my_pred\u001b[0m\u001b[1;33m[\u001b[0m\u001b[0mframe_index\u001b[0m\u001b[1;33m,\u001b[0m \u001b[1;33m:\u001b[0m\u001b[1;33m,\u001b[0m \u001b[1;33m:\u001b[0m\u001b[1;33m,\u001b[0m \u001b[0mclass_index\u001b[0m\u001b[1;33m]\u001b[0m \u001b[1;33m>\u001b[0m \u001b[1;36m0.5\u001b[0m\u001b[1;33m)\u001b[0m\u001b[1;33m:\u001b[0m\u001b[1;33m\u001b[0m\u001b[1;33m\u001b[0m\u001b[0m\n\u001b[0m\u001b[0;32m     57\u001b[0m                 \u001b[0mis_class_frames\u001b[0m \u001b[1;33m=\u001b[0m \u001b[1;32mTrue\u001b[0m\u001b[1;33m\u001b[0m\u001b[1;33m\u001b[0m\u001b[0m\n\u001b[0;32m     58\u001b[0m \u001b[1;33m\u001b[0m\u001b[0m\n",
      "\u001b[1;32m_pydevd_bundle/pydevd_cython.pyx\u001b[0m in \u001b[0;36m_pydevd_bundle.pydevd_cython.SafeCallWrapper.__call__\u001b[1;34m()\u001b[0m\n",
      "\u001b[1;32m_pydevd_bundle/pydevd_cython.pyx\u001b[0m in \u001b[0;36m_pydevd_bundle.pydevd_cython.PyDBFrame.trace_dispatch\u001b[1;34m()\u001b[0m\n",
      "\u001b[1;32m_pydevd_bundle/pydevd_cython.pyx\u001b[0m in \u001b[0;36m_pydevd_bundle.pydevd_cython.PyDBFrame.trace_dispatch\u001b[1;34m()\u001b[0m\n",
      "\u001b[1;32m_pydevd_bundle/pydevd_cython.pyx\u001b[0m in \u001b[0;36m_pydevd_bundle.pydevd_cython.PyDBFrame.trace_dispatch\u001b[1;34m()\u001b[0m\n",
      "\u001b[1;32m_pydevd_bundle/pydevd_cython.pyx\u001b[0m in \u001b[0;36m_pydevd_bundle.pydevd_cython.PyDBFrame.do_wait_suspend\u001b[1;34m()\u001b[0m\n",
      "\u001b[1;32mc:\\Users\\Dell\\AppData\\Local\\Programs\\Python\\Python39\\lib\\site-packages\\debugpy\\_vendored\\pydevd\\pydevd.py\u001b[0m in \u001b[0;36mdo_wait_suspend\u001b[1;34m(self, thread, frame, event, arg, exception_type)\u001b[0m\n\u001b[0;32m   1947\u001b[0m \u001b[1;33m\u001b[0m\u001b[0m\n\u001b[0;32m   1948\u001b[0m             \u001b[1;32mwith\u001b[0m \u001b[0mself\u001b[0m\u001b[1;33m.\u001b[0m\u001b[0m_threads_suspended_single_notification\u001b[0m\u001b[1;33m.\u001b[0m\u001b[0mnotify_thread_suspended\u001b[0m\u001b[1;33m(\u001b[0m\u001b[0mthread_id\u001b[0m\u001b[1;33m,\u001b[0m \u001b[0mstop_reason\u001b[0m\u001b[1;33m)\u001b[0m\u001b[1;33m:\u001b[0m\u001b[1;33m\u001b[0m\u001b[1;33m\u001b[0m\u001b[0m\n\u001b[1;32m-> 1949\u001b[1;33m                 \u001b[0mkeep_suspended\u001b[0m \u001b[1;33m=\u001b[0m \u001b[0mself\u001b[0m\u001b[1;33m.\u001b[0m\u001b[0m_do_wait_suspend\u001b[0m\u001b[1;33m(\u001b[0m\u001b[0mthread\u001b[0m\u001b[1;33m,\u001b[0m \u001b[0mframe\u001b[0m\u001b[1;33m,\u001b[0m \u001b[0mevent\u001b[0m\u001b[1;33m,\u001b[0m \u001b[0marg\u001b[0m\u001b[1;33m,\u001b[0m \u001b[0msuspend_type\u001b[0m\u001b[1;33m,\u001b[0m \u001b[0mfrom_this_thread\u001b[0m\u001b[1;33m,\u001b[0m \u001b[0mframes_tracker\u001b[0m\u001b[1;33m)\u001b[0m\u001b[1;33m\u001b[0m\u001b[1;33m\u001b[0m\u001b[0m\n\u001b[0m\u001b[0;32m   1950\u001b[0m \u001b[1;33m\u001b[0m\u001b[0m\n\u001b[0;32m   1951\u001b[0m         \u001b[0mframes_list\u001b[0m \u001b[1;33m=\u001b[0m \u001b[1;32mNone\u001b[0m\u001b[1;33m\u001b[0m\u001b[1;33m\u001b[0m\u001b[0m\n",
      "\u001b[1;32mc:\\Users\\Dell\\AppData\\Local\\Programs\\Python\\Python39\\lib\\site-packages\\debugpy\\_vendored\\pydevd\\pydevd.py\u001b[0m in \u001b[0;36m_do_wait_suspend\u001b[1;34m(self, thread, frame, event, arg, suspend_type, from_this_thread, frames_tracker)\u001b[0m\n\u001b[0;32m   1982\u001b[0m \u001b[1;33m\u001b[0m\u001b[0m\n\u001b[0;32m   1983\u001b[0m             \u001b[0mself\u001b[0m\u001b[1;33m.\u001b[0m\u001b[0mprocess_internal_commands\u001b[0m\u001b[1;33m(\u001b[0m\u001b[1;33m)\u001b[0m\u001b[1;33m\u001b[0m\u001b[1;33m\u001b[0m\u001b[0m\n\u001b[1;32m-> 1984\u001b[1;33m             \u001b[0mtime\u001b[0m\u001b[1;33m.\u001b[0m\u001b[0msleep\u001b[0m\u001b[1;33m(\u001b[0m\u001b[1;36m0.01\u001b[0m\u001b[1;33m)\u001b[0m\u001b[1;33m\u001b[0m\u001b[1;33m\u001b[0m\u001b[0m\n\u001b[0m\u001b[0;32m   1985\u001b[0m \u001b[1;33m\u001b[0m\u001b[0m\n\u001b[0;32m   1986\u001b[0m         \u001b[0mself\u001b[0m\u001b[1;33m.\u001b[0m\u001b[0mcancel_async_evaluation\u001b[0m\u001b[1;33m(\u001b[0m\u001b[0mget_current_thread_id\u001b[0m\u001b[1;33m(\u001b[0m\u001b[0mthread\u001b[0m\u001b[1;33m)\u001b[0m\u001b[1;33m,\u001b[0m \u001b[0mstr\u001b[0m\u001b[1;33m(\u001b[0m\u001b[0mid\u001b[0m\u001b[1;33m(\u001b[0m\u001b[0mframe\u001b[0m\u001b[1;33m)\u001b[0m\u001b[1;33m)\u001b[0m\u001b[1;33m)\u001b[0m\u001b[1;33m\u001b[0m\u001b[1;33m\u001b[0m\u001b[0m\n",
      "\u001b[1;31mKeyboardInterrupt\u001b[0m: "
     ]
    }
   ],
   "source": [
    "from sklearn.metrics import roc_curve\n",
    "import nibabel as nib\n",
    "import cv2\n",
    "\n",
    "iou_zero, iou_edema, iou_core, iou_necrotic = [], [], [], []\n",
    "calculate_roc = False\n",
    "global_iou_0 = tf.keras.metrics.OneHotIoU(NUM_CLASSES, [0])\n",
    "global_iou_1 = tf.keras.metrics.OneHotIoU(NUM_CLASSES, [1])\n",
    "global_iou_2 = tf.keras.metrics.OneHotIoU(NUM_CLASSES, [2])\n",
    "global_iou_3 = tf.keras.metrics.OneHotIoU(NUM_CLASSES, [3])\n",
    "\n",
    "if calculate_roc:\n",
    "    roc_curves = []\n",
    "    common_fpr = np.linspace(0, 1, 100)\n",
    "    mean_tpr = {f'class_{i}': np.zeros_like(common_fpr) for i in range(4)}\n",
    "    curve_counter = {0: 0, 1: 0, 2: 0, 3: 0}\n",
    "\n",
    "for path in test_brains:\n",
    "    path = dataloader.extend_path_from_last_part(path)\n",
    "    t1 = nib.load(f'{path}_t1.nii').get_fdata(dtype=X_DTYPE)\n",
    "    t1ce = nib.load(f'{path}_t1ce.nii').get_fdata(dtype=X_DTYPE)\n",
    "    t2 = nib.load(f'{path}_t2.nii').get_fdata(dtype=X_DTYPE)\n",
    "    flair = nib.load(f'{path}_flair.nii').get_fdata(dtype=X_DTYPE)\n",
    "    seg = nib.load(f'{path}_seg.nii').get_fdata(dtype=X_DTYPE)\n",
    "\n",
    "    batch_X = np.zeros((dataloader.BRAIN_FRAMES, dataloader.IMAGE_SIZE, dataloader.IMAGE_SIZE, dataloader.CHANNELS), dtype=X_DTYPE)\n",
    "    batch_Y = np.zeros((dataloader.BRAIN_FRAMES, dataloader.IMAGE_SIZE, dataloader.IMAGE_SIZE), dtype=Y_DTYPE)\n",
    "\n",
    "    for i in range(dataloader.BRAIN_FRAMES):\n",
    "        batch_X[i, :, :, 0] = cv2.resize(t1[:, :, i], (dataloader.IMAGE_SIZE, dataloader.IMAGE_SIZE))\n",
    "        batch_X[i, :, :, 1] = cv2.resize(t1ce[:, :, i], (dataloader.IMAGE_SIZE, dataloader.IMAGE_SIZE))\n",
    "        batch_X[i, :, :, 2] = cv2.resize(t2[:, :, i], (dataloader.IMAGE_SIZE, dataloader.IMAGE_SIZE))\n",
    "        batch_X[i, :, :, 3] = cv2.resize(flair[:, :, i], (dataloader.IMAGE_SIZE, dataloader.IMAGE_SIZE))\n",
    "        y_map = dataloader.DataGenerator._map_labels(seg[:, :, i])\n",
    "        batch_Y[i, :, :] = cv2.resize(y_map, (dataloader.IMAGE_SIZE, dataloader.IMAGE_SIZE))\n",
    "\n",
    "    batch_Y = tf.one_hot(batch_Y, 4, dtype=Y_DTYPE)\n",
    "    batch_X = batch_X/MAX_VALUE\n",
    "\n",
    "    y_pred = model.predict(batch_X)\n",
    "    \n",
    "    global_iou_0.update_state(batch_Y, y_pred)\n",
    "    global_iou_1.update_state(batch_Y, y_pred)\n",
    "    global_iou_2.update_state(batch_Y, y_pred)\n",
    "    global_iou_3.update_state(batch_Y, y_pred)\n",
    "    \n",
    "    # Obliczanie IoU dla każdej klasy\n",
    "    for frame_index in range(dataloader.BRAIN_FRAMES):\n",
    "        \n",
    "        for class_index in range(4):\n",
    "            \n",
    "            iou_metric = tf.keras.metrics.OneHotIoU(NUM_CLASSES, [class_index])\n",
    "            iou_metric.update_state(batch_Y[frame_index], y_pred[frame_index])\n",
    "            iou_value = iou_metric.result().numpy()\n",
    "            \n",
    "            if np.any(batch_Y[frame_index, :, :, class_index] == 1) or np.any(y_pred[frame_index, :, :, class_index] > 0.5):\n",
    "                is_class_frames = True\n",
    "                \n",
    "            if calculate_roc:\n",
    "                fpr, tpr, _ = roc_curve(y_true[frame_index].flatten(), y_pred[frame_index, :, :, class_index].flatten())\n",
    "                mean_tpr[f'class_{class_index}'] += np.interp(common_fpr, fpr, tpr)\n",
    "                curve_counter[class_index] += 1\n",
    "\n",
    "            if class_index == 0:\n",
    "                if is_class_frames:\n",
    "                    iou_zero.append(iou_value)\n",
    "                else:\n",
    "                    iou_zero.append(np.nan)\n",
    "            elif class_index == 1:\n",
    "                if is_class_frames:\n",
    "                    iou_edema.append(iou_value)\n",
    "                else:\n",
    "                    iou_edema.append(np.nan)\n",
    "            elif class_index == 2:\n",
    "                if is_class_frames:\n",
    "                    iou_core.append(iou_value)\n",
    "                else:\n",
    "                    iou_core.append(np.nan)\n",
    "            elif class_index == 3:\n",
    "                if is_class_frames:\n",
    "                    iou_necrotic.append(iou_value)\n",
    "                else:\n",
    "                    iou_necrotic.append(np.nan)\n",
    "                    \n",
    "            is_class_frames = False\n",
    "\n",
    "if calculate_roc:\n",
    "    for class_index in range(4):\n",
    "        mean_tpr[f'class_{class_index}'] /= curve_counter[class_index]\n",
    "        roc_curves.append(mean_tpr[f'class_{class_index}'])"
   ]
  },
  {
   "cell_type": "code",
   "execution_count": 91,
   "metadata": {},
   "outputs": [
    {
     "data": {
      "text/plain": [
       "[<matplotlib.lines.Line2D at 0x1e4529deca0>]"
      ]
     },
     "execution_count": 91,
     "metadata": {},
     "output_type": "execute_result"
    },
    {
     "data": {
      "image/png": "[encoded data removed]",
      "text/plain": [
       "<Figure size 432x288 with 1 Axes>"
      ]
     },
     "metadata": {
      "needs_background": "light"
     },
     "output_type": "display_data"
    }
   ],
   "source": [
    "auc_0 = auc(common_fpr, mean_tpr['class_0'])\n",
    "plt.plot(common_fpr, roc_curves[4][0], label=f'AUC {auc_0}')"
   ]
  },
  {
   "cell_type": "code",
   "execution_count": 82,
   "metadata": {},
   "outputs": [
    {
     "data": {
      "text/plain": [
       "(array([892., 606., 521., 386., 278., 147.,  65.,  66.,  12.,  18.]),\n",
       " array([6.1035156e-05, 1.1206055e-02, 2.2351075e-02, 3.3496093e-02,\n",
       "        4.4641115e-02, 5.5786133e-02, 6.6931151e-02, 7.8076169e-02,\n",
       "        8.9221194e-02, 1.0036621e-01, 1.1151123e-01], dtype=float32),\n",
       " <BarContainer object of 10 artists>)"
      ]
     },
     "execution_count": 82,
     "metadata": {},
     "output_type": "execute_result"
    },
    {
     "data": {
      "image/png": "[encoded data removed]",
      "text/plain": [
       "<Figure size 432x288 with 1 Axes>"
      ]
     },
     "metadata": {
      "needs_background": "light"
     },
     "output_type": "display_data"
    }
   ],
   "source": [
    "plt.hist(iou_zero)"
   ]
  },
  {
   "cell_type": "code",
   "execution_count": 12,
   "metadata": {},
   "outputs": [],
   "source": [
    "train_dataset = train_dataset.repeat().prefetch(tf.data.AUTOTUNE)"
   ]
  },
  {
   "cell_type": "code",
   "execution_count": 13,
   "metadata": {},
   "outputs": [],
   "source": [
    "val_dataset = val_dataset.repeat().prefetch(tf.data.AUTOTUNE)"
   ]
  },
  {
   "cell_type": "code",
   "execution_count": 11,
   "metadata": {},
   "outputs": [],
   "source": [
    "from keras import backend as K"
   ]
  },
  {
   "cell_type": "markdown",
   "metadata": {},
   "source": [
    "Wagi"
   ]
  },
  {
   "cell_type": "code",
   "execution_count": null,
   "metadata": {},
   "outputs": [],
   "source": [
    "poczatkowe_wagi = [0.00109971, 0.1458139, 0.5603247, 0.29276177]\n",
    "globalne_wagi = [0.0009861144231586266, 0.15070848323856192, 0.45178135170878747, 0.3965240506294919]\n",
    "matched_wagi_8s_22 = [0.00106513, 0.11376679, 0.36450973, 0.27065834]\n",
    "matched_wagi_9s_22 = [0.00090662, 0.11002847, 0.35678837, 0.28227642]"
   ]
  },
  {
   "cell_type": "code",
   "execution_count": 18,
   "metadata": {},
   "outputs": [
    {
     "name": "stdout",
     "output_type": "stream",
     "text": [
      "tf.Tensor([0.00106513 0.11376679 0.36450973 0.27065834], shape=(4,), dtype=float32)\n"
     ]
    }
   ],
   "source": [
    "train_test_dataset = tf.data.Dataset.from_generator(dataloader.build_data_generator, output_signature=(\n",
    "    tf.TensorSpec(shape=(BATCH_SIZE, dataloader.IMAGE_SIZE, dataloader.IMAGE_SIZE, dataloader.CHANNELS), dtype=X_DTYPE),\n",
    "    tf.TensorSpec(shape=(BATCH_SIZE, dataloader.IMAGE_SIZE, dataloader.IMAGE_SIZE, NUM_CLASSES), dtype=X_DTYPE)\n",
    "), args=[train_brains, MAX_VALUE, BATCH_SIZE, 8, True, True, False, 22, hgg_train_size, lgg_train_size])\n",
    "\n",
    "w = 0\n",
    "for elem in train_test_dataset.take(len(train_brains) * (dataloader.BRAIN_FRAMES//BATCH_SIZE)):\n",
    "    class_counts = K.sum(elem[1], axis=[0, 1, 2])\n",
    "    class_weights = tf.math.reciprocal(class_counts)\n",
    "    class_weights = np.nan_to_num(class_weights.numpy())\n",
    "\n",
    "    w += class_weights/K.sum(class_weights, keepdims=True)\n",
    "\n",
    "print(w/(len(train_brains) * (dataloader.BRAIN_FRAMES//BATCH_SIZE)))"
   ]
  },
  {
   "cell_type": "code",
   "execution_count": 12,
   "metadata": {},
   "outputs": [
    {
     "name": "stdout",
     "output_type": "stream",
     "text": [
      "tf.Tensor([0.00090662 0.11002847 0.35678837 0.28227642], shape=(4,), dtype=float32)\n"
     ]
    }
   ],
   "source": [
    "train_test_dataset = tf.data.Dataset.from_generator(dataloader.build_data_generator, output_signature=(\n",
    "    tf.TensorSpec(shape=(BATCH_SIZE, dataloader.IMAGE_SIZE, dataloader.IMAGE_SIZE, dataloader.CHANNELS), dtype=X_DTYPE),\n",
    "    tf.TensorSpec(shape=(BATCH_SIZE, dataloader.IMAGE_SIZE, dataloader.IMAGE_SIZE, NUM_CLASSES), dtype=X_DTYPE)\n",
    "), args=[train_brains, MAX_VALUE, BATCH_SIZE, 9, True, True, False, 22, hgg_train_size, lgg_train_size])\n",
    "\n",
    "w = 0\n",
    "for elem in train_test_dataset.take(len(train_brains) * (dataloader.BRAIN_FRAMES//BATCH_SIZE)):\n",
    "    class_counts = K.sum(elem[1], axis=[0, 1, 2])\n",
    "    class_weights = tf.math.reciprocal(class_counts)\n",
    "    class_weights = np.nan_to_num(class_weights.numpy())\n",
    "\n",
    "    w += class_weights/K.sum(class_weights, keepdims=True)\n",
    "\n",
    "print(w/(len(train_brains) * (dataloader.BRAIN_FRAMES//BATCH_SIZE)))"
   ]
  },
  {
   "cell_type": "code",
   "execution_count": 10,
   "metadata": {},
   "outputs": [],
   "source": [
    "import nibabel as nib\n",
    "import cv2\n",
    "\n",
    "from collections import Counter\n",
    "\n",
    "c = Counter()\n",
    "\n",
    "for path in train_brains:\n",
    "    path = dataloader.extend_path_from_last_part(path)\n",
    "    seg = nib.load(f'{path}_seg.nii').get_fdata(dtype=X_DTYPE)\n",
    "\n",
    "    batch_Y = np.zeros((dataloader.BRAIN_FRAMES, dataloader.IMAGE_SIZE, dataloader.IMAGE_SIZE), dtype=Y_DTYPE)\n",
    "\n",
    "    for i in range(dataloader.BRAIN_FRAMES):\n",
    "        y_map = dataloader.DataGenerator._map_labels(seg[:, :, i])\n",
    "        batch_Y[i, :, :] = cv2.resize(y_map, (dataloader.IMAGE_SIZE, dataloader.IMAGE_SIZE))\n",
    "\n",
    "    c.update(batch_Y.flatten())    "
   ]
  },
  {
   "cell_type": "code",
   "execution_count": 11,
   "metadata": {},
   "outputs": [
    {
     "data": {
      "text/plain": [
       "Counter({0: 482181232, 1: 3155004, 2: 1052469, 3: 1199135})"
      ]
     },
     "execution_count": 11,
     "metadata": {},
     "output_type": "execute_result"
    }
   ],
   "source": [
    "c"
   ]
  },
  {
   "cell_type": "code",
   "execution_count": 4,
   "metadata": {},
   "outputs": [
    {
     "name": "stdout",
     "output_type": "stream",
     "text": [
      "0.0009861144231586264\n",
      "0.15070848323856195\n",
      "0.45178135170878747\n",
      "0.396524050629492\n"
     ]
    }
   ],
   "source": [
    "elo = 1/482181232, 1/3155004, 1/1052469, 1/1199135\n",
    "elo_sum = sum(elo)\n",
    "for elem in elo:\n",
    "    print(elem/elo_sum)"
   ]
  },
  {
   "cell_type": "code",
   "execution_count": 21,
   "metadata": {},
   "outputs": [
    {
     "name": "stdout",
     "output_type": "stream",
     "text": [
      "[0.0009861144231586266, 0.15070848323856192, 0.45178135170878747, 0.3965240506294919]\n"
     ]
    }
   ],
   "source": [
    "w = [0] * 4\n",
    "w_recip_sum = 0\n",
    "for class_index, class_count in c.items():\n",
    "    w_recip = 1 / class_count\n",
    "    w[class_index] = w_recip\n",
    "    w_recip_sum += w_recip\n",
    "w = [elem / w_recip_sum for elem in w]\n",
    "print(w)"
   ]
  },
  {
   "cell_type": "code",
   "execution_count": 174,
   "metadata": {},
   "outputs": [
    {
     "name": "stdout",
     "output_type": "stream",
     "text": [
      "tf.Tensor([0.00109971 0.1458139  0.5603247  0.29276177], shape=(4,), dtype=float32)\n"
     ]
    }
   ],
   "source": [
    "w = 0\n",
    "for elem in train_dataset.take(len(train_brains) * (dataloader.BRAIN_FRAMES//BATCH_SIZE)):\n",
    "    class_counts = K.sum(elem[1], axis=[0, 1, 2])\n",
    "    class_weights = tf.math.reciprocal(class_counts)\n",
    "\n",
    "    w += class_weights/K.sum(class_weights, keepdims=True)\n",
    "print(w/(len(train_brains) * (dataloader.BRAIN_FRAMES//BATCH_SIZE)))"
   ]
  },
  {
   "cell_type": "code",
   "execution_count": 99,
   "metadata": {},
   "outputs": [
    {
     "data": {
      "image/png": "[encoded data removed]",
      "text/plain": [
       "<Figure size 432x288 with 1 Axes>"
      ]
     },
     "metadata": {
      "needs_background": "light"
     },
     "output_type": "display_data"
    },
    {
     "data": {
      "image/png": "[encoded data removed]",
      "text/plain": [
       "<Figure size 432x288 with 1 Axes>"
      ]
     },
     "metadata": {
      "needs_background": "light"
     },
     "output_type": "display_data"
    }
   ],
   "source": [
    "for elem in train_dataset.take(1):\n",
    "    plt.imshow(elem[0][16, :, :, 0])\n",
    "    plt.show()\n",
    "    elo = tf.argmax(elem[1][16, :, :, :], axis=-1)\n",
    "    plt.imshow(elo)\n",
    "    plt.show()"
   ]
  },
  {
   "cell_type": "code",
   "execution_count": 70,
   "metadata": {},
   "outputs": [],
   "source": [
    "class_weights = tf.math.reciprocal(np.array([518359, 3426, 993, 1510], dtype=np.float32))"
   ]
  },
  {
   "cell_type": "code",
   "execution_count": 71,
   "metadata": {},
   "outputs": [
    {
     "data": {
      "text/plain": [
       "<tf.Tensor: shape=(4,), dtype=float32, numpy=\n",
       "array([1.9291649e-06, 2.9188558e-04, 1.0070493e-03, 6.6225167e-04],\n",
       "      dtype=float32)>"
      ]
     },
     "execution_count": 71,
     "metadata": {},
     "output_type": "execute_result"
    }
   ],
   "source": [
    "class_weights"
   ]
  },
  {
   "cell_type": "code",
   "execution_count": 173,
   "metadata": {},
   "outputs": [
    {
     "data": {
      "text/plain": [
       "<tf.Tensor: shape=(4,), dtype=float32, numpy=array([0.00098271, 0.14868484, 0.5129852 , 0.33734724], dtype=float32)>"
      ]
     },
     "execution_count": 173,
     "metadata": {},
     "output_type": "execute_result"
    }
   ],
   "source": [
    "new_class_weights = class_weights/tf.reduce_sum(class_weights, keepdims=True)\n",
    "new_class_weights"
   ]
  },
  {
   "cell_type": "code",
   "execution_count": 115,
   "metadata": {},
   "outputs": [
    {
     "data": {
      "image/png": "[encoded data removed]",
      "text/plain": [
       "<Figure size 432x288 with 1 Axes>"
      ]
     },
     "metadata": {
      "needs_background": "light"
     },
     "output_type": "display_data"
    }
   ],
   "source": [
    "import matplotlib.pyplot as plt\n",
    "plt.imshow(seg[0, :, :, 2])\n",
    "plt.show()"
   ]
  },
  {
   "cell_type": "code",
   "execution_count": null,
   "metadata": {},
   "outputs": [],
   "source": [
    "# Z losowaniem - 3.5s bez - 0.2s"
   ]
  },
  {
   "cell_type": "code",
   "execution_count": 12,
   "metadata": {},
   "outputs": [],
   "source": [
    "from importlib import reload\n",
    "reload(architecture)\n",
    "import architecture"
   ]
  },
  {
   "cell_type": "code",
   "execution_count": 7,
   "metadata": {},
   "outputs": [],
   "source": [
    "model = architecture.build_model((dataloader.IMAGE_SIZE, dataloader.IMAGE_SIZE, dataloader.CHANNELS), NUM_CLASSES)"
   ]
  },
  {
   "cell_type": "code",
   "execution_count": 13,
   "metadata": {},
   "outputs": [],
   "source": [
    "model = architecture.build_diunet((dataloader.IMAGE_SIZE, dataloader.IMAGE_SIZE, dataloader.CHANNELS), NUM_CLASSES)"
   ]
  },
  {
   "cell_type": "code",
   "execution_count": 14,
   "metadata": {},
   "outputs": [
    {
     "name": "stdout",
     "output_type": "stream",
     "text": [
      "Model: \"model_2\"\n",
      "__________________________________________________________________________________________________\n",
      " Layer (type)                Output Shape                 Param #   Connected to                  \n",
      "==================================================================================================\n",
      " input_5 (InputLayer)        [(None, 128, 128, 4)]        0         []                            \n",
      "                                                                                                  \n",
      " conv2d_370 (Conv2D)         (None, 128, 128, 10)         50        ['input_5[0][0]']             \n",
      "                                                                                                  \n",
      " leaky_re_lu_378 (LeakyReLU  (None, 128, 128, 10)         0         ['conv2d_370[0][0]']          \n",
      " )                                                                                                \n",
      "                                                                                                  \n",
      " conv2d_371 (Conv2D)         (None, 128, 128, 10)         310       ['leaky_re_lu_378[0][0]']     \n",
      "                                                                                                  \n",
      " batch_normalization_273 (B  (None, 128, 128, 10)         40        ['conv2d_371[0][0]']          \n",
      " atchNormalization)                                                                               \n",
      "                                                                                                  \n",
      " max_pooling2d_51 (MaxPooli  (None, 128, 128, 4)          0         ['input_5[0][0]']             \n",
      " ng2D)                                                                                            \n",
      "                                                                                                  \n",
      " leaky_re_lu_379 (LeakyReLU  (None, 128, 128, 10)         0         ['batch_normalization_273[0][0\n",
      " )                                                                  ]']                           \n",
      "                                                                                                  \n",
      " conv2d_368 (Conv2D)         (None, 128, 128, 10)         50        ['input_5[0][0]']             \n",
      "                                                                                                  \n",
      " conv2d_369 (Conv2D)         (None, 128, 128, 10)         50        ['max_pooling2d_51[0][0]']    \n",
      "                                                                                                  \n",
      " conv2d_372 (Conv2D)         (None, 128, 128, 10)         310       ['leaky_re_lu_379[0][0]']     \n",
      "                                                                                                  \n",
      " batch_normalization_271 (B  (None, 128, 128, 10)         40        ['conv2d_368[0][0]']          \n",
      " atchNormalization)                                                                               \n",
      "                                                                                                  \n",
      " batch_normalization_272 (B  (None, 128, 128, 10)         40        ['conv2d_369[0][0]']          \n",
      " atchNormalization)                                                                               \n",
      "                                                                                                  \n",
      " batch_normalization_274 (B  (None, 128, 128, 10)         40        ['conv2d_372[0][0]']          \n",
      " atchNormalization)                                                                               \n",
      "                                                                                                  \n",
      " leaky_re_lu_376 (LeakyReLU  (None, 128, 128, 10)         0         ['batch_normalization_271[0][0\n",
      " )                                                                  ]']                           \n",
      "                                                                                                  \n",
      " leaky_re_lu_377 (LeakyReLU  (None, 128, 128, 10)         0         ['batch_normalization_272[0][0\n",
      " )                                                                  ]']                           \n",
      "                                                                                                  \n",
      " leaky_re_lu_380 (LeakyReLU  (None, 128, 128, 10)         0         ['batch_normalization_274[0][0\n",
      " )                                                                  ]']                           \n",
      "                                                                                                  \n",
      " concatenate_89 (Concatenat  (None, 128, 128, 30)         0         ['leaky_re_lu_376[0][0]',     \n",
      " e)                                                                  'leaky_re_lu_377[0][0]',     \n",
      "                                                                     'leaky_re_lu_380[0][0]']     \n",
      "                                                                                                  \n",
      " conv2d_373 (Conv2D)         (None, 128, 128, 32)         992       ['concatenate_89[0][0]']      \n",
      "                                                                                                  \n",
      " conv2d_374 (Conv2D)         (None, 128, 128, 32)         160       ['input_5[0][0]']             \n",
      "                                                                                                  \n",
      " batch_normalization_275 (B  (None, 128, 128, 32)         128       ['conv2d_373[0][0]']          \n",
      " atchNormalization)                                                                               \n",
      "                                                                                                  \n",
      " batch_normalization_276 (B  (None, 128, 128, 32)         128       ['conv2d_374[0][0]']          \n",
      " atchNormalization)                                                                               \n",
      "                                                                                                  \n",
      " add_38 (Add)                (None, 128, 128, 32)         0         ['batch_normalization_275[0][0\n",
      "                                                                    ]',                           \n",
      "                                                                     'batch_normalization_276[0][0\n",
      "                                                                    ]']                           \n",
      "                                                                                                  \n",
      " leaky_re_lu_381 (LeakyReLU  (None, 128, 128, 32)         0         ['add_38[0][0]']              \n",
      " )                                                                                                \n",
      "                                                                                                  \n",
      " conv2d_377 (Conv2D)         (None, 128, 128, 10)         330       ['leaky_re_lu_381[0][0]']     \n",
      "                                                                                                  \n",
      " leaky_re_lu_384 (LeakyReLU  (None, 128, 128, 10)         0         ['conv2d_377[0][0]']          \n",
      " )                                                                                                \n",
      "                                                                                                  \n",
      " conv2d_375 (Conv2D)         (None, 128, 128, 10)         330       ['leaky_re_lu_381[0][0]']     \n",
      "                                                                                                  \n",
      " conv2d_378 (Conv2D)         (None, 128, 128, 10)         910       ['leaky_re_lu_384[0][0]']     \n",
      "                                                                                                  \n",
      " leaky_re_lu_382 (LeakyReLU  (None, 128, 128, 10)         0         ['conv2d_375[0][0]']          \n",
      " )                                                                                                \n",
      "                                                                                                  \n",
      " leaky_re_lu_385 (LeakyReLU  (None, 128, 128, 10)         0         ['conv2d_378[0][0]']          \n",
      " )                                                                                                \n",
      "                                                                                                  \n",
      " conv2d_376 (Conv2D)         (None, 64, 64, 10)           910       ['leaky_re_lu_382[0][0]']     \n",
      "                                                                                                  \n",
      " conv2d_379 (Conv2D)         (None, 64, 64, 10)           910       ['leaky_re_lu_385[0][0]']     \n",
      "                                                                                                  \n",
      " drop_block2d_42 (DropBlock  (None, 64, 64, 10)           0         ['conv2d_376[0][0]']          \n",
      " 2D)                                                                                              \n",
      "                                                                                                  \n",
      " drop_block2d_43 (DropBlock  (None, 64, 64, 10)           0         ['conv2d_379[0][0]']          \n",
      " 2D)                                                                                              \n",
      "                                                                                                  \n",
      " max_pooling2d_52 (MaxPooli  (None, 64, 64, 32)           0         ['leaky_re_lu_381[0][0]']     \n",
      " ng2D)                                                                                            \n",
      "                                                                                                  \n",
      " leaky_re_lu_383 (LeakyReLU  (None, 64, 64, 10)           0         ['drop_block2d_42[0][0]']     \n",
      " )                                                                                                \n",
      "                                                                                                  \n",
      " leaky_re_lu_386 (LeakyReLU  (None, 64, 64, 10)           0         ['drop_block2d_43[0][0]']     \n",
      " )                                                                                                \n",
      "                                                                                                  \n",
      " concatenate_90 (Concatenat  (None, 64, 64, 52)           0         ['max_pooling2d_52[0][0]',    \n",
      " e)                                                                  'leaky_re_lu_383[0][0]',     \n",
      "                                                                     'leaky_re_lu_386[0][0]']     \n",
      "                                                                                                  \n",
      " conv2d_380 (Conv2D)         (None, 64, 64, 32)           1696      ['concatenate_90[0][0]']      \n",
      "                                                                                                  \n",
      " batch_normalization_277 (B  (None, 64, 64, 32)           128       ['conv2d_380[0][0]']          \n",
      " atchNormalization)                                                                               \n",
      "                                                                                                  \n",
      " leaky_re_lu_387 (LeakyReLU  (None, 64, 64, 32)           0         ['batch_normalization_277[0][0\n",
      " )                                                                  ]']                           \n",
      "                                                                                                  \n",
      " conv2d_383 (Conv2D)         (None, 64, 64, 21)           693       ['leaky_re_lu_387[0][0]']     \n",
      "                                                                                                  \n",
      " leaky_re_lu_390 (LeakyReLU  (None, 64, 64, 21)           0         ['conv2d_383[0][0]']          \n",
      " )                                                                                                \n",
      "                                                                                                  \n",
      " conv2d_384 (Conv2D)         (None, 64, 64, 21)           1344      ['leaky_re_lu_390[0][0]']     \n",
      "                                                                                                  \n",
      " batch_normalization_280 (B  (None, 64, 64, 21)           84        ['conv2d_384[0][0]']          \n",
      " atchNormalization)                                                                               \n",
      "                                                                                                  \n",
      " max_pooling2d_53 (MaxPooli  (None, 64, 64, 32)           0         ['leaky_re_lu_387[0][0]']     \n",
      " ng2D)                                                                                            \n",
      "                                                                                                  \n",
      " leaky_re_lu_391 (LeakyReLU  (None, 64, 64, 21)           0         ['batch_normalization_280[0][0\n",
      " )                                                                  ]']                           \n",
      "                                                                                                  \n",
      " conv2d_381 (Conv2D)         (None, 64, 64, 21)           693       ['leaky_re_lu_387[0][0]']     \n",
      "                                                                                                  \n",
      " conv2d_382 (Conv2D)         (None, 64, 64, 21)           693       ['max_pooling2d_53[0][0]']    \n",
      "                                                                                                  \n",
      " conv2d_385 (Conv2D)         (None, 64, 64, 21)           1344      ['leaky_re_lu_391[0][0]']     \n",
      "                                                                                                  \n",
      " batch_normalization_278 (B  (None, 64, 64, 21)           84        ['conv2d_381[0][0]']          \n",
      " atchNormalization)                                                                               \n",
      "                                                                                                  \n",
      " batch_normalization_279 (B  (None, 64, 64, 21)           84        ['conv2d_382[0][0]']          \n",
      " atchNormalization)                                                                               \n",
      "                                                                                                  \n",
      " batch_normalization_281 (B  (None, 64, 64, 21)           84        ['conv2d_385[0][0]']          \n",
      " atchNormalization)                                                                               \n",
      "                                                                                                  \n",
      " leaky_re_lu_388 (LeakyReLU  (None, 64, 64, 21)           0         ['batch_normalization_278[0][0\n",
      " )                                                                  ]']                           \n",
      "                                                                                                  \n",
      " leaky_re_lu_389 (LeakyReLU  (None, 64, 64, 21)           0         ['batch_normalization_279[0][0\n",
      " )                                                                  ]']                           \n",
      "                                                                                                  \n",
      " leaky_re_lu_392 (LeakyReLU  (None, 64, 64, 21)           0         ['batch_normalization_281[0][0\n",
      " )                                                                  ]']                           \n",
      "                                                                                                  \n",
      " concatenate_91 (Concatenat  (None, 64, 64, 63)           0         ['leaky_re_lu_388[0][0]',     \n",
      " e)                                                                  'leaky_re_lu_389[0][0]',     \n",
      "                                                                     'leaky_re_lu_392[0][0]']     \n",
      "                                                                                                  \n",
      " conv2d_386 (Conv2D)         (None, 64, 64, 64)           4096      ['concatenate_91[0][0]']      \n",
      "                                                                                                  \n",
      " conv2d_387 (Conv2D)         (None, 64, 64, 64)           2112      ['leaky_re_lu_387[0][0]']     \n",
      "                                                                                                  \n",
      " batch_normalization_282 (B  (None, 64, 64, 64)           256       ['conv2d_386[0][0]']          \n",
      " atchNormalization)                                                                               \n",
      "                                                                                                  \n",
      " batch_normalization_283 (B  (None, 64, 64, 64)           256       ['conv2d_387[0][0]']          \n",
      " atchNormalization)                                                                               \n",
      "                                                                                                  \n",
      " add_39 (Add)                (None, 64, 64, 64)           0         ['batch_normalization_282[0][0\n",
      "                                                                    ]',                           \n",
      "                                                                     'batch_normalization_283[0][0\n",
      "                                                                    ]']                           \n",
      "                                                                                                  \n",
      " leaky_re_lu_393 (LeakyReLU  (None, 64, 64, 64)           0         ['add_39[0][0]']              \n",
      " )                                                                                                \n",
      "                                                                                                  \n",
      " conv2d_390 (Conv2D)         (None, 64, 64, 21)           1365      ['leaky_re_lu_393[0][0]']     \n",
      "                                                                                                  \n",
      " leaky_re_lu_396 (LeakyReLU  (None, 64, 64, 21)           0         ['conv2d_390[0][0]']          \n",
      " )                                                                                                \n",
      "                                                                                                  \n",
      " conv2d_388 (Conv2D)         (None, 64, 64, 21)           1365      ['leaky_re_lu_393[0][0]']     \n",
      "                                                                                                  \n",
      " conv2d_391 (Conv2D)         (None, 64, 64, 21)           3990      ['leaky_re_lu_396[0][0]']     \n",
      "                                                                                                  \n",
      " leaky_re_lu_394 (LeakyReLU  (None, 64, 64, 21)           0         ['conv2d_388[0][0]']          \n",
      " )                                                                                                \n",
      "                                                                                                  \n",
      " leaky_re_lu_397 (LeakyReLU  (None, 64, 64, 21)           0         ['conv2d_391[0][0]']          \n",
      " )                                                                                                \n",
      "                                                                                                  \n",
      " conv2d_389 (Conv2D)         (None, 32, 32, 21)           3990      ['leaky_re_lu_394[0][0]']     \n",
      "                                                                                                  \n",
      " conv2d_392 (Conv2D)         (None, 32, 32, 21)           3990      ['leaky_re_lu_397[0][0]']     \n",
      "                                                                                                  \n",
      " drop_block2d_44 (DropBlock  (None, 32, 32, 21)           0         ['conv2d_389[0][0]']          \n",
      " 2D)                                                                                              \n",
      "                                                                                                  \n",
      " drop_block2d_45 (DropBlock  (None, 32, 32, 21)           0         ['conv2d_392[0][0]']          \n",
      " 2D)                                                                                              \n",
      "                                                                                                  \n",
      " max_pooling2d_54 (MaxPooli  (None, 32, 32, 64)           0         ['leaky_re_lu_393[0][0]']     \n",
      " ng2D)                                                                                            \n",
      "                                                                                                  \n",
      " leaky_re_lu_395 (LeakyReLU  (None, 32, 32, 21)           0         ['drop_block2d_44[0][0]']     \n",
      " )                                                                                                \n",
      "                                                                                                  \n",
      " leaky_re_lu_398 (LeakyReLU  (None, 32, 32, 21)           0         ['drop_block2d_45[0][0]']     \n",
      " )                                                                                                \n",
      "                                                                                                  \n",
      " concatenate_92 (Concatenat  (None, 32, 32, 106)          0         ['max_pooling2d_54[0][0]',    \n",
      " e)                                                                  'leaky_re_lu_395[0][0]',     \n",
      "                                                                     'leaky_re_lu_398[0][0]']     \n",
      "                                                                                                  \n",
      " conv2d_393 (Conv2D)         (None, 32, 32, 64)           6848      ['concatenate_92[0][0]']      \n",
      "                                                                                                  \n",
      " batch_normalization_284 (B  (None, 32, 32, 64)           256       ['conv2d_393[0][0]']          \n",
      " atchNormalization)                                                                               \n",
      "                                                                                                  \n",
      " leaky_re_lu_399 (LeakyReLU  (None, 32, 32, 64)           0         ['batch_normalization_284[0][0\n",
      " )                                                                  ]']                           \n",
      "                                                                                                  \n",
      " conv2d_396 (Conv2D)         (None, 32, 32, 42)           2730      ['leaky_re_lu_399[0][0]']     \n",
      "                                                                                                  \n",
      " leaky_re_lu_402 (LeakyReLU  (None, 32, 32, 42)           0         ['conv2d_396[0][0]']          \n",
      " )                                                                                                \n",
      "                                                                                                  \n",
      " conv2d_397 (Conv2D)         (None, 32, 32, 42)           5334      ['leaky_re_lu_402[0][0]']     \n",
      "                                                                                                  \n",
      " batch_normalization_287 (B  (None, 32, 32, 42)           168       ['conv2d_397[0][0]']          \n",
      " atchNormalization)                                                                               \n",
      "                                                                                                  \n",
      " max_pooling2d_55 (MaxPooli  (None, 32, 32, 64)           0         ['leaky_re_lu_399[0][0]']     \n",
      " ng2D)                                                                                            \n",
      "                                                                                                  \n",
      " leaky_re_lu_403 (LeakyReLU  (None, 32, 32, 42)           0         ['batch_normalization_287[0][0\n",
      " )                                                                  ]']                           \n",
      "                                                                                                  \n",
      " conv2d_394 (Conv2D)         (None, 32, 32, 42)           2730      ['leaky_re_lu_399[0][0]']     \n",
      "                                                                                                  \n",
      " conv2d_395 (Conv2D)         (None, 32, 32, 42)           2730      ['max_pooling2d_55[0][0]']    \n",
      "                                                                                                  \n",
      " conv2d_398 (Conv2D)         (None, 32, 32, 42)           5334      ['leaky_re_lu_403[0][0]']     \n",
      "                                                                                                  \n",
      " batch_normalization_285 (B  (None, 32, 32, 42)           168       ['conv2d_394[0][0]']          \n",
      " atchNormalization)                                                                               \n",
      "                                                                                                  \n",
      " batch_normalization_286 (B  (None, 32, 32, 42)           168       ['conv2d_395[0][0]']          \n",
      " atchNormalization)                                                                               \n",
      "                                                                                                  \n",
      " batch_normalization_288 (B  (None, 32, 32, 42)           168       ['conv2d_398[0][0]']          \n",
      " atchNormalization)                                                                               \n",
      "                                                                                                  \n",
      " leaky_re_lu_400 (LeakyReLU  (None, 32, 32, 42)           0         ['batch_normalization_285[0][0\n",
      " )                                                                  ]']                           \n",
      "                                                                                                  \n",
      " leaky_re_lu_401 (LeakyReLU  (None, 32, 32, 42)           0         ['batch_normalization_286[0][0\n",
      " )                                                                  ]']                           \n",
      "                                                                                                  \n",
      " leaky_re_lu_404 (LeakyReLU  (None, 32, 32, 42)           0         ['batch_normalization_288[0][0\n",
      " )                                                                  ]']                           \n",
      "                                                                                                  \n",
      " concatenate_93 (Concatenat  (None, 32, 32, 126)          0         ['leaky_re_lu_400[0][0]',     \n",
      " e)                                                                  'leaky_re_lu_401[0][0]',     \n",
      "                                                                     'leaky_re_lu_404[0][0]']     \n",
      "                                                                                                  \n",
      " conv2d_399 (Conv2D)         (None, 32, 32, 128)          16256     ['concatenate_93[0][0]']      \n",
      "                                                                                                  \n",
      " conv2d_400 (Conv2D)         (None, 32, 32, 128)          8320      ['leaky_re_lu_399[0][0]']     \n",
      "                                                                                                  \n",
      " batch_normalization_289 (B  (None, 32, 32, 128)          512       ['conv2d_399[0][0]']          \n",
      " atchNormalization)                                                                               \n",
      "                                                                                                  \n",
      " batch_normalization_290 (B  (None, 32, 32, 128)          512       ['conv2d_400[0][0]']          \n",
      " atchNormalization)                                                                               \n",
      "                                                                                                  \n",
      " add_40 (Add)                (None, 32, 32, 128)          0         ['batch_normalization_289[0][0\n",
      "                                                                    ]',                           \n",
      "                                                                     'batch_normalization_290[0][0\n",
      "                                                                    ]']                           \n",
      "                                                                                                  \n",
      " leaky_re_lu_405 (LeakyReLU  (None, 32, 32, 128)          0         ['add_40[0][0]']              \n",
      " )                                                                                                \n",
      "                                                                                                  \n",
      " conv2d_403 (Conv2D)         (None, 32, 32, 42)           5418      ['leaky_re_lu_405[0][0]']     \n",
      "                                                                                                  \n",
      " leaky_re_lu_408 (LeakyReLU  (None, 32, 32, 42)           0         ['conv2d_403[0][0]']          \n",
      " )                                                                                                \n",
      "                                                                                                  \n",
      " conv2d_401 (Conv2D)         (None, 32, 32, 42)           5418      ['leaky_re_lu_405[0][0]']     \n",
      "                                                                                                  \n",
      " conv2d_404 (Conv2D)         (None, 32, 32, 42)           15918     ['leaky_re_lu_408[0][0]']     \n",
      "                                                                                                  \n",
      " leaky_re_lu_406 (LeakyReLU  (None, 32, 32, 42)           0         ['conv2d_401[0][0]']          \n",
      " )                                                                                                \n",
      "                                                                                                  \n",
      " leaky_re_lu_409 (LeakyReLU  (None, 32, 32, 42)           0         ['conv2d_404[0][0]']          \n",
      " )                                                                                                \n",
      "                                                                                                  \n",
      " conv2d_402 (Conv2D)         (None, 16, 16, 42)           15918     ['leaky_re_lu_406[0][0]']     \n",
      "                                                                                                  \n",
      " conv2d_405 (Conv2D)         (None, 16, 16, 42)           15918     ['leaky_re_lu_409[0][0]']     \n",
      "                                                                                                  \n",
      " drop_block2d_46 (DropBlock  (None, 16, 16, 42)           0         ['conv2d_402[0][0]']          \n",
      " 2D)                                                                                              \n",
      "                                                                                                  \n",
      " drop_block2d_47 (DropBlock  (None, 16, 16, 42)           0         ['conv2d_405[0][0]']          \n",
      " 2D)                                                                                              \n",
      "                                                                                                  \n",
      " max_pooling2d_56 (MaxPooli  (None, 16, 16, 128)          0         ['leaky_re_lu_405[0][0]']     \n",
      " ng2D)                                                                                            \n",
      "                                                                                                  \n",
      " leaky_re_lu_407 (LeakyReLU  (None, 16, 16, 42)           0         ['drop_block2d_46[0][0]']     \n",
      " )                                                                                                \n",
      "                                                                                                  \n",
      " leaky_re_lu_410 (LeakyReLU  (None, 16, 16, 42)           0         ['drop_block2d_47[0][0]']     \n",
      " )                                                                                                \n",
      "                                                                                                  \n",
      " concatenate_94 (Concatenat  (None, 16, 16, 212)          0         ['max_pooling2d_56[0][0]',    \n",
      " e)                                                                  'leaky_re_lu_407[0][0]',     \n",
      "                                                                     'leaky_re_lu_410[0][0]']     \n",
      "                                                                                                  \n",
      " conv2d_406 (Conv2D)         (None, 16, 16, 128)          27264     ['concatenate_94[0][0]']      \n",
      "                                                                                                  \n",
      " batch_normalization_291 (B  (None, 16, 16, 128)          512       ['conv2d_406[0][0]']          \n",
      " atchNormalization)                                                                               \n",
      "                                                                                                  \n",
      " leaky_re_lu_411 (LeakyReLU  (None, 16, 16, 128)          0         ['batch_normalization_291[0][0\n",
      " )                                                                  ]']                           \n",
      "                                                                                                  \n",
      " conv2d_409 (Conv2D)         (None, 16, 16, 85)           10965     ['leaky_re_lu_411[0][0]']     \n",
      "                                                                                                  \n",
      " leaky_re_lu_414 (LeakyReLU  (None, 16, 16, 85)           0         ['conv2d_409[0][0]']          \n",
      " )                                                                                                \n",
      "                                                                                                  \n",
      " conv2d_410 (Conv2D)         (None, 16, 16, 85)           21760     ['leaky_re_lu_414[0][0]']     \n",
      "                                                                                                  \n",
      " batch_normalization_294 (B  (None, 16, 16, 85)           340       ['conv2d_410[0][0]']          \n",
      " atchNormalization)                                                                               \n",
      "                                                                                                  \n",
      " max_pooling2d_57 (MaxPooli  (None, 16, 16, 128)          0         ['leaky_re_lu_411[0][0]']     \n",
      " ng2D)                                                                                            \n",
      "                                                                                                  \n",
      " leaky_re_lu_415 (LeakyReLU  (None, 16, 16, 85)           0         ['batch_normalization_294[0][0\n",
      " )                                                                  ]']                           \n",
      "                                                                                                  \n",
      " conv2d_407 (Conv2D)         (None, 16, 16, 85)           10965     ['leaky_re_lu_411[0][0]']     \n",
      "                                                                                                  \n",
      " conv2d_408 (Conv2D)         (None, 16, 16, 85)           10965     ['max_pooling2d_57[0][0]']    \n",
      "                                                                                                  \n",
      " conv2d_411 (Conv2D)         (None, 16, 16, 85)           21760     ['leaky_re_lu_415[0][0]']     \n",
      "                                                                                                  \n",
      " batch_normalization_292 (B  (None, 16, 16, 85)           340       ['conv2d_407[0][0]']          \n",
      " atchNormalization)                                                                               \n",
      "                                                                                                  \n",
      " batch_normalization_293 (B  (None, 16, 16, 85)           340       ['conv2d_408[0][0]']          \n",
      " atchNormalization)                                                                               \n",
      "                                                                                                  \n",
      " batch_normalization_295 (B  (None, 16, 16, 85)           340       ['conv2d_411[0][0]']          \n",
      " atchNormalization)                                                                               \n",
      "                                                                                                  \n",
      " leaky_re_lu_412 (LeakyReLU  (None, 16, 16, 85)           0         ['batch_normalization_292[0][0\n",
      " )                                                                  ]']                           \n",
      "                                                                                                  \n",
      " leaky_re_lu_413 (LeakyReLU  (None, 16, 16, 85)           0         ['batch_normalization_293[0][0\n",
      " )                                                                  ]']                           \n",
      "                                                                                                  \n",
      " leaky_re_lu_416 (LeakyReLU  (None, 16, 16, 85)           0         ['batch_normalization_295[0][0\n",
      " )                                                                  ]']                           \n",
      "                                                                                                  \n",
      " concatenate_95 (Concatenat  (None, 16, 16, 255)          0         ['leaky_re_lu_412[0][0]',     \n",
      " e)                                                                  'leaky_re_lu_413[0][0]',     \n",
      "                                                                     'leaky_re_lu_416[0][0]']     \n",
      "                                                                                                  \n",
      " conv2d_412 (Conv2D)         (None, 16, 16, 256)          65536     ['concatenate_95[0][0]']      \n",
      "                                                                                                  \n",
      " conv2d_413 (Conv2D)         (None, 16, 16, 256)          33024     ['leaky_re_lu_411[0][0]']     \n",
      "                                                                                                  \n",
      " batch_normalization_296 (B  (None, 16, 16, 256)          1024      ['conv2d_412[0][0]']          \n",
      " atchNormalization)                                                                               \n",
      "                                                                                                  \n",
      " batch_normalization_297 (B  (None, 16, 16, 256)          1024      ['conv2d_413[0][0]']          \n",
      " atchNormalization)                                                                               \n",
      "                                                                                                  \n",
      " add_41 (Add)                (None, 16, 16, 256)          0         ['batch_normalization_296[0][0\n",
      "                                                                    ]',                           \n",
      "                                                                     'batch_normalization_297[0][0\n",
      "                                                                    ]']                           \n",
      "                                                                                                  \n",
      " leaky_re_lu_417 (LeakyReLU  (None, 16, 16, 256)          0         ['add_41[0][0]']              \n",
      " )                                                                                                \n",
      "                                                                                                  \n",
      " conv2d_414 (Conv2D)         (None, 16, 16, 256)          65792     ['leaky_re_lu_417[0][0]']     \n",
      "                                                                                                  \n",
      " batch_normalization_298 (B  (None, 16, 16, 256)          1024      ['conv2d_414[0][0]']          \n",
      " atchNormalization)                                                                               \n",
      "                                                                                                  \n",
      " leaky_re_lu_418 (LeakyReLU  (None, 16, 16, 256)          0         ['batch_normalization_298[0][0\n",
      " )                                                                  ]']                           \n",
      "                                                                                                  \n",
      " concatenate_96 (Concatenat  (None, 16, 16, 384)          0         ['leaky_re_lu_411[0][0]',     \n",
      " e)                                                                  'leaky_re_lu_418[0][0]']     \n",
      "                                                                                                  \n",
      " conv2d_417 (Conv2D)         (None, 16, 16, 85)           32725     ['concatenate_96[0][0]']      \n",
      "                                                                                                  \n",
      " leaky_re_lu_421 (LeakyReLU  (None, 16, 16, 85)           0         ['conv2d_417[0][0]']          \n",
      " )                                                                                                \n",
      "                                                                                                  \n",
      " conv2d_418 (Conv2D)         (None, 16, 16, 85)           21760     ['leaky_re_lu_421[0][0]']     \n",
      "                                                                                                  \n",
      " batch_normalization_301 (B  (None, 16, 16, 85)           340       ['conv2d_418[0][0]']          \n",
      " atchNormalization)                                                                               \n",
      "                                                                                                  \n",
      " max_pooling2d_58 (MaxPooli  (None, 16, 16, 384)          0         ['concatenate_96[0][0]']      \n",
      " ng2D)                                                                                            \n",
      "                                                                                                  \n",
      " leaky_re_lu_422 (LeakyReLU  (None, 16, 16, 85)           0         ['batch_normalization_301[0][0\n",
      " )                                                                  ]']                           \n",
      "                                                                                                  \n",
      " conv2d_415 (Conv2D)         (None, 16, 16, 85)           32725     ['concatenate_96[0][0]']      \n",
      "                                                                                                  \n",
      " conv2d_416 (Conv2D)         (None, 16, 16, 85)           32725     ['max_pooling2d_58[0][0]']    \n",
      "                                                                                                  \n",
      " conv2d_419 (Conv2D)         (None, 16, 16, 85)           21760     ['leaky_re_lu_422[0][0]']     \n",
      "                                                                                                  \n",
      " batch_normalization_299 (B  (None, 16, 16, 85)           340       ['conv2d_415[0][0]']          \n",
      " atchNormalization)                                                                               \n",
      "                                                                                                  \n",
      " batch_normalization_300 (B  (None, 16, 16, 85)           340       ['conv2d_416[0][0]']          \n",
      " atchNormalization)                                                                               \n",
      "                                                                                                  \n",
      " batch_normalization_302 (B  (None, 16, 16, 85)           340       ['conv2d_419[0][0]']          \n",
      " atchNormalization)                                                                               \n",
      "                                                                                                  \n",
      " leaky_re_lu_419 (LeakyReLU  (None, 16, 16, 85)           0         ['batch_normalization_299[0][0\n",
      " )                                                                  ]']                           \n",
      "                                                                                                  \n",
      " leaky_re_lu_420 (LeakyReLU  (None, 16, 16, 85)           0         ['batch_normalization_300[0][0\n",
      " )                                                                  ]']                           \n",
      "                                                                                                  \n",
      " leaky_re_lu_423 (LeakyReLU  (None, 16, 16, 85)           0         ['batch_normalization_302[0][0\n",
      " )                                                                  ]']                           \n",
      "                                                                                                  \n",
      " concatenate_97 (Concatenat  (None, 16, 16, 255)          0         ['leaky_re_lu_419[0][0]',     \n",
      " e)                                                                  'leaky_re_lu_420[0][0]',     \n",
      "                                                                     'leaky_re_lu_423[0][0]']     \n",
      "                                                                                                  \n",
      " conv2d_420 (Conv2D)         (None, 16, 16, 256)          65536     ['concatenate_97[0][0]']      \n",
      "                                                                                                  \n",
      " conv2d_421 (Conv2D)         (None, 16, 16, 256)          98560     ['concatenate_96[0][0]']      \n",
      "                                                                                                  \n",
      " batch_normalization_303 (B  (None, 16, 16, 256)          1024      ['conv2d_420[0][0]']          \n",
      " atchNormalization)                                                                               \n",
      "                                                                                                  \n",
      " batch_normalization_304 (B  (None, 16, 16, 256)          1024      ['conv2d_421[0][0]']          \n",
      " atchNormalization)                                                                               \n",
      "                                                                                                  \n",
      " add_42 (Add)                (None, 16, 16, 256)          0         ['batch_normalization_303[0][0\n",
      "                                                                    ]',                           \n",
      "                                                                     'batch_normalization_304[0][0\n",
      "                                                                    ]']                           \n",
      "                                                                                                  \n",
      " leaky_re_lu_424 (LeakyReLU  (None, 16, 16, 256)          0         ['add_42[0][0]']              \n",
      " )                                                                                                \n",
      "                                                                                                  \n",
      " conv2d_422 (Conv2D)         (None, 16, 16, 256)          65792     ['leaky_re_lu_424[0][0]']     \n",
      "                                                                                                  \n",
      " batch_normalization_305 (B  (None, 16, 16, 256)          1024      ['conv2d_422[0][0]']          \n",
      " atchNormalization)                                                                               \n",
      "                                                                                                  \n",
      " leaky_re_lu_425 (LeakyReLU  (None, 16, 16, 256)          0         ['batch_normalization_305[0][0\n",
      " )                                                                  ]']                           \n",
      "                                                                                                  \n",
      " concatenate_98 (Concatenat  (None, 16, 16, 640)          0         ['leaky_re_lu_411[0][0]',     \n",
      " e)                                                                  'leaky_re_lu_418[0][0]',     \n",
      "                                                                     'leaky_re_lu_425[0][0]']     \n",
      "                                                                                                  \n",
      " conv2d_425 (Conv2D)         (None, 16, 16, 85)           54485     ['concatenate_98[0][0]']      \n",
      "                                                                                                  \n",
      " leaky_re_lu_428 (LeakyReLU  (None, 16, 16, 85)           0         ['conv2d_425[0][0]']          \n",
      " )                                                                                                \n",
      "                                                                                                  \n",
      " conv2d_426 (Conv2D)         (None, 16, 16, 85)           21760     ['leaky_re_lu_428[0][0]']     \n",
      "                                                                                                  \n",
      " batch_normalization_308 (B  (None, 16, 16, 85)           340       ['conv2d_426[0][0]']          \n",
      " atchNormalization)                                                                               \n",
      "                                                                                                  \n",
      " max_pooling2d_59 (MaxPooli  (None, 16, 16, 640)          0         ['concatenate_98[0][0]']      \n",
      " ng2D)                                                                                            \n",
      "                                                                                                  \n",
      " leaky_re_lu_429 (LeakyReLU  (None, 16, 16, 85)           0         ['batch_normalization_308[0][0\n",
      " )                                                                  ]']                           \n",
      "                                                                                                  \n",
      " conv2d_423 (Conv2D)         (None, 16, 16, 85)           54485     ['concatenate_98[0][0]']      \n",
      "                                                                                                  \n",
      " conv2d_424 (Conv2D)         (None, 16, 16, 85)           54485     ['max_pooling2d_59[0][0]']    \n",
      "                                                                                                  \n",
      " conv2d_427 (Conv2D)         (None, 16, 16, 85)           21760     ['leaky_re_lu_429[0][0]']     \n",
      "                                                                                                  \n",
      " batch_normalization_306 (B  (None, 16, 16, 85)           340       ['conv2d_423[0][0]']          \n",
      " atchNormalization)                                                                               \n",
      "                                                                                                  \n",
      " batch_normalization_307 (B  (None, 16, 16, 85)           340       ['conv2d_424[0][0]']          \n",
      " atchNormalization)                                                                               \n",
      "                                                                                                  \n",
      " batch_normalization_309 (B  (None, 16, 16, 85)           340       ['conv2d_427[0][0]']          \n",
      " atchNormalization)                                                                               \n",
      "                                                                                                  \n",
      " leaky_re_lu_426 (LeakyReLU  (None, 16, 16, 85)           0         ['batch_normalization_306[0][0\n",
      " )                                                                  ]']                           \n",
      "                                                                                                  \n",
      " leaky_re_lu_427 (LeakyReLU  (None, 16, 16, 85)           0         ['batch_normalization_307[0][0\n",
      " )                                                                  ]']                           \n",
      "                                                                                                  \n",
      " leaky_re_lu_430 (LeakyReLU  (None, 16, 16, 85)           0         ['batch_normalization_309[0][0\n",
      " )                                                                  ]']                           \n",
      "                                                                                                  \n",
      " concatenate_99 (Concatenat  (None, 16, 16, 255)          0         ['leaky_re_lu_426[0][0]',     \n",
      " e)                                                                  'leaky_re_lu_427[0][0]',     \n",
      "                                                                     'leaky_re_lu_430[0][0]']     \n",
      "                                                                                                  \n",
      " conv2d_428 (Conv2D)         (None, 16, 16, 256)          65536     ['concatenate_99[0][0]']      \n",
      "                                                                                                  \n",
      " conv2d_429 (Conv2D)         (None, 16, 16, 256)          164096    ['concatenate_98[0][0]']      \n",
      "                                                                                                  \n",
      " batch_normalization_310 (B  (None, 16, 16, 256)          1024      ['conv2d_428[0][0]']          \n",
      " atchNormalization)                                                                               \n",
      "                                                                                                  \n",
      " batch_normalization_311 (B  (None, 16, 16, 256)          1024      ['conv2d_429[0][0]']          \n",
      " atchNormalization)                                                                               \n",
      "                                                                                                  \n",
      " add_43 (Add)                (None, 16, 16, 256)          0         ['batch_normalization_310[0][0\n",
      "                                                                    ]',                           \n",
      "                                                                     'batch_normalization_311[0][0\n",
      "                                                                    ]']                           \n",
      "                                                                                                  \n",
      " leaky_re_lu_431 (LeakyReLU  (None, 16, 16, 256)          0         ['add_43[0][0]']              \n",
      " )                                                                                                \n",
      "                                                                                                  \n",
      " conv2d_430 (Conv2D)         (None, 16, 16, 256)          65792     ['leaky_re_lu_431[0][0]']     \n",
      "                                                                                                  \n",
      " batch_normalization_312 (B  (None, 16, 16, 256)          1024      ['conv2d_430[0][0]']          \n",
      " atchNormalization)                                                                               \n",
      "                                                                                                  \n",
      " leaky_re_lu_432 (LeakyReLU  (None, 16, 16, 256)          0         ['batch_normalization_312[0][0\n",
      " )                                                                  ]']                           \n",
      "                                                                                                  \n",
      " concatenate_100 (Concatena  (None, 16, 16, 896)          0         ['leaky_re_lu_411[0][0]',     \n",
      " te)                                                                 'leaky_re_lu_418[0][0]',     \n",
      "                                                                     'leaky_re_lu_425[0][0]',     \n",
      "                                                                     'leaky_re_lu_432[0][0]']     \n",
      "                                                                                                  \n",
      " conv2d_433 (Conv2D)         (None, 16, 16, 85)           76245     ['concatenate_100[0][0]']     \n",
      "                                                                                                  \n",
      " leaky_re_lu_435 (LeakyReLU  (None, 16, 16, 85)           0         ['conv2d_433[0][0]']          \n",
      " )                                                                                                \n",
      "                                                                                                  \n",
      " conv2d_431 (Conv2D)         (None, 16, 16, 85)           76245     ['concatenate_100[0][0]']     \n",
      "                                                                                                  \n",
      " conv2d_434 (Conv2D)         (None, 16, 16, 85)           65110     ['leaky_re_lu_435[0][0]']     \n",
      "                                                                                                  \n",
      " leaky_re_lu_433 (LeakyReLU  (None, 16, 16, 85)           0         ['conv2d_431[0][0]']          \n",
      " )                                                                                                \n",
      "                                                                                                  \n",
      " leaky_re_lu_436 (LeakyReLU  (None, 16, 16, 85)           0         ['conv2d_434[0][0]']          \n",
      " )                                                                                                \n",
      "                                                                                                  \n",
      " conv2d_432 (Conv2D)         (None, 8, 8, 85)             65110     ['leaky_re_lu_433[0][0]']     \n",
      "                                                                                                  \n",
      " conv2d_435 (Conv2D)         (None, 8, 8, 85)             65110     ['leaky_re_lu_436[0][0]']     \n",
      "                                                                                                  \n",
      " drop_block2d_48 (DropBlock  (None, 8, 8, 85)             0         ['conv2d_432[0][0]']          \n",
      " 2D)                                                                                              \n",
      "                                                                                                  \n",
      " drop_block2d_49 (DropBlock  (None, 8, 8, 85)             0         ['conv2d_435[0][0]']          \n",
      " 2D)                                                                                              \n",
      "                                                                                                  \n",
      " max_pooling2d_60 (MaxPooli  (None, 8, 8, 896)            0         ['concatenate_100[0][0]']     \n",
      " ng2D)                                                                                            \n",
      "                                                                                                  \n",
      " leaky_re_lu_434 (LeakyReLU  (None, 8, 8, 85)             0         ['drop_block2d_48[0][0]']     \n",
      " )                                                                                                \n",
      "                                                                                                  \n",
      " leaky_re_lu_437 (LeakyReLU  (None, 8, 8, 85)             0         ['drop_block2d_49[0][0]']     \n",
      " )                                                                                                \n",
      "                                                                                                  \n",
      " concatenate_101 (Concatena  (None, 8, 8, 1066)           0         ['max_pooling2d_60[0][0]',    \n",
      " te)                                                                 'leaky_re_lu_434[0][0]',     \n",
      "                                                                     'leaky_re_lu_437[0][0]']     \n",
      "                                                                                                  \n",
      " conv2d_436 (Conv2D)         (None, 8, 8, 256)            273152    ['concatenate_101[0][0]']     \n",
      "                                                                                                  \n",
      " batch_normalization_313 (B  (None, 8, 8, 256)            1024      ['conv2d_436[0][0]']          \n",
      " atchNormalization)                                                                               \n",
      "                                                                                                  \n",
      " leaky_re_lu_438 (LeakyReLU  (None, 8, 8, 256)            0         ['batch_normalization_313[0][0\n",
      " )                                                                  ]']                           \n",
      "                                                                                                  \n",
      " conv2d_439 (Conv2D)         (None, 8, 8, 170)            43690     ['leaky_re_lu_438[0][0]']     \n",
      "                                                                                                  \n",
      " leaky_re_lu_441 (LeakyReLU  (None, 8, 8, 170)            0         ['conv2d_439[0][0]']          \n",
      " )                                                                                                \n",
      "                                                                                                  \n",
      " conv2d_440 (Conv2D)         (None, 8, 8, 170)            86870     ['leaky_re_lu_441[0][0]']     \n",
      "                                                                                                  \n",
      " batch_normalization_316 (B  (None, 8, 8, 170)            680       ['conv2d_440[0][0]']          \n",
      " atchNormalization)                                                                               \n",
      "                                                                                                  \n",
      " max_pooling2d_61 (MaxPooli  (None, 8, 8, 256)            0         ['leaky_re_lu_438[0][0]']     \n",
      " ng2D)                                                                                            \n",
      "                                                                                                  \n",
      " leaky_re_lu_442 (LeakyReLU  (None, 8, 8, 170)            0         ['batch_normalization_316[0][0\n",
      " )                                                                  ]']                           \n",
      "                                                                                                  \n",
      " conv2d_437 (Conv2D)         (None, 8, 8, 170)            43690     ['leaky_re_lu_438[0][0]']     \n",
      "                                                                                                  \n",
      " conv2d_438 (Conv2D)         (None, 8, 8, 170)            43690     ['max_pooling2d_61[0][0]']    \n",
      "                                                                                                  \n",
      " conv2d_441 (Conv2D)         (None, 8, 8, 170)            86870     ['leaky_re_lu_442[0][0]']     \n",
      "                                                                                                  \n",
      " batch_normalization_314 (B  (None, 8, 8, 170)            680       ['conv2d_437[0][0]']          \n",
      " atchNormalization)                                                                               \n",
      "                                                                                                  \n",
      " batch_normalization_315 (B  (None, 8, 8, 170)            680       ['conv2d_438[0][0]']          \n",
      " atchNormalization)                                                                               \n",
      "                                                                                                  \n",
      " batch_normalization_317 (B  (None, 8, 8, 170)            680       ['conv2d_441[0][0]']          \n",
      " atchNormalization)                                                                               \n",
      "                                                                                                  \n",
      " leaky_re_lu_439 (LeakyReLU  (None, 8, 8, 170)            0         ['batch_normalization_314[0][0\n",
      " )                                                                  ]']                           \n",
      "                                                                                                  \n",
      " leaky_re_lu_440 (LeakyReLU  (None, 8, 8, 170)            0         ['batch_normalization_315[0][0\n",
      " )                                                                  ]']                           \n",
      "                                                                                                  \n",
      " leaky_re_lu_443 (LeakyReLU  (None, 8, 8, 170)            0         ['batch_normalization_317[0][0\n",
      " )                                                                  ]']                           \n",
      "                                                                                                  \n",
      " concatenate_102 (Concatena  (None, 8, 8, 510)            0         ['leaky_re_lu_439[0][0]',     \n",
      " te)                                                                 'leaky_re_lu_440[0][0]',     \n",
      "                                                                     'leaky_re_lu_443[0][0]']     \n",
      "                                                                                                  \n",
      " conv2d_442 (Conv2D)         (None, 8, 8, 512)            261632    ['concatenate_102[0][0]']     \n",
      "                                                                                                  \n",
      " conv2d_443 (Conv2D)         (None, 8, 8, 512)            131584    ['leaky_re_lu_438[0][0]']     \n",
      "                                                                                                  \n",
      " batch_normalization_318 (B  (None, 8, 8, 512)            2048      ['conv2d_442[0][0]']          \n",
      " atchNormalization)                                                                               \n",
      "                                                                                                  \n",
      " batch_normalization_319 (B  (None, 8, 8, 512)            2048      ['conv2d_443[0][0]']          \n",
      " atchNormalization)                                                                               \n",
      "                                                                                                  \n",
      " add_44 (Add)                (None, 8, 8, 512)            0         ['batch_normalization_318[0][0\n",
      "                                                                    ]',                           \n",
      "                                                                     'batch_normalization_319[0][0\n",
      "                                                                    ]']                           \n",
      "                                                                                                  \n",
      " leaky_re_lu_444 (LeakyReLU  (None, 8, 8, 512)            0         ['add_44[0][0]']              \n",
      " )                                                                                                \n",
      "                                                                                                  \n",
      " conv2d_444 (Conv2D)         (None, 8, 8, 512)            262656    ['leaky_re_lu_444[0][0]']     \n",
      "                                                                                                  \n",
      " batch_normalization_320 (B  (None, 8, 8, 512)            2048      ['conv2d_444[0][0]']          \n",
      " atchNormalization)                                                                               \n",
      "                                                                                                  \n",
      " leaky_re_lu_445 (LeakyReLU  (None, 8, 8, 512)            0         ['batch_normalization_320[0][0\n",
      " )                                                                  ]']                           \n",
      "                                                                                                  \n",
      " concatenate_103 (Concatena  (None, 8, 8, 768)            0         ['leaky_re_lu_438[0][0]',     \n",
      " te)                                                                 'leaky_re_lu_445[0][0]']     \n",
      "                                                                                                  \n",
      " conv2d_447 (Conv2D)         (None, 8, 8, 170)            130730    ['concatenate_103[0][0]']     \n",
      "                                                                                                  \n",
      " leaky_re_lu_448 (LeakyReLU  (None, 8, 8, 170)            0         ['conv2d_447[0][0]']          \n",
      " )                                                                                                \n",
      "                                                                                                  \n",
      " conv2d_448 (Conv2D)         (None, 8, 8, 170)            86870     ['leaky_re_lu_448[0][0]']     \n",
      "                                                                                                  \n",
      " batch_normalization_323 (B  (None, 8, 8, 170)            680       ['conv2d_448[0][0]']          \n",
      " atchNormalization)                                                                               \n",
      "                                                                                                  \n",
      " max_pooling2d_62 (MaxPooli  (None, 8, 8, 768)            0         ['concatenate_103[0][0]']     \n",
      " ng2D)                                                                                            \n",
      "                                                                                                  \n",
      " leaky_re_lu_449 (LeakyReLU  (None, 8, 8, 170)            0         ['batch_normalization_323[0][0\n",
      " )                                                                  ]']                           \n",
      "                                                                                                  \n",
      " conv2d_445 (Conv2D)         (None, 8, 8, 170)            130730    ['concatenate_103[0][0]']     \n",
      "                                                                                                  \n",
      " conv2d_446 (Conv2D)         (None, 8, 8, 170)            130730    ['max_pooling2d_62[0][0]']    \n",
      "                                                                                                  \n",
      " conv2d_449 (Conv2D)         (None, 8, 8, 170)            86870     ['leaky_re_lu_449[0][0]']     \n",
      "                                                                                                  \n",
      " batch_normalization_321 (B  (None, 8, 8, 170)            680       ['conv2d_445[0][0]']          \n",
      " atchNormalization)                                                                               \n",
      "                                                                                                  \n",
      " batch_normalization_322 (B  (None, 8, 8, 170)            680       ['conv2d_446[0][0]']          \n",
      " atchNormalization)                                                                               \n",
      "                                                                                                  \n",
      " batch_normalization_324 (B  (None, 8, 8, 170)            680       ['conv2d_449[0][0]']          \n",
      " atchNormalization)                                                                               \n",
      "                                                                                                  \n",
      " leaky_re_lu_446 (LeakyReLU  (None, 8, 8, 170)            0         ['batch_normalization_321[0][0\n",
      " )                                                                  ]']                           \n",
      "                                                                                                  \n",
      " leaky_re_lu_447 (LeakyReLU  (None, 8, 8, 170)            0         ['batch_normalization_322[0][0\n",
      " )                                                                  ]']                           \n",
      "                                                                                                  \n",
      " leaky_re_lu_450 (LeakyReLU  (None, 8, 8, 170)            0         ['batch_normalization_324[0][0\n",
      " )                                                                  ]']                           \n",
      "                                                                                                  \n",
      " concatenate_104 (Concatena  (None, 8, 8, 510)            0         ['leaky_re_lu_446[0][0]',     \n",
      " te)                                                                 'leaky_re_lu_447[0][0]',     \n",
      "                                                                     'leaky_re_lu_450[0][0]']     \n",
      "                                                                                                  \n",
      " conv2d_450 (Conv2D)         (None, 8, 8, 512)            261632    ['concatenate_104[0][0]']     \n",
      "                                                                                                  \n",
      " conv2d_451 (Conv2D)         (None, 8, 8, 512)            393728    ['concatenate_103[0][0]']     \n",
      "                                                                                                  \n",
      " batch_normalization_325 (B  (None, 8, 8, 512)            2048      ['conv2d_450[0][0]']          \n",
      " atchNormalization)                                                                               \n",
      "                                                                                                  \n",
      " batch_normalization_326 (B  (None, 8, 8, 512)            2048      ['conv2d_451[0][0]']          \n",
      " atchNormalization)                                                                               \n",
      "                                                                                                  \n",
      " add_45 (Add)                (None, 8, 8, 512)            0         ['batch_normalization_325[0][0\n",
      "                                                                    ]',                           \n",
      "                                                                     'batch_normalization_326[0][0\n",
      "                                                                    ]']                           \n",
      "                                                                                                  \n",
      " leaky_re_lu_451 (LeakyReLU  (None, 8, 8, 512)            0         ['add_45[0][0]']              \n",
      " )                                                                                                \n",
      "                                                                                                  \n",
      " conv2d_452 (Conv2D)         (None, 8, 8, 512)            262656    ['leaky_re_lu_451[0][0]']     \n",
      "                                                                                                  \n",
      " batch_normalization_327 (B  (None, 8, 8, 512)            2048      ['conv2d_452[0][0]']          \n",
      " atchNormalization)                                                                               \n",
      "                                                                                                  \n",
      " leaky_re_lu_452 (LeakyReLU  (None, 8, 8, 512)            0         ['batch_normalization_327[0][0\n",
      " )                                                                  ]']                           \n",
      "                                                                                                  \n",
      " concatenate_105 (Concatena  (None, 8, 8, 1280)           0         ['leaky_re_lu_438[0][0]',     \n",
      " te)                                                                 'leaky_re_lu_445[0][0]',     \n",
      "                                                                     'leaky_re_lu_452[0][0]']     \n",
      "                                                                                                  \n",
      " conv2d_455 (Conv2D)         (None, 8, 8, 170)            217770    ['concatenate_105[0][0]']     \n",
      "                                                                                                  \n",
      " leaky_re_lu_455 (LeakyReLU  (None, 8, 8, 170)            0         ['conv2d_455[0][0]']          \n",
      " )                                                                                                \n",
      "                                                                                                  \n",
      " conv2d_456 (Conv2D)         (None, 8, 8, 170)            86870     ['leaky_re_lu_455[0][0]']     \n",
      "                                                                                                  \n",
      " batch_normalization_330 (B  (None, 8, 8, 170)            680       ['conv2d_456[0][0]']          \n",
      " atchNormalization)                                                                               \n",
      "                                                                                                  \n",
      " max_pooling2d_63 (MaxPooli  (None, 8, 8, 1280)           0         ['concatenate_105[0][0]']     \n",
      " ng2D)                                                                                            \n",
      "                                                                                                  \n",
      " leaky_re_lu_456 (LeakyReLU  (None, 8, 8, 170)            0         ['batch_normalization_330[0][0\n",
      " )                                                                  ]']                           \n",
      "                                                                                                  \n",
      " conv2d_453 (Conv2D)         (None, 8, 8, 170)            217770    ['concatenate_105[0][0]']     \n",
      "                                                                                                  \n",
      " conv2d_454 (Conv2D)         (None, 8, 8, 170)            217770    ['max_pooling2d_63[0][0]']    \n",
      "                                                                                                  \n",
      " conv2d_457 (Conv2D)         (None, 8, 8, 170)            86870     ['leaky_re_lu_456[0][0]']     \n",
      "                                                                                                  \n",
      " batch_normalization_328 (B  (None, 8, 8, 170)            680       ['conv2d_453[0][0]']          \n",
      " atchNormalization)                                                                               \n",
      "                                                                                                  \n",
      " batch_normalization_329 (B  (None, 8, 8, 170)            680       ['conv2d_454[0][0]']          \n",
      " atchNormalization)                                                                               \n",
      "                                                                                                  \n",
      " batch_normalization_331 (B  (None, 8, 8, 170)            680       ['conv2d_457[0][0]']          \n",
      " atchNormalization)                                                                               \n",
      "                                                                                                  \n",
      " leaky_re_lu_453 (LeakyReLU  (None, 8, 8, 170)            0         ['batch_normalization_328[0][0\n",
      " )                                                                  ]']                           \n",
      "                                                                                                  \n",
      " leaky_re_lu_454 (LeakyReLU  (None, 8, 8, 170)            0         ['batch_normalization_329[0][0\n",
      " )                                                                  ]']                           \n",
      "                                                                                                  \n",
      " leaky_re_lu_457 (LeakyReLU  (None, 8, 8, 170)            0         ['batch_normalization_331[0][0\n",
      " )                                                                  ]']                           \n",
      "                                                                                                  \n",
      " concatenate_106 (Concatena  (None, 8, 8, 510)            0         ['leaky_re_lu_453[0][0]',     \n",
      " te)                                                                 'leaky_re_lu_454[0][0]',     \n",
      "                                                                     'leaky_re_lu_457[0][0]']     \n",
      "                                                                                                  \n",
      " conv2d_458 (Conv2D)         (None, 8, 8, 512)            261632    ['concatenate_106[0][0]']     \n",
      "                                                                                                  \n",
      " conv2d_459 (Conv2D)         (None, 8, 8, 512)            655872    ['concatenate_105[0][0]']     \n",
      "                                                                                                  \n",
      " batch_normalization_332 (B  (None, 8, 8, 512)            2048      ['conv2d_458[0][0]']          \n",
      " atchNormalization)                                                                               \n",
      "                                                                                                  \n",
      " batch_normalization_333 (B  (None, 8, 8, 512)            2048      ['conv2d_459[0][0]']          \n",
      " atchNormalization)                                                                               \n",
      "                                                                                                  \n",
      " add_46 (Add)                (None, 8, 8, 512)            0         ['batch_normalization_332[0][0\n",
      "                                                                    ]',                           \n",
      "                                                                     'batch_normalization_333[0][0\n",
      "                                                                    ]']                           \n",
      "                                                                                                  \n",
      " leaky_re_lu_458 (LeakyReLU  (None, 8, 8, 512)            0         ['add_46[0][0]']              \n",
      " )                                                                                                \n",
      "                                                                                                  \n",
      " conv2d_460 (Conv2D)         (None, 8, 8, 512)            262656    ['leaky_re_lu_458[0][0]']     \n",
      "                                                                                                  \n",
      " batch_normalization_334 (B  (None, 8, 8, 512)            2048      ['conv2d_460[0][0]']          \n",
      " atchNormalization)                                                                               \n",
      "                                                                                                  \n",
      " leaky_re_lu_459 (LeakyReLU  (None, 8, 8, 512)            0         ['batch_normalization_334[0][0\n",
      " )                                                                  ]']                           \n",
      "                                                                                                  \n",
      " concatenate_107 (Concatena  (None, 8, 8, 1792)           0         ['leaky_re_lu_438[0][0]',     \n",
      " te)                                                                 'leaky_re_lu_445[0][0]',     \n",
      "                                                                     'leaky_re_lu_452[0][0]',     \n",
      "                                                                     'leaky_re_lu_459[0][0]']     \n",
      "                                                                                                  \n",
      " conv2d_transpose_50 (Conv2  (None, 8, 8, 85)             152405    ['concatenate_107[0][0]']     \n",
      " DTranspose)                                                                                      \n",
      "                                                                                                  \n",
      " leaky_re_lu_462 (LeakyReLU  (None, 8, 8, 85)             0         ['conv2d_transpose_50[0][0]'] \n",
      " )                                                                                                \n",
      "                                                                                                  \n",
      " conv2d_transpose_48 (Conv2  (None, 8, 8, 85)             152405    ['concatenate_107[0][0]']     \n",
      " DTranspose)                                                                                      \n",
      "                                                                                                  \n",
      " conv2d_transpose_51 (Conv2  (None, 8, 8, 85)             65110     ['leaky_re_lu_462[0][0]']     \n",
      " DTranspose)                                                                                      \n",
      "                                                                                                  \n",
      " leaky_re_lu_460 (LeakyReLU  (None, 8, 8, 85)             0         ['conv2d_transpose_48[0][0]'] \n",
      " )                                                                                                \n",
      "                                                                                                  \n",
      " leaky_re_lu_463 (LeakyReLU  (None, 8, 8, 85)             0         ['conv2d_transpose_51[0][0]'] \n",
      " )                                                                                                \n",
      "                                                                                                  \n",
      " conv2d_transpose_49 (Conv2  (None, 16, 16, 85)           65110     ['leaky_re_lu_460[0][0]']     \n",
      " DTranspose)                                                                                      \n",
      "                                                                                                  \n",
      " conv2d_transpose_52 (Conv2  (None, 16, 16, 85)           65110     ['leaky_re_lu_463[0][0]']     \n",
      " DTranspose)                                                                                      \n",
      "                                                                                                  \n",
      " drop_block2d_50 (DropBlock  (None, 16, 16, 85)           0         ['conv2d_transpose_49[0][0]'] \n",
      " 2D)                                                                                              \n",
      "                                                                                                  \n",
      " drop_block2d_51 (DropBlock  (None, 16, 16, 85)           0         ['conv2d_transpose_52[0][0]'] \n",
      " 2D)                                                                                              \n",
      "                                                                                                  \n",
      " up_sampling2d_8 (UpSamplin  (None, 16, 16, 1792)         0         ['concatenate_107[0][0]']     \n",
      " g2D)                                                                                             \n",
      "                                                                                                  \n",
      " leaky_re_lu_461 (LeakyReLU  (None, 16, 16, 85)           0         ['drop_block2d_50[0][0]']     \n",
      " )                                                                                                \n",
      "                                                                                                  \n",
      " leaky_re_lu_464 (LeakyReLU  (None, 16, 16, 85)           0         ['drop_block2d_51[0][0]']     \n",
      " )                                                                                                \n",
      "                                                                                                  \n",
      " concatenate_108 (Concatena  (None, 16, 16, 1962)         0         ['up_sampling2d_8[0][0]',     \n",
      " te)                                                                 'leaky_re_lu_461[0][0]',     \n",
      "                                                                     'leaky_re_lu_464[0][0]']     \n",
      "                                                                                                  \n",
      " conv2d_transpose_53 (Conv2  (None, 16, 16, 256)          502528    ['concatenate_108[0][0]']     \n",
      " DTranspose)                                                                                      \n",
      "                                                                                                  \n",
      " batch_normalization_335 (B  (None, 16, 16, 256)          1024      ['conv2d_transpose_53[0][0]'] \n",
      " atchNormalization)                                                                               \n",
      "                                                                                                  \n",
      " leaky_re_lu_465 (LeakyReLU  (None, 16, 16, 256)          0         ['batch_normalization_335[0][0\n",
      " )                                                                  ]']                           \n",
      "                                                                                                  \n",
      " concatenate_109 (Concatena  (None, 16, 16, 1152)         0         ['leaky_re_lu_465[0][0]',     \n",
      " te)                                                                 'concatenate_100[0][0]']     \n",
      "                                                                                                  \n",
      " conv2d_463 (Conv2D)         (None, 16, 16, 85)           98005     ['concatenate_109[0][0]']     \n",
      "                                                                                                  \n",
      " leaky_re_lu_468 (LeakyReLU  (None, 16, 16, 85)           0         ['conv2d_463[0][0]']          \n",
      " )                                                                                                \n",
      "                                                                                                  \n",
      " conv2d_464 (Conv2D)         (None, 16, 16, 85)           21760     ['leaky_re_lu_468[0][0]']     \n",
      "                                                                                                  \n",
      " batch_normalization_338 (B  (None, 16, 16, 85)           340       ['conv2d_464[0][0]']          \n",
      " atchNormalization)                                                                               \n",
      "                                                                                                  \n",
      " max_pooling2d_64 (MaxPooli  (None, 16, 16, 1152)         0         ['concatenate_109[0][0]']     \n",
      " ng2D)                                                                                            \n",
      "                                                                                                  \n",
      " leaky_re_lu_469 (LeakyReLU  (None, 16, 16, 85)           0         ['batch_normalization_338[0][0\n",
      " )                                                                  ]']                           \n",
      "                                                                                                  \n",
      " conv2d_461 (Conv2D)         (None, 16, 16, 85)           98005     ['concatenate_109[0][0]']     \n",
      "                                                                                                  \n",
      " conv2d_462 (Conv2D)         (None, 16, 16, 85)           98005     ['max_pooling2d_64[0][0]']    \n",
      "                                                                                                  \n",
      " conv2d_465 (Conv2D)         (None, 16, 16, 85)           21760     ['leaky_re_lu_469[0][0]']     \n",
      "                                                                                                  \n",
      " batch_normalization_336 (B  (None, 16, 16, 85)           340       ['conv2d_461[0][0]']          \n",
      " atchNormalization)                                                                               \n",
      "                                                                                                  \n",
      " batch_normalization_337 (B  (None, 16, 16, 85)           340       ['conv2d_462[0][0]']          \n",
      " atchNormalization)                                                                               \n",
      "                                                                                                  \n",
      " batch_normalization_339 (B  (None, 16, 16, 85)           340       ['conv2d_465[0][0]']          \n",
      " atchNormalization)                                                                               \n",
      "                                                                                                  \n",
      " leaky_re_lu_466 (LeakyReLU  (None, 16, 16, 85)           0         ['batch_normalization_336[0][0\n",
      " )                                                                  ]']                           \n",
      "                                                                                                  \n",
      " leaky_re_lu_467 (LeakyReLU  (None, 16, 16, 85)           0         ['batch_normalization_337[0][0\n",
      " )                                                                  ]']                           \n",
      "                                                                                                  \n",
      " leaky_re_lu_470 (LeakyReLU  (None, 16, 16, 85)           0         ['batch_normalization_339[0][0\n",
      " )                                                                  ]']                           \n",
      "                                                                                                  \n",
      " concatenate_110 (Concatena  (None, 16, 16, 255)          0         ['leaky_re_lu_466[0][0]',     \n",
      " te)                                                                 'leaky_re_lu_467[0][0]',     \n",
      "                                                                     'leaky_re_lu_470[0][0]']     \n",
      "                                                                                                  \n",
      " conv2d_466 (Conv2D)         (None, 16, 16, 256)          65536     ['concatenate_110[0][0]']     \n",
      "                                                                                                  \n",
      " conv2d_467 (Conv2D)         (None, 16, 16, 256)          295168    ['concatenate_109[0][0]']     \n",
      "                                                                                                  \n",
      " batch_normalization_340 (B  (None, 16, 16, 256)          1024      ['conv2d_466[0][0]']          \n",
      " atchNormalization)                                                                               \n",
      "                                                                                                  \n",
      " batch_normalization_341 (B  (None, 16, 16, 256)          1024      ['conv2d_467[0][0]']          \n",
      " atchNormalization)                                                                               \n",
      "                                                                                                  \n",
      " add_47 (Add)                (None, 16, 16, 256)          0         ['batch_normalization_340[0][0\n",
      "                                                                    ]',                           \n",
      "                                                                     'batch_normalization_341[0][0\n",
      "                                                                    ]']                           \n",
      "                                                                                                  \n",
      " leaky_re_lu_471 (LeakyReLU  (None, 16, 16, 256)          0         ['add_47[0][0]']              \n",
      " )                                                                                                \n",
      "                                                                                                  \n",
      " conv2d_468 (Conv2D)         (None, 16, 16, 256)          65792     ['leaky_re_lu_471[0][0]']     \n",
      "                                                                                                  \n",
      " batch_normalization_342 (B  (None, 16, 16, 256)          1024      ['conv2d_468[0][0]']          \n",
      " atchNormalization)                                                                               \n",
      "                                                                                                  \n",
      " leaky_re_lu_472 (LeakyReLU  (None, 16, 16, 256)          0         ['batch_normalization_342[0][0\n",
      " )                                                                  ]']                           \n",
      "                                                                                                  \n",
      " concatenate_111 (Concatena  (None, 16, 16, 1408)         0         ['concatenate_109[0][0]',     \n",
      " te)                                                                 'leaky_re_lu_472[0][0]']     \n",
      "                                                                                                  \n",
      " conv2d_471 (Conv2D)         (None, 16, 16, 85)           119765    ['concatenate_111[0][0]']     \n",
      "                                                                                                  \n",
      " leaky_re_lu_475 (LeakyReLU  (None, 16, 16, 85)           0         ['conv2d_471[0][0]']          \n",
      " )                                                                                                \n",
      "                                                                                                  \n",
      " conv2d_472 (Conv2D)         (None, 16, 16, 85)           21760     ['leaky_re_lu_475[0][0]']     \n",
      "                                                                                                  \n",
      " batch_normalization_345 (B  (None, 16, 16, 85)           340       ['conv2d_472[0][0]']          \n",
      " atchNormalization)                                                                               \n",
      "                                                                                                  \n",
      " max_pooling2d_65 (MaxPooli  (None, 16, 16, 1408)         0         ['concatenate_111[0][0]']     \n",
      " ng2D)                                                                                            \n",
      "                                                                                                  \n",
      " leaky_re_lu_476 (LeakyReLU  (None, 16, 16, 85)           0         ['batch_normalization_345[0][0\n",
      " )                                                                  ]']                           \n",
      "                                                                                                  \n",
      " conv2d_469 (Conv2D)         (None, 16, 16, 85)           119765    ['concatenate_111[0][0]']     \n",
      "                                                                                                  \n",
      " conv2d_470 (Conv2D)         (None, 16, 16, 85)           119765    ['max_pooling2d_65[0][0]']    \n",
      "                                                                                                  \n",
      " conv2d_473 (Conv2D)         (None, 16, 16, 85)           21760     ['leaky_re_lu_476[0][0]']     \n",
      "                                                                                                  \n",
      " batch_normalization_343 (B  (None, 16, 16, 85)           340       ['conv2d_469[0][0]']          \n",
      " atchNormalization)                                                                               \n",
      "                                                                                                  \n",
      " batch_normalization_344 (B  (None, 16, 16, 85)           340       ['conv2d_470[0][0]']          \n",
      " atchNormalization)                                                                               \n",
      "                                                                                                  \n",
      " batch_normalization_346 (B  (None, 16, 16, 85)           340       ['conv2d_473[0][0]']          \n",
      " atchNormalization)                                                                               \n",
      "                                                                                                  \n",
      " leaky_re_lu_473 (LeakyReLU  (None, 16, 16, 85)           0         ['batch_normalization_343[0][0\n",
      " )                                                                  ]']                           \n",
      "                                                                                                  \n",
      " leaky_re_lu_474 (LeakyReLU  (None, 16, 16, 85)           0         ['batch_normalization_344[0][0\n",
      " )                                                                  ]']                           \n",
      "                                                                                                  \n",
      " leaky_re_lu_477 (LeakyReLU  (None, 16, 16, 85)           0         ['batch_normalization_346[0][0\n",
      " )                                                                  ]']                           \n",
      "                                                                                                  \n",
      " concatenate_112 (Concatena  (None, 16, 16, 255)          0         ['leaky_re_lu_473[0][0]',     \n",
      " te)                                                                 'leaky_re_lu_474[0][0]',     \n",
      "                                                                     'leaky_re_lu_477[0][0]']     \n",
      "                                                                                                  \n",
      " conv2d_474 (Conv2D)         (None, 16, 16, 256)          65536     ['concatenate_112[0][0]']     \n",
      "                                                                                                  \n",
      " conv2d_475 (Conv2D)         (None, 16, 16, 256)          360704    ['concatenate_111[0][0]']     \n",
      "                                                                                                  \n",
      " batch_normalization_347 (B  (None, 16, 16, 256)          1024      ['conv2d_474[0][0]']          \n",
      " atchNormalization)                                                                               \n",
      "                                                                                                  \n",
      " batch_normalization_348 (B  (None, 16, 16, 256)          1024      ['conv2d_475[0][0]']          \n",
      " atchNormalization)                                                                               \n",
      "                                                                                                  \n",
      " add_48 (Add)                (None, 16, 16, 256)          0         ['batch_normalization_347[0][0\n",
      "                                                                    ]',                           \n",
      "                                                                     'batch_normalization_348[0][0\n",
      "                                                                    ]']                           \n",
      "                                                                                                  \n",
      " leaky_re_lu_478 (LeakyReLU  (None, 16, 16, 256)          0         ['add_48[0][0]']              \n",
      " )                                                                                                \n",
      "                                                                                                  \n",
      " conv2d_476 (Conv2D)         (None, 16, 16, 256)          65792     ['leaky_re_lu_478[0][0]']     \n",
      "                                                                                                  \n",
      " batch_normalization_349 (B  (None, 16, 16, 256)          1024      ['conv2d_476[0][0]']          \n",
      " atchNormalization)                                                                               \n",
      "                                                                                                  \n",
      " leaky_re_lu_479 (LeakyReLU  (None, 16, 16, 256)          0         ['batch_normalization_349[0][0\n",
      " )                                                                  ]']                           \n",
      "                                                                                                  \n",
      " concatenate_113 (Concatena  (None, 16, 16, 1664)         0         ['concatenate_109[0][0]',     \n",
      " te)                                                                 'leaky_re_lu_472[0][0]',     \n",
      "                                                                     'leaky_re_lu_479[0][0]']     \n",
      "                                                                                                  \n",
      " conv2d_479 (Conv2D)         (None, 16, 16, 85)           141525    ['concatenate_113[0][0]']     \n",
      "                                                                                                  \n",
      " leaky_re_lu_482 (LeakyReLU  (None, 16, 16, 85)           0         ['conv2d_479[0][0]']          \n",
      " )                                                                                                \n",
      "                                                                                                  \n",
      " conv2d_480 (Conv2D)         (None, 16, 16, 85)           21760     ['leaky_re_lu_482[0][0]']     \n",
      "                                                                                                  \n",
      " batch_normalization_352 (B  (None, 16, 16, 85)           340       ['conv2d_480[0][0]']          \n",
      " atchNormalization)                                                                               \n",
      "                                                                                                  \n",
      " max_pooling2d_66 (MaxPooli  (None, 16, 16, 1664)         0         ['concatenate_113[0][0]']     \n",
      " ng2D)                                                                                            \n",
      "                                                                                                  \n",
      " leaky_re_lu_483 (LeakyReLU  (None, 16, 16, 85)           0         ['batch_normalization_352[0][0\n",
      " )                                                                  ]']                           \n",
      "                                                                                                  \n",
      " conv2d_477 (Conv2D)         (None, 16, 16, 85)           141525    ['concatenate_113[0][0]']     \n",
      "                                                                                                  \n",
      " conv2d_478 (Conv2D)         (None, 16, 16, 85)           141525    ['max_pooling2d_66[0][0]']    \n",
      "                                                                                                  \n",
      " conv2d_481 (Conv2D)         (None, 16, 16, 85)           21760     ['leaky_re_lu_483[0][0]']     \n",
      "                                                                                                  \n",
      " batch_normalization_350 (B  (None, 16, 16, 85)           340       ['conv2d_477[0][0]']          \n",
      " atchNormalization)                                                                               \n",
      "                                                                                                  \n",
      " batch_normalization_351 (B  (None, 16, 16, 85)           340       ['conv2d_478[0][0]']          \n",
      " atchNormalization)                                                                               \n",
      "                                                                                                  \n",
      " batch_normalization_353 (B  (None, 16, 16, 85)           340       ['conv2d_481[0][0]']          \n",
      " atchNormalization)                                                                               \n",
      "                                                                                                  \n",
      " leaky_re_lu_480 (LeakyReLU  (None, 16, 16, 85)           0         ['batch_normalization_350[0][0\n",
      " )                                                                  ]']                           \n",
      "                                                                                                  \n",
      " leaky_re_lu_481 (LeakyReLU  (None, 16, 16, 85)           0         ['batch_normalization_351[0][0\n",
      " )                                                                  ]']                           \n",
      "                                                                                                  \n",
      " leaky_re_lu_484 (LeakyReLU  (None, 16, 16, 85)           0         ['batch_normalization_353[0][0\n",
      " )                                                                  ]']                           \n",
      "                                                                                                  \n",
      " concatenate_114 (Concatena  (None, 16, 16, 255)          0         ['leaky_re_lu_480[0][0]',     \n",
      " te)                                                                 'leaky_re_lu_481[0][0]',     \n",
      "                                                                     'leaky_re_lu_484[0][0]']     \n",
      "                                                                                                  \n",
      " conv2d_482 (Conv2D)         (None, 16, 16, 256)          65536     ['concatenate_114[0][0]']     \n",
      "                                                                                                  \n",
      " conv2d_483 (Conv2D)         (None, 16, 16, 256)          426240    ['concatenate_113[0][0]']     \n",
      "                                                                                                  \n",
      " batch_normalization_354 (B  (None, 16, 16, 256)          1024      ['conv2d_482[0][0]']          \n",
      " atchNormalization)                                                                               \n",
      "                                                                                                  \n",
      " batch_normalization_355 (B  (None, 16, 16, 256)          1024      ['conv2d_483[0][0]']          \n",
      " atchNormalization)                                                                               \n",
      "                                                                                                  \n",
      " add_49 (Add)                (None, 16, 16, 256)          0         ['batch_normalization_354[0][0\n",
      "                                                                    ]',                           \n",
      "                                                                     'batch_normalization_355[0][0\n",
      "                                                                    ]']                           \n",
      "                                                                                                  \n",
      " leaky_re_lu_485 (LeakyReLU  (None, 16, 16, 256)          0         ['add_49[0][0]']              \n",
      " )                                                                                                \n",
      "                                                                                                  \n",
      " conv2d_484 (Conv2D)         (None, 16, 16, 256)          65792     ['leaky_re_lu_485[0][0]']     \n",
      "                                                                                                  \n",
      " batch_normalization_356 (B  (None, 16, 16, 256)          1024      ['conv2d_484[0][0]']          \n",
      " atchNormalization)                                                                               \n",
      "                                                                                                  \n",
      " leaky_re_lu_486 (LeakyReLU  (None, 16, 16, 256)          0         ['batch_normalization_356[0][0\n",
      " )                                                                  ]']                           \n",
      "                                                                                                  \n",
      " concatenate_115 (Concatena  (None, 16, 16, 1920)         0         ['concatenate_109[0][0]',     \n",
      " te)                                                                 'leaky_re_lu_472[0][0]',     \n",
      "                                                                     'leaky_re_lu_479[0][0]',     \n",
      "                                                                     'leaky_re_lu_486[0][0]']     \n",
      "                                                                                                  \n",
      " conv2d_transpose_56 (Conv2  (None, 16, 16, 42)           80682     ['concatenate_115[0][0]']     \n",
      " DTranspose)                                                                                      \n",
      "                                                                                                  \n",
      " leaky_re_lu_489 (LeakyReLU  (None, 16, 16, 42)           0         ['conv2d_transpose_56[0][0]'] \n",
      " )                                                                                                \n",
      "                                                                                                  \n",
      " conv2d_transpose_54 (Conv2  (None, 16, 16, 42)           80682     ['concatenate_115[0][0]']     \n",
      " DTranspose)                                                                                      \n",
      "                                                                                                  \n",
      " conv2d_transpose_57 (Conv2  (None, 16, 16, 42)           15918     ['leaky_re_lu_489[0][0]']     \n",
      " DTranspose)                                                                                      \n",
      "                                                                                                  \n",
      " leaky_re_lu_487 (LeakyReLU  (None, 16, 16, 42)           0         ['conv2d_transpose_54[0][0]'] \n",
      " )                                                                                                \n",
      "                                                                                                  \n",
      " leaky_re_lu_490 (LeakyReLU  (None, 16, 16, 42)           0         ['conv2d_transpose_57[0][0]'] \n",
      " )                                                                                                \n",
      "                                                                                                  \n",
      " conv2d_transpose_55 (Conv2  (None, 32, 32, 42)           15918     ['leaky_re_lu_487[0][0]']     \n",
      " DTranspose)                                                                                      \n",
      "                                                                                                  \n",
      " conv2d_transpose_58 (Conv2  (None, 32, 32, 42)           15918     ['leaky_re_lu_490[0][0]']     \n",
      " DTranspose)                                                                                      \n",
      "                                                                                                  \n",
      " drop_block2d_52 (DropBlock  (None, 32, 32, 42)           0         ['conv2d_transpose_55[0][0]'] \n",
      " 2D)                                                                                              \n",
      "                                                                                                  \n",
      " drop_block2d_53 (DropBlock  (None, 32, 32, 42)           0         ['conv2d_transpose_58[0][0]'] \n",
      " 2D)                                                                                              \n",
      "                                                                                                  \n",
      " up_sampling2d_9 (UpSamplin  (None, 32, 32, 1920)         0         ['concatenate_115[0][0]']     \n",
      " g2D)                                                                                             \n",
      "                                                                                                  \n",
      " leaky_re_lu_488 (LeakyReLU  (None, 32, 32, 42)           0         ['drop_block2d_52[0][0]']     \n",
      " )                                                                                                \n",
      "                                                                                                  \n",
      " leaky_re_lu_491 (LeakyReLU  (None, 32, 32, 42)           0         ['drop_block2d_53[0][0]']     \n",
      " )                                                                                                \n",
      "                                                                                                  \n",
      " concatenate_116 (Concatena  (None, 32, 32, 2004)         0         ['up_sampling2d_9[0][0]',     \n",
      " te)                                                                 'leaky_re_lu_488[0][0]',     \n",
      "                                                                     'leaky_re_lu_491[0][0]']     \n",
      "                                                                                                  \n",
      " conv2d_transpose_59 (Conv2  (None, 32, 32, 128)          256640    ['concatenate_116[0][0]']     \n",
      " DTranspose)                                                                                      \n",
      "                                                                                                  \n",
      " batch_normalization_357 (B  (None, 32, 32, 128)          512       ['conv2d_transpose_59[0][0]'] \n",
      " atchNormalization)                                                                               \n",
      "                                                                                                  \n",
      " leaky_re_lu_492 (LeakyReLU  (None, 32, 32, 128)          0         ['batch_normalization_357[0][0\n",
      " )                                                                  ]']                           \n",
      "                                                                                                  \n",
      " concatenate_117 (Concatena  (None, 32, 32, 256)          0         ['leaky_re_lu_492[0][0]',     \n",
      " te)                                                                 'leaky_re_lu_405[0][0]']     \n",
      "                                                                                                  \n",
      " conv2d_487 (Conv2D)         (None, 32, 32, 42)           10794     ['concatenate_117[0][0]']     \n",
      "                                                                                                  \n",
      " leaky_re_lu_495 (LeakyReLU  (None, 32, 32, 42)           0         ['conv2d_487[0][0]']          \n",
      " )                                                                                                \n",
      "                                                                                                  \n",
      " conv2d_488 (Conv2D)         (None, 32, 32, 42)           5334      ['leaky_re_lu_495[0][0]']     \n",
      "                                                                                                  \n",
      " batch_normalization_360 (B  (None, 32, 32, 42)           168       ['conv2d_488[0][0]']          \n",
      " atchNormalization)                                                                               \n",
      "                                                                                                  \n",
      " max_pooling2d_67 (MaxPooli  (None, 32, 32, 256)          0         ['concatenate_117[0][0]']     \n",
      " ng2D)                                                                                            \n",
      "                                                                                                  \n",
      " leaky_re_lu_496 (LeakyReLU  (None, 32, 32, 42)           0         ['batch_normalization_360[0][0\n",
      " )                                                                  ]']                           \n",
      "                                                                                                  \n",
      " conv2d_485 (Conv2D)         (None, 32, 32, 42)           10794     ['concatenate_117[0][0]']     \n",
      "                                                                                                  \n",
      " conv2d_486 (Conv2D)         (None, 32, 32, 42)           10794     ['max_pooling2d_67[0][0]']    \n",
      "                                                                                                  \n",
      " conv2d_489 (Conv2D)         (None, 32, 32, 42)           5334      ['leaky_re_lu_496[0][0]']     \n",
      "                                                                                                  \n",
      " batch_normalization_358 (B  (None, 32, 32, 42)           168       ['conv2d_485[0][0]']          \n",
      " atchNormalization)                                                                               \n",
      "                                                                                                  \n",
      " batch_normalization_359 (B  (None, 32, 32, 42)           168       ['conv2d_486[0][0]']          \n",
      " atchNormalization)                                                                               \n",
      "                                                                                                  \n",
      " batch_normalization_361 (B  (None, 32, 32, 42)           168       ['conv2d_489[0][0]']          \n",
      " atchNormalization)                                                                               \n",
      "                                                                                                  \n",
      " leaky_re_lu_493 (LeakyReLU  (None, 32, 32, 42)           0         ['batch_normalization_358[0][0\n",
      " )                                                                  ]']                           \n",
      "                                                                                                  \n",
      " leaky_re_lu_494 (LeakyReLU  (None, 32, 32, 42)           0         ['batch_normalization_359[0][0\n",
      " )                                                                  ]']                           \n",
      "                                                                                                  \n",
      " leaky_re_lu_497 (LeakyReLU  (None, 32, 32, 42)           0         ['batch_normalization_361[0][0\n",
      " )                                                                  ]']                           \n",
      "                                                                                                  \n",
      " concatenate_118 (Concatena  (None, 32, 32, 126)          0         ['leaky_re_lu_493[0][0]',     \n",
      " te)                                                                 'leaky_re_lu_494[0][0]',     \n",
      "                                                                     'leaky_re_lu_497[0][0]']     \n",
      "                                                                                                  \n",
      " conv2d_490 (Conv2D)         (None, 32, 32, 128)          16256     ['concatenate_118[0][0]']     \n",
      "                                                                                                  \n",
      " conv2d_491 (Conv2D)         (None, 32, 32, 128)          32896     ['concatenate_117[0][0]']     \n",
      "                                                                                                  \n",
      " batch_normalization_362 (B  (None, 32, 32, 128)          512       ['conv2d_490[0][0]']          \n",
      " atchNormalization)                                                                               \n",
      "                                                                                                  \n",
      " batch_normalization_363 (B  (None, 32, 32, 128)          512       ['conv2d_491[0][0]']          \n",
      " atchNormalization)                                                                               \n",
      "                                                                                                  \n",
      " add_50 (Add)                (None, 32, 32, 128)          0         ['batch_normalization_362[0][0\n",
      "                                                                    ]',                           \n",
      "                                                                     'batch_normalization_363[0][0\n",
      "                                                                    ]']                           \n",
      "                                                                                                  \n",
      " leaky_re_lu_498 (LeakyReLU  (None, 32, 32, 128)          0         ['add_50[0][0]']              \n",
      " )                                                                                                \n",
      "                                                                                                  \n",
      " conv2d_transpose_62 (Conv2  (None, 32, 32, 21)           2709      ['leaky_re_lu_498[0][0]']     \n",
      " DTranspose)                                                                                      \n",
      "                                                                                                  \n",
      " leaky_re_lu_501 (LeakyReLU  (None, 32, 32, 21)           0         ['conv2d_transpose_62[0][0]'] \n",
      " )                                                                                                \n",
      "                                                                                                  \n",
      " conv2d_transpose_60 (Conv2  (None, 32, 32, 21)           2709      ['leaky_re_lu_498[0][0]']     \n",
      " DTranspose)                                                                                      \n",
      "                                                                                                  \n",
      " conv2d_transpose_63 (Conv2  (None, 32, 32, 21)           3990      ['leaky_re_lu_501[0][0]']     \n",
      " DTranspose)                                                                                      \n",
      "                                                                                                  \n",
      " leaky_re_lu_499 (LeakyReLU  (None, 32, 32, 21)           0         ['conv2d_transpose_60[0][0]'] \n",
      " )                                                                                                \n",
      "                                                                                                  \n",
      " leaky_re_lu_502 (LeakyReLU  (None, 32, 32, 21)           0         ['conv2d_transpose_63[0][0]'] \n",
      " )                                                                                                \n",
      "                                                                                                  \n",
      " conv2d_transpose_61 (Conv2  (None, 64, 64, 21)           3990      ['leaky_re_lu_499[0][0]']     \n",
      " DTranspose)                                                                                      \n",
      "                                                                                                  \n",
      " conv2d_transpose_64 (Conv2  (None, 64, 64, 21)           3990      ['leaky_re_lu_502[0][0]']     \n",
      " DTranspose)                                                                                      \n",
      "                                                                                                  \n",
      " drop_block2d_54 (DropBlock  (None, 64, 64, 21)           0         ['conv2d_transpose_61[0][0]'] \n",
      " 2D)                                                                                              \n",
      "                                                                                                  \n",
      " drop_block2d_55 (DropBlock  (None, 64, 64, 21)           0         ['conv2d_transpose_64[0][0]'] \n",
      " 2D)                                                                                              \n",
      "                                                                                                  \n",
      " up_sampling2d_10 (UpSampli  (None, 64, 64, 128)          0         ['leaky_re_lu_498[0][0]']     \n",
      " ng2D)                                                                                            \n",
      "                                                                                                  \n",
      " leaky_re_lu_500 (LeakyReLU  (None, 64, 64, 21)           0         ['drop_block2d_54[0][0]']     \n",
      " )                                                                                                \n",
      "                                                                                                  \n",
      " leaky_re_lu_503 (LeakyReLU  (None, 64, 64, 21)           0         ['drop_block2d_55[0][0]']     \n",
      " )                                                                                                \n",
      "                                                                                                  \n",
      " concatenate_119 (Concatena  (None, 64, 64, 170)          0         ['up_sampling2d_10[0][0]',    \n",
      " te)                                                                 'leaky_re_lu_500[0][0]',     \n",
      "                                                                     'leaky_re_lu_503[0][0]']     \n",
      "                                                                                                  \n",
      " conv2d_transpose_65 (Conv2  (None, 64, 64, 64)           10944     ['concatenate_119[0][0]']     \n",
      " DTranspose)                                                                                      \n",
      "                                                                                                  \n",
      " batch_normalization_364 (B  (None, 64, 64, 64)           256       ['conv2d_transpose_65[0][0]'] \n",
      " atchNormalization)                                                                               \n",
      "                                                                                                  \n",
      " leaky_re_lu_504 (LeakyReLU  (None, 64, 64, 64)           0         ['batch_normalization_364[0][0\n",
      " )                                                                  ]']                           \n",
      "                                                                                                  \n",
      " concatenate_120 (Concatena  (None, 64, 64, 128)          0         ['leaky_re_lu_504[0][0]',     \n",
      " te)                                                                 'leaky_re_lu_393[0][0]']     \n",
      "                                                                                                  \n",
      " conv2d_494 (Conv2D)         (None, 64, 64, 21)           2709      ['concatenate_120[0][0]']     \n",
      "                                                                                                  \n",
      " leaky_re_lu_507 (LeakyReLU  (None, 64, 64, 21)           0         ['conv2d_494[0][0]']          \n",
      " )                                                                                                \n",
      "                                                                                                  \n",
      " conv2d_495 (Conv2D)         (None, 64, 64, 21)           1344      ['leaky_re_lu_507[0][0]']     \n",
      "                                                                                                  \n",
      " batch_normalization_367 (B  (None, 64, 64, 21)           84        ['conv2d_495[0][0]']          \n",
      " atchNormalization)                                                                               \n",
      "                                                                                                  \n",
      " max_pooling2d_68 (MaxPooli  (None, 64, 64, 128)          0         ['concatenate_120[0][0]']     \n",
      " ng2D)                                                                                            \n",
      "                                                                                                  \n",
      " leaky_re_lu_508 (LeakyReLU  (None, 64, 64, 21)           0         ['batch_normalization_367[0][0\n",
      " )                                                                  ]']                           \n",
      "                                                                                                  \n",
      " conv2d_492 (Conv2D)         (None, 64, 64, 21)           2709      ['concatenate_120[0][0]']     \n",
      "                                                                                                  \n",
      " conv2d_493 (Conv2D)         (None, 64, 64, 21)           2709      ['max_pooling2d_68[0][0]']    \n",
      "                                                                                                  \n",
      " conv2d_496 (Conv2D)         (None, 64, 64, 21)           1344      ['leaky_re_lu_508[0][0]']     \n",
      "                                                                                                  \n",
      " batch_normalization_365 (B  (None, 64, 64, 21)           84        ['conv2d_492[0][0]']          \n",
      " atchNormalization)                                                                               \n",
      "                                                                                                  \n",
      " batch_normalization_366 (B  (None, 64, 64, 21)           84        ['conv2d_493[0][0]']          \n",
      " atchNormalization)                                                                               \n",
      "                                                                                                  \n",
      " batch_normalization_368 (B  (None, 64, 64, 21)           84        ['conv2d_496[0][0]']          \n",
      " atchNormalization)                                                                               \n",
      "                                                                                                  \n",
      " leaky_re_lu_505 (LeakyReLU  (None, 64, 64, 21)           0         ['batch_normalization_365[0][0\n",
      " )                                                                  ]']                           \n",
      "                                                                                                  \n",
      " leaky_re_lu_506 (LeakyReLU  (None, 64, 64, 21)           0         ['batch_normalization_366[0][0\n",
      " )                                                                  ]']                           \n",
      "                                                                                                  \n",
      " leaky_re_lu_509 (LeakyReLU  (None, 64, 64, 21)           0         ['batch_normalization_368[0][0\n",
      " )                                                                  ]']                           \n",
      "                                                                                                  \n",
      " concatenate_121 (Concatena  (None, 64, 64, 63)           0         ['leaky_re_lu_505[0][0]',     \n",
      " te)                                                                 'leaky_re_lu_506[0][0]',     \n",
      "                                                                     'leaky_re_lu_509[0][0]']     \n",
      "                                                                                                  \n",
      " conv2d_497 (Conv2D)         (None, 64, 64, 64)           4096      ['concatenate_121[0][0]']     \n",
      "                                                                                                  \n",
      " conv2d_498 (Conv2D)         (None, 64, 64, 64)           8256      ['concatenate_120[0][0]']     \n",
      "                                                                                                  \n",
      " batch_normalization_369 (B  (None, 64, 64, 64)           256       ['conv2d_497[0][0]']          \n",
      " atchNormalization)                                                                               \n",
      "                                                                                                  \n",
      " batch_normalization_370 (B  (None, 64, 64, 64)           256       ['conv2d_498[0][0]']          \n",
      " atchNormalization)                                                                               \n",
      "                                                                                                  \n",
      " add_51 (Add)                (None, 64, 64, 64)           0         ['batch_normalization_369[0][0\n",
      "                                                                    ]',                           \n",
      "                                                                     'batch_normalization_370[0][0\n",
      "                                                                    ]']                           \n",
      "                                                                                                  \n",
      " leaky_re_lu_510 (LeakyReLU  (None, 64, 64, 64)           0         ['add_51[0][0]']              \n",
      " )                                                                                                \n",
      "                                                                                                  \n",
      " conv2d_transpose_68 (Conv2  (None, 64, 64, 10)           650       ['leaky_re_lu_510[0][0]']     \n",
      " DTranspose)                                                                                      \n",
      "                                                                                                  \n",
      " leaky_re_lu_513 (LeakyReLU  (None, 64, 64, 10)           0         ['conv2d_transpose_68[0][0]'] \n",
      " )                                                                                                \n",
      "                                                                                                  \n",
      " conv2d_transpose_66 (Conv2  (None, 64, 64, 10)           650       ['leaky_re_lu_510[0][0]']     \n",
      " DTranspose)                                                                                      \n",
      "                                                                                                  \n",
      " conv2d_transpose_69 (Conv2  (None, 64, 64, 10)           910       ['leaky_re_lu_513[0][0]']     \n",
      " DTranspose)                                                                                      \n",
      "                                                                                                  \n",
      " leaky_re_lu_511 (LeakyReLU  (None, 64, 64, 10)           0         ['conv2d_transpose_66[0][0]'] \n",
      " )                                                                                                \n",
      "                                                                                                  \n",
      " leaky_re_lu_514 (LeakyReLU  (None, 64, 64, 10)           0         ['conv2d_transpose_69[0][0]'] \n",
      " )                                                                                                \n",
      "                                                                                                  \n",
      " conv2d_transpose_67 (Conv2  (None, 128, 128, 10)         910       ['leaky_re_lu_511[0][0]']     \n",
      " DTranspose)                                                                                      \n",
      "                                                                                                  \n",
      " conv2d_transpose_70 (Conv2  (None, 128, 128, 10)         910       ['leaky_re_lu_514[0][0]']     \n",
      " DTranspose)                                                                                      \n",
      "                                                                                                  \n",
      " drop_block2d_56 (DropBlock  (None, 128, 128, 10)         0         ['conv2d_transpose_67[0][0]'] \n",
      " 2D)                                                                                              \n",
      "                                                                                                  \n",
      " drop_block2d_57 (DropBlock  (None, 128, 128, 10)         0         ['conv2d_transpose_70[0][0]'] \n",
      " 2D)                                                                                              \n",
      "                                                                                                  \n",
      " up_sampling2d_11 (UpSampli  (None, 128, 128, 64)         0         ['leaky_re_lu_510[0][0]']     \n",
      " ng2D)                                                                                            \n",
      "                                                                                                  \n",
      " leaky_re_lu_512 (LeakyReLU  (None, 128, 128, 10)         0         ['drop_block2d_56[0][0]']     \n",
      " )                                                                                                \n",
      "                                                                                                  \n",
      " leaky_re_lu_515 (LeakyReLU  (None, 128, 128, 10)         0         ['drop_block2d_57[0][0]']     \n",
      " )                                                                                                \n",
      "                                                                                                  \n",
      " concatenate_122 (Concatena  (None, 128, 128, 84)         0         ['up_sampling2d_11[0][0]',    \n",
      " te)                                                                 'leaky_re_lu_512[0][0]',     \n",
      "                                                                     'leaky_re_lu_515[0][0]']     \n",
      "                                                                                                  \n",
      " conv2d_transpose_71 (Conv2  (None, 128, 128, 32)         2720      ['concatenate_122[0][0]']     \n",
      " DTranspose)                                                                                      \n",
      "                                                                                                  \n",
      " batch_normalization_371 (B  (None, 128, 128, 32)         128       ['conv2d_transpose_71[0][0]'] \n",
      " atchNormalization)                                                                               \n",
      "                                                                                                  \n",
      " leaky_re_lu_516 (LeakyReLU  (None, 128, 128, 32)         0         ['batch_normalization_371[0][0\n",
      " )                                                                  ]']                           \n",
      "                                                                                                  \n",
      " concatenate_123 (Concatena  (None, 128, 128, 64)         0         ['leaky_re_lu_516[0][0]',     \n",
      " te)                                                                 'leaky_re_lu_381[0][0]']     \n",
      "                                                                                                  \n",
      " conv2d_501 (Conv2D)         (None, 128, 128, 10)         650       ['concatenate_123[0][0]']     \n",
      "                                                                                                  \n",
      " leaky_re_lu_519 (LeakyReLU  (None, 128, 128, 10)         0         ['conv2d_501[0][0]']          \n",
      " )                                                                                                \n",
      "                                                                                                  \n",
      " conv2d_502 (Conv2D)         (None, 128, 128, 10)         310       ['leaky_re_lu_519[0][0]']     \n",
      "                                                                                                  \n",
      " batch_normalization_374 (B  (None, 128, 128, 10)         40        ['conv2d_502[0][0]']          \n",
      " atchNormalization)                                                                               \n",
      "                                                                                                  \n",
      " max_pooling2d_69 (MaxPooli  (None, 128, 128, 64)         0         ['concatenate_123[0][0]']     \n",
      " ng2D)                                                                                            \n",
      "                                                                                                  \n",
      " leaky_re_lu_520 (LeakyReLU  (None, 128, 128, 10)         0         ['batch_normalization_374[0][0\n",
      " )                                                                  ]']                           \n",
      "                                                                                                  \n",
      " conv2d_499 (Conv2D)         (None, 128, 128, 10)         650       ['concatenate_123[0][0]']     \n",
      "                                                                                                  \n",
      " conv2d_500 (Conv2D)         (None, 128, 128, 10)         650       ['max_pooling2d_69[0][0]']    \n",
      "                                                                                                  \n",
      " conv2d_503 (Conv2D)         (None, 128, 128, 10)         310       ['leaky_re_lu_520[0][0]']     \n",
      "                                                                                                  \n",
      " batch_normalization_372 (B  (None, 128, 128, 10)         40        ['conv2d_499[0][0]']          \n",
      " atchNormalization)                                                                               \n",
      "                                                                                                  \n",
      " batch_normalization_373 (B  (None, 128, 128, 10)         40        ['conv2d_500[0][0]']          \n",
      " atchNormalization)                                                                               \n",
      "                                                                                                  \n",
      " batch_normalization_375 (B  (None, 128, 128, 10)         40        ['conv2d_503[0][0]']          \n",
      " atchNormalization)                                                                               \n",
      "                                                                                                  \n",
      " leaky_re_lu_517 (LeakyReLU  (None, 128, 128, 10)         0         ['batch_normalization_372[0][0\n",
      " )                                                                  ]']                           \n",
      "                                                                                                  \n",
      " leaky_re_lu_518 (LeakyReLU  (None, 128, 128, 10)         0         ['batch_normalization_373[0][0\n",
      " )                                                                  ]']                           \n",
      "                                                                                                  \n",
      " leaky_re_lu_521 (LeakyReLU  (None, 128, 128, 10)         0         ['batch_normalization_375[0][0\n",
      " )                                                                  ]']                           \n",
      "                                                                                                  \n",
      " concatenate_124 (Concatena  (None, 128, 128, 30)         0         ['leaky_re_lu_517[0][0]',     \n",
      " te)                                                                 'leaky_re_lu_518[0][0]',     \n",
      "                                                                     'leaky_re_lu_521[0][0]']     \n",
      "                                                                                                  \n",
      " conv2d_504 (Conv2D)         (None, 128, 128, 32)         992       ['concatenate_124[0][0]']     \n",
      "                                                                                                  \n",
      " conv2d_505 (Conv2D)         (None, 128, 128, 32)         2080      ['concatenate_123[0][0]']     \n",
      "                                                                                                  \n",
      " batch_normalization_376 (B  (None, 128, 128, 32)         128       ['conv2d_504[0][0]']          \n",
      " atchNormalization)                                                                               \n",
      "                                                                                                  \n",
      " batch_normalization_377 (B  (None, 128, 128, 32)         128       ['conv2d_505[0][0]']          \n",
      " atchNormalization)                                                                               \n",
      "                                                                                                  \n",
      " add_52 (Add)                (None, 128, 128, 32)         0         ['batch_normalization_376[0][0\n",
      "                                                                    ]',                           \n",
      "                                                                     'batch_normalization_377[0][0\n",
      "                                                                    ]']                           \n",
      "                                                                                                  \n",
      " leaky_re_lu_522 (LeakyReLU  (None, 128, 128, 32)         0         ['add_52[0][0]']              \n",
      " )                                                                                                \n",
      "                                                                                                  \n",
      " conv2d_506 (Conv2D)         (None, 128, 128, 4)          132       ['leaky_re_lu_522[0][0]']     \n",
      "                                                                                                  \n",
      "==================================================================================================\n",
      "Total params: 10728514 (40.93 MB)\n",
      "Trainable params: 10697042 (40.81 MB)\n",
      "Non-trainable params: 31472 (122.94 KB)\n",
      "__________________________________________________________________________________________________\n"
     ]
    }
   ],
   "source": [
    "model.summary()"
   ]
  },
  {
   "cell_type": "code",
   "execution_count": null,
   "metadata": {},
   "outputs": [],
   "source": [
    "model.get_layer('sequential').layers[0].weights"
   ]
  },
  {
   "cell_type": "code",
   "execution_count": 24,
   "metadata": {},
   "outputs": [],
   "source": [
    "def scale_fn(x):\n",
    "    return 1/(2.**(x-1))\n",
    "\n",
    "steps_per_epoch = len(train_brains) * (dataloader.BRAIN_FRAMES//BATCH_SIZE)\n",
    "val_steps_per_epoch = len(val_brains) * (dataloader.BRAIN_FRAMES//BATCH_SIZE)\n",
    "clr = tfa.optimizers.CyclicalLearningRate(initial_learning_rate=1e-4,\n",
    "    maximal_learning_rate=1e-2,\n",
    "    scale_fn=scale_fn,\n",
    "    step_size=2 * steps_per_epoch\n",
    ")"
   ]
  },
  {
   "cell_type": "code",
   "execution_count": 14,
   "metadata": {},
   "outputs": [],
   "source": [
    "model.compile(loss=metrics.weighted_f1_loss, optimizer=tf.keras.optimizers.AdamW(learning_rate=0.0001, weight_decay=0.00001), metrics=['accuracy', \n",
    "                                                                                               tf.keras.metrics.OneHotMeanIoU(num_classes=NUM_CLASSES),\n",
    "                                                                                               tf.keras.metrics.OneHotIoU(num_classes=NUM_CLASSES, target_class_ids=[0]),\n",
    "                                                                                               tf.keras.metrics.OneHotIoU(num_classes=NUM_CLASSES, target_class_ids=[1]),\n",
    "                                                                                               tf.keras.metrics.OneHotIoU(num_classes=NUM_CLASSES, target_class_ids=[2]),\n",
    "                                                                                               tf.keras.metrics.OneHotIoU(num_classes=NUM_CLASSES, target_class_ids=[3]),\n",
    "                                                                                               tf.keras.metrics.Precision(class_id=0),\n",
    "                                                                                               tf.keras.metrics.Precision(class_id=1),\n",
    "                                                                                               tf.keras.metrics.Precision(class_id=2),\n",
    "                                                                                               tf.keras.metrics.Precision(class_id=3),\n",
    "                                                                                               tf.keras.metrics.Recall(class_id=0),\n",
    "                                                                                               tf.keras.metrics.Recall(class_id=1),\n",
    "                                                                                               tf.keras.metrics.Recall(class_id=2),\n",
    "                                                                                               tf.keras.metrics.Recall(class_id=3)])"
   ]
  },
  {
   "cell_type": "code",
   "execution_count": 22,
   "metadata": {},
   "outputs": [],
   "source": [
    "checkpoint_filepath = os.path.join(ROOT_DIR, 'checkpoints', 'model-{epoch:02d}-{val_one_hot_mean_io_u:.3f}')\n",
    "\n",
    "model_checkpoint_callback = tf.keras.callbacks.ModelCheckpoint(\n",
    "    filepath=checkpoint_filepath,\n",
    "    save_weights_only=True,\n",
    "    monitor='val_one_hot_mean_io_u',\n",
    "    mode='max',\n",
    "    save_best_only=True)\n",
    "\n",
    "early_stop_callback = tf.keras.callbacks.EarlyStopping(monitor='val_loss', min_delta=0.001, patience=5, verbose=1, restore_best_weights=True)\n",
    "\n",
    "csv_logger_callback = tf.keras.callbacks.CSVLogger('brainTumor.log')"
   ]
  },
  {
   "cell_type": "code",
   "execution_count": 28,
   "metadata": {},
   "outputs": [
    {
     "name": "stdout",
     "output_type": "stream",
     "text": [
      "768/768 [==============================] - 3681s 5s/step - loss: 0.8783 - accuracy: 0.6106 - one_hot_mean_io_u_1: 0.1928 - one_hot_io_u_4: 0.6126 - one_hot_io_u_5: 0.1060 - one_hot_io_u_6: 0.0483 - one_hot_io_u_7: 0.0042 - precision_4: 0.9941 - precision_5: 0.1746 - precision_6: 0.0806 - precision_7: 0.0042 - recall_4: 0.6015 - recall_5: 0.3037 - recall_6: 0.2992 - recall_7: 0.3189 - val_loss: 0.8347 - val_accuracy: 0.6511 - val_one_hot_mean_io_u_1: 0.2465 - val_one_hot_io_u_4: 0.6535 - val_one_hot_io_u_5: 0.1577 - val_one_hot_io_u_6: 0.1711 - val_one_hot_io_u_7: 0.0038 - val_precision_4: 0.9934 - val_precision_5: 0.2666 - val_precision_6: 0.2500 - val_precision_7: 0.0035 - val_recall_4: 0.6553 - val_recall_5: 0.2836 - val_recall_6: 0.3727 - val_recall_7: 0.2647\n"
     ]
    }
   ],
   "source": [
    "history = model.fit(train_dataset, epochs=1, steps_per_epoch=steps_per_epoch, validation_data=val_dataset, validation_steps=val_steps_per_epoch, workers=2)"
   ]
  },
  {
   "cell_type": "code",
   "execution_count": 104,
   "metadata": {},
   "outputs": [
    {
     "name": "stdout",
     "output_type": "stream",
     "text": [
      "768/768 [==============================] - 3328s 4s/step - loss: 0.8985 - accuracy: 0.3789 - one_hot_mean_io_u_1: 0.1360 - one_hot_io_u_4: 0.3797 - one_hot_io_u_5: 0.0031 - one_hot_io_u_6: 0.0110 - one_hot_io_u_7: 0.1502 - precision_4: 0.9998 - precision_5: 0.0032 - precision_6: 0.0111 - precision_7: 0.2194 - recall_4: 0.3730 - recall_5: 0.1722 - recall_6: 0.6984 - recall_7: 0.4121 - val_loss: 0.9937 - val_accuracy: 0.4646 - val_one_hot_mean_io_u_1: 0.1200 - val_one_hot_io_u_4: 0.4637 - val_one_hot_io_u_5: 0.0123 - val_one_hot_io_u_6: 0.0026 - val_one_hot_io_u_7: 0.0014 - val_precision_4: 0.9950 - val_precision_5: 0.0123 - val_precision_6: 0.1482 - val_precision_7: 0.9124 - val_recall_4: 0.4648 - val_recall_5: 0.8218 - val_recall_6: 0.0027 - val_recall_7: 0.0013\n"
     ]
    }
   ],
   "source": [
    "history = model.fit(train_dataset, epochs=1, steps_per_epoch=steps_per_epoch, validation_data=val_dataset, validation_steps=val_steps_per_epoch, workers=2)"
   ]
  },
  {
   "cell_type": "code",
   "execution_count": 61,
   "metadata": {},
   "outputs": [],
   "source": [
    "model.save(\"model_epoch_2.keras\")"
   ]
  },
  {
   "cell_type": "code",
   "execution_count": null,
   "metadata": {},
   "outputs": [],
   "source": [
    "elo = tf.keras.models.load_model(\"model_epoch_2.keras\")"
   ]
  },
  {
   "cell_type": "code",
   "execution_count": 38,
   "metadata": {},
   "outputs": [
    {
     "name": "stdout",
     "output_type": "stream",
     "text": [
      "Model: \"model_1\"\n",
      "__________________________________________________________________________________________________\n",
      " Layer (type)                Output Shape                 Param #   Connected to                  \n",
      "==================================================================================================\n",
      " input_2 (InputLayer)        [(None, 128, 128, 4)]        0         []                            \n",
      "                                                                                                  \n",
      " sequential_9 (Sequential)   (None, 128, 128, 16)         2912      ['input_2[0][0]']             \n",
      "                                                                                                  \n",
      " max_pooling2d_4 (MaxPoolin  (None, 64, 64, 16)           0         ['sequential_9[0][0]']        \n",
      " g2D)                                                                                             \n",
      "                                                                                                  \n",
      " sequential_10 (Sequential)  (None, 64, 64, 32)           13888     ['max_pooling2d_4[0][0]']     \n",
      "                                                                                                  \n",
      " max_pooling2d_5 (MaxPoolin  (None, 32, 32, 32)           0         ['sequential_10[0][0]']       \n",
      " g2D)                                                                                             \n",
      "                                                                                                  \n",
      " sequential_11 (Sequential)  (None, 32, 32, 64)           55424     ['max_pooling2d_5[0][0]']     \n",
      "                                                                                                  \n",
      " max_pooling2d_6 (MaxPoolin  (None, 16, 16, 64)           0         ['sequential_11[0][0]']       \n",
      " g2D)                                                                                             \n",
      "                                                                                                  \n",
      " sequential_12 (Sequential)  (None, 16, 16, 128)          221440    ['max_pooling2d_6[0][0]']     \n",
      "                                                                                                  \n",
      " max_pooling2d_7 (MaxPoolin  (None, 8, 8, 128)            0         ['sequential_12[0][0]']       \n",
      " g2D)                                                                                             \n",
      "                                                                                                  \n",
      " sequential_13 (Sequential)  (None, 8, 8, 256)            885248    ['max_pooling2d_7[0][0]']     \n",
      "                                                                                                  \n",
      " conv2d_transpose_4 (Conv2D  (None, 16, 16, 128)          131200    ['sequential_13[0][0]']       \n",
      " Transpose)                                                                                       \n",
      "                                                                                                  \n",
      " concatenate_4 (Concatenate  (None, 16, 16, 256)          0         ['conv2d_transpose_4[0][0]',  \n",
      " )                                                                   'sequential_12[0][0]']       \n",
      "                                                                                                  \n",
      " sequential_14 (Sequential)  (None, 16, 16, 128)          442624    ['concatenate_4[0][0]']       \n",
      "                                                                                                  \n",
      " conv2d_transpose_5 (Conv2D  (None, 32, 32, 64)           32832     ['sequential_14[0][0]']       \n",
      " Transpose)                                                                                       \n",
      "                                                                                                  \n",
      " concatenate_5 (Concatenate  (None, 32, 32, 128)          0         ['conv2d_transpose_5[0][0]',  \n",
      " )                                                                   'sequential_11[0][0]']       \n",
      "                                                                                                  \n",
      " sequential_15 (Sequential)  (None, 32, 32, 64)           110720    ['concatenate_5[0][0]']       \n",
      "                                                                                                  \n",
      " conv2d_transpose_6 (Conv2D  (None, 64, 64, 32)           8224      ['sequential_15[0][0]']       \n",
      " Transpose)                                                                                       \n",
      "                                                                                                  \n",
      " concatenate_6 (Concatenate  (None, 64, 64, 64)           0         ['conv2d_transpose_6[0][0]',  \n",
      " )                                                                   'sequential_10[0][0]']       \n",
      "                                                                                                  \n",
      " sequential_16 (Sequential)  (None, 64, 64, 32)           27712     ['concatenate_6[0][0]']       \n",
      "                                                                                                  \n",
      " conv2d_transpose_7 (Conv2D  (None, 128, 128, 16)         2064      ['sequential_16[0][0]']       \n",
      " Transpose)                                                                                       \n",
      "                                                                                                  \n",
      " concatenate_7 (Concatenate  (None, 128, 128, 32)         0         ['conv2d_transpose_7[0][0]',  \n",
      " )                                                                   'sequential_9[0][0]']        \n",
      "                                                                                                  \n",
      " sequential_17 (Sequential)  (None, 128, 128, 16)         6944      ['concatenate_7[0][0]']       \n",
      "                                                                                                  \n",
      " conv2d_37 (Conv2D)          (None, 128, 128, 4)          68        ['sequential_17[0][0]']       \n",
      "                                                                                                  \n",
      "==================================================================================================\n",
      "Total params: 1941300 (7.41 MB)\n",
      "Trainable params: 1941300 (7.41 MB)\n",
      "Non-trainable params: 0 (0.00 Byte)\n",
      "__________________________________________________________________________________________________\n"
     ]
    }
   ],
   "source": [
    "elo.summary()"
   ]
  },
  {
   "cell_type": "code",
   "execution_count": 8,
   "metadata": {},
   "outputs": [],
   "source": [
    "import nibabel as nib\n",
    "import cv2\n",
    "\n",
    "t1 = cv2.resize(nib.load(f'{dataloader.extend_path_from_last_part(train_brains[0])}_t1.nii').get_fdata()[:, :, 70], (128, 128))\n",
    "t1ce = cv2.resize(nib.load(f'{dataloader.extend_path_from_last_part(train_brains[0])}_t1ce.nii').get_fdata()[:, :, 70], (128, 128))\n",
    "t2 = cv2.resize(nib.load(f'{dataloader.extend_path_from_last_part(train_brains[0])}_t2.nii').get_fdata()[:, :, 70], (128, 128))\n",
    "flair = cv2.resize(nib.load(f'{dataloader.extend_path_from_last_part(train_brains[0])}_flair.nii').get_fdata()[:, :, 70], (128, 128))\n",
    "seg = cv2.resize(nib.load(f'{dataloader.extend_path_from_last_part(train_brains[0])}_seg.nii').get_fdata()[:, :, 70], (128, 128))"
   ]
  },
  {
   "cell_type": "code",
   "execution_count": 10,
   "metadata": {},
   "outputs": [
    {
     "data": {
      "text/plain": [
       "(0.0, 463.55078125, 123.56214414473143)"
      ]
     },
     "execution_count": 10,
     "metadata": {},
     "output_type": "execute_result"
    }
   ],
   "source": [
    "np.min(t1), np.max(t1), np.std(t1)"
   ]
  },
  {
   "cell_type": "code",
   "execution_count": 11,
   "metadata": {},
   "outputs": [
    {
     "data": {
      "text/plain": [
       "(0.0, 168.70703125, 24.063296194642728)"
      ]
     },
     "execution_count": 11,
     "metadata": {},
     "output_type": "execute_result"
    }
   ],
   "source": [
    "np.min(t1ce), np.max(t1ce), np.std(t1ce)"
   ]
  },
  {
   "cell_type": "code",
   "execution_count": 12,
   "metadata": {},
   "outputs": [
    {
     "data": {
      "text/plain": [
       "(0.0, 1454.140625, 287.98824283570474)"
      ]
     },
     "execution_count": 12,
     "metadata": {},
     "output_type": "execute_result"
    }
   ],
   "source": [
    "np.min(t2), np.max(t2), np.std(t2)"
   ]
  },
  {
   "cell_type": "code",
   "execution_count": 13,
   "metadata": {},
   "outputs": [
    {
     "data": {
      "text/plain": [
       "(0.0, 325.97265625, 92.97123386792443)"
      ]
     },
     "execution_count": 13,
     "metadata": {},
     "output_type": "execute_result"
    }
   ],
   "source": [
    "np.min(flair), np.max(flair), np.std(flair)"
   ]
  },
  {
   "cell_type": "code",
   "execution_count": 14,
   "metadata": {},
   "outputs": [
    {
     "data": {
      "text/plain": [
       "(0.0, 4.0, 0.43565172693928583)"
      ]
     },
     "execution_count": 14,
     "metadata": {},
     "output_type": "execute_result"
    }
   ],
   "source": [
    "np.min(seg), np.max(seg), np.std(seg)"
   ]
  },
  {
   "cell_type": "code",
   "execution_count": 192,
   "metadata": {},
   "outputs": [],
   "source": [
    "seg = tf.one_hot(seg.reshape(1, 128, 128), 4, dtype=np.uint8)"
   ]
  },
  {
   "cell_type": "code",
   "execution_count": 193,
   "metadata": {},
   "outputs": [],
   "source": [
    "test = np.concatenate([np.expand_dims(t1, axis=-1), np.expand_dims(t1ce, axis=-1), np.expand_dims(t2, axis=-1), np.expand_dims(flair, axis=-1)], axis=-1)"
   ]
  },
  {
   "cell_type": "code",
   "execution_count": 194,
   "metadata": {},
   "outputs": [
    {
     "name": "stdout",
     "output_type": "stream",
     "text": [
      "1/1 [==============================] - 1s 1s/step\n"
     ]
    }
   ],
   "source": [
    "pred = model.predict(test.reshape(1, 128, 128, 4))"
   ]
  },
  {
   "cell_type": "code",
   "execution_count": 196,
   "metadata": {},
   "outputs": [],
   "source": [
    "import matplotlib.pyplot as plt"
   ]
  },
  {
   "cell_type": "code",
   "execution_count": 207,
   "metadata": {},
   "outputs": [
    {
     "data": {
      "text/plain": [
       "<matplotlib.image.AxesImage at 0x190d7511af0>"
      ]
     },
     "execution_count": 207,
     "metadata": {},
     "output_type": "execute_result"
    },
    {
     "data": {
      "image/png": "[encoded data removed]",
      "text/plain": [
       "<Figure size 432x288 with 1 Axes>"
      ]
     },
     "metadata": {
      "needs_background": "light"
     },
     "output_type": "display_data"
    }
   ],
   "source": [
    "plt.imshow(pred[0][:, :, 0])"
   ]
  },
  {
   "cell_type": "code",
   "execution_count": 131,
   "metadata": {},
   "outputs": [
    {
     "data": {
      "text/plain": [
       "<matplotlib.image.AxesImage at 0x2dac36aa970>"
      ]
     },
     "execution_count": 131,
     "metadata": {},
     "output_type": "execute_result"
    },
    {
     "data": {
      "image/png": "[encoded data removed]",
      "text/plain": [
       "<Figure size 432x288 with 1 Axes>"
      ]
     },
     "metadata": {
      "needs_background": "light"
     },
     "output_type": "display_data"
    }
   ],
   "source": [
    "import matplotlib.pyplot as plt\n",
    "plt.imshow(seg)"
   ]
  },
  {
   "cell_type": "code",
   "execution_count": 46,
   "metadata": {},
   "outputs": [
    {
     "data": {
      "text/plain": [
       "{'loss': [1.1112102270126343, 0.4273770749568939],\n",
       " 'accuracy': [0.643875777721405, 0.9611085057258606],\n",
       " 'one_hot_mean_io_u': [0.162858784198761, 0.2403409332036972],\n",
       " 'one_hot_io_u': [0.6442953944206238, 0.961113691329956],\n",
       " 'one_hot_io_u_1': [0.0, 0.0],\n",
       " 'one_hot_io_u_2': [0.007139731198549271, 0.0002500144182704389],\n",
       " 'one_hot_io_u_3': [0.0, 0.0],\n",
       " 'weighted_f1': [0.4888043701648712, 0.8008794784545898],\n",
       " 'precision': [1.0, 0.9833060503005981],\n",
       " 'precision_1': [0.0, 0.0],\n",
       " 'precision_2': [0.0, 0.0],\n",
       " 'precision_3': [0.0, 0.0],\n",
       " 'recall': [0.005293977912515402, 0.7690828442573547],\n",
       " 'recall_1': [0.0, 0.0],\n",
       " 'recall_2': [0.0, 0.0],\n",
       " 'recall_3': [0.0, 0.0],\n",
       " 'val_loss': [0.7661035656929016, 0.09657168388366699],\n",
       " 'val_accuracy': [0.9624722599983215, 0.9846280217170715],\n",
       " 'val_one_hot_mean_io_u': [0.24061806499958038, 0.24615700542926788],\n",
       " 'val_one_hot_io_u': [0.9624722599983215, 0.9846280217170715],\n",
       " 'val_one_hot_io_u_1': [0.0, 0.0],\n",
       " 'val_one_hot_io_u_2': [0.0, 0.0],\n",
       " 'val_one_hot_io_u_3': [0.0, 0.0],\n",
       " 'val_weighted_f1': [0.6338299512863159, 0.9673532843589783],\n",
       " 'val_precision': [0.9877117276191711, 0.9899000525474548],\n",
       " 'val_precision_1': [0.0, 0.0],\n",
       " 'val_precision_2': [0.0, 0.0],\n",
       " 'val_precision_3': [0.0, 0.0],\n",
       " 'val_recall': [0.307643860578537, 0.9875466823577881],\n",
       " 'val_recall_1': [0.0, 0.0],\n",
       " 'val_recall_2': [0.0, 0.0],\n",
       " 'val_recall_3': [0.0, 0.0]}"
      ]
     },
     "execution_count": 46,
     "metadata": {},
     "output_type": "execute_result"
    }
   ],
   "source": [
    "history.history"
   ]
  },
  {
   "cell_type": "code",
   "execution_count": 44,
   "metadata": {},
   "outputs": [
    {
     "name": "stdout",
     "output_type": "stream",
     "text": [
      "Epoch 1/2\n",
      "768/768 [==============================] - 3951s 5s/step - loss: 0.1080 - accuracy: 0.9780 - val_loss: 0.1126 - val_accuracy: 0.9794\n",
      "Epoch 2/2\n",
      "WARNING:tensorflow:Your input ran out of data; interrupting training. Make sure that your dataset or generator can generate at least `steps_per_epoch * epochs` batches (in this case, 1536 batches). You may need to use the repeat() function when building your dataset.\n",
      "768/768 [==============================] - 169s 220ms/step - loss: 0.0000e+00 - accuracy: 0.0000e+00 - val_loss: 0.1126 - val_accuracy: 0.9794\n"
     ]
    }
   ],
   "source": [
    "history = model.fit(train_dataset, epochs=1, steps_per_epoch=len(train_brains) * (dataloader.BRAIN_FRAMES//BATCH_SIZE), validation_data=val_dataset)"
   ]
  },
  {
   "cell_type": "code",
   "execution_count": 22,
   "metadata": {},
   "outputs": [
    {
     "name": "stdout",
     "output_type": "stream",
     "text": [
      "228/228 [==============================] - 195s 854ms/step - loss: 0.0924 - accuracy: 0.9782\n"
     ]
    },
    {
     "data": {
      "text/plain": [
       "[0.09240186959505081, 0.9781610369682312]"
      ]
     },
     "execution_count": 22,
     "metadata": {},
     "output_type": "execute_result"
    }
   ],
   "source": [
    "model.evaluate()"
   ]
  }
 ],
 "metadata": {
  "kernelspec": {
   "display_name": "Python 3",
   "language": "python",
   "name": "python3"
  },
  "language_info": {
   "codemirror_mode": {
    "name": "ipython",
    "version": 3
   },
   "file_extension": ".py",
   "mimetype": "text/x-python",
   "name": "python",
   "nbconvert_exporter": "python",
   "pygments_lexer": "ipython3",
   "version": "3.9.6"
  },
  "orig_nbformat": 4
 },
 "nbformat": 4,
 "nbformat_minor": 2
}
