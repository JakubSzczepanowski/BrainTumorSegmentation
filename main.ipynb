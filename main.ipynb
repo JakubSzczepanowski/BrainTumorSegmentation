{
 "cells": [
  {
   "cell_type": "code",
   "execution_count": 1,
   "metadata": {},
   "outputs": [
    {
     "name": "stdout",
     "output_type": "stream",
     "text": [
      "Using TensorFlow backend\n"
     ]
    },
    {
     "name": "stderr",
     "output_type": "stream",
     "text": [
      "c:\\Users\\Dell\\AppData\\Local\\Programs\\Python\\Python39\\lib\\site-packages\\tqdm\\auto.py:21: TqdmWarning: IProgress not found. Please update jupyter and ipywidgets. See https://ipywidgets.readthedocs.io/en/stable/user_install.html\n",
      "  from .autonotebook import tqdm as notebook_tqdm\n"
     ]
    }
   ],
   "source": [
    "import tensorflow as tf\n",
    "import tensorflow_addons as tfa\n",
    "import numpy as np\n",
    "import os\n",
    "import dataloader\n",
    "import architecture\n",
    "import metrics"
   ]
  },
  {
   "cell_type": "code",
   "execution_count": 2,
   "metadata": {},
   "outputs": [],
   "source": [
    "ROOT_DIR = '.'\n",
    "DATA_DIR = 'BRATS_2018'\n",
    "LABELED_DIR = 'MICCAI_BraTS_2018_Data_Training'\n",
    "UNLABELED_DIR = 'MICCAI_BraTS_2018_Data_Validation'\n",
    "LABELED_PATH = os.path.join(ROOT_DIR, DATA_DIR, LABELED_DIR)\n",
    "UNLABELED_PATH = os.path.join(ROOT_DIR, DATA_DIR, UNLABELED_DIR)\n",
    "\n",
    "BATCH_SIZE = 32\n",
    "BRAIN_SLICES = 8\n",
    "NUM_CLASSES = 4\n",
    "X_DTYPE = np.float32\n",
    "Y_DTYPE = np.uint8\n",
    "MAX_VALUE = 32767"
   ]
  },
  {
   "cell_type": "code",
   "execution_count": 3,
   "metadata": {},
   "outputs": [],
   "source": [
    "paths, sizes = dataloader.load_dataset_paths(LABELED_PATH, UNLABELED_PATH)"
   ]
  },
  {
   "cell_type": "code",
   "execution_count": 4,
   "metadata": {},
   "outputs": [],
   "source": [
    "train_brains, val_brains, test_brains, unlabeled_brains = paths"
   ]
  },
  {
   "cell_type": "code",
   "execution_count": 5,
   "metadata": {},
   "outputs": [],
   "source": [
    "hgg_train_size, lgg_train_size, hgg_val_size, lgg_val_size = sizes "
   ]
  },
  {
   "cell_type": "code",
   "execution_count": 6,
   "metadata": {},
   "outputs": [
    {
     "data": {
      "text/plain": [
       "(142, 50)"
      ]
     },
     "execution_count": 6,
     "metadata": {},
     "output_type": "execute_result"
    }
   ],
   "source": [
    "hgg_train_size, lgg_train_size"
   ]
  },
  {
   "cell_type": "code",
   "execution_count": 7,
   "metadata": {},
   "outputs": [
    {
     "data": {
      "text/plain": [
       "(192, 49, 44, 66)"
      ]
     },
     "execution_count": 7,
     "metadata": {},
     "output_type": "execute_result"
    }
   ],
   "source": [
    "len(train_brains), len(val_brains), len(test_brains), len(unlabeled_brains)"
   ]
  },
  {
   "cell_type": "code",
   "execution_count": 8,
   "metadata": {},
   "outputs": [],
   "source": [
    "# all_brains = train_brains + val_brains + test_brains + unlabeled_brains"
   ]
  },
  {
   "cell_type": "code",
   "execution_count": 9,
   "metadata": {},
   "outputs": [],
   "source": [
    "# dataloader.find_max_per_channel(all_brains)"
   ]
  },
  {
   "cell_type": "code",
   "execution_count": 6,
   "metadata": {},
   "outputs": [],
   "source": [
    "train_dataset = tf.data.Dataset.from_generator(dataloader.build_data_generator, output_signature=(\n",
    "    tf.TensorSpec(shape=(BATCH_SIZE, dataloader.IMAGE_SIZE, dataloader.IMAGE_SIZE, dataloader.CHANNELS), dtype=X_DTYPE),\n",
    "    tf.TensorSpec(shape=(BATCH_SIZE, dataloader.IMAGE_SIZE, dataloader.IMAGE_SIZE, NUM_CLASSES), dtype=Y_DTYPE)\n",
    "), args=[train_brains, MAX_VALUE, BATCH_SIZE, BRAIN_SLICES, True, hgg_train_size, lgg_train_size])"
   ]
  },
  {
   "cell_type": "code",
   "execution_count": 7,
   "metadata": {},
   "outputs": [],
   "source": [
    "val_dataset = tf.data.Dataset.from_generator(dataloader.build_data_generator, output_signature=(\n",
    "    tf.TensorSpec(shape=(BATCH_SIZE, dataloader.IMAGE_SIZE, dataloader.IMAGE_SIZE, dataloader.CHANNELS), dtype=X_DTYPE),\n",
    "    tf.TensorSpec(shape=(BATCH_SIZE, dataloader.IMAGE_SIZE, dataloader.IMAGE_SIZE, NUM_CLASSES), dtype=Y_DTYPE)\n",
    "), args=[val_brains, MAX_VALUE, BATCH_SIZE, BRAIN_SLICES, True, hgg_val_size, lgg_val_size])"
   ]
  },
  {
   "cell_type": "code",
   "execution_count": 8,
   "metadata": {},
   "outputs": [],
   "source": [
    "train_dataset = train_dataset.repeat().prefetch(tf.data.AUTOTUNE)"
   ]
  },
  {
   "cell_type": "code",
   "execution_count": 9,
   "metadata": {},
   "outputs": [],
   "source": [
    "val_dataset = val_dataset.repeat().prefetch(tf.data.AUTOTUNE)"
   ]
  },
  {
   "cell_type": "code",
   "execution_count": 67,
   "metadata": {},
   "outputs": [],
   "source": [
    "from keras import backend as K"
   ]
  },
  {
   "cell_type": "code",
   "execution_count": 174,
   "metadata": {},
   "outputs": [
    {
     "name": "stdout",
     "output_type": "stream",
     "text": [
      "tf.Tensor([0.00109971 0.1458139  0.5603247  0.29276177], shape=(4,), dtype=float32)\n"
     ]
    }
   ],
   "source": [
    "w = 0\n",
    "for elem in train_dataset.take(len(train_brains) * (dataloader.BRAIN_FRAMES//BATCH_SIZE)):\n",
    "    class_counts = K.sum(elem[1], axis=[0, 1, 2])\n",
    "    class_weights = tf.math.reciprocal(class_counts)\n",
    "\n",
    "    w += class_weights/K.sum(class_weights, keepdims=True)\n",
    "print(w/(len(train_brains) * (dataloader.BRAIN_FRAMES//BATCH_SIZE)))"
   ]
  },
  {
   "cell_type": "code",
   "execution_count": 76,
   "metadata": {},
   "outputs": [],
   "source": [
    "for elem in train_dataset.take(1):\n",
    "    pass"
   ]
  },
  {
   "cell_type": "code",
   "execution_count": 70,
   "metadata": {},
   "outputs": [],
   "source": [
    "class_weights = tf.math.reciprocal(np.array([518359, 3426, 993, 1510], dtype=np.float32))"
   ]
  },
  {
   "cell_type": "code",
   "execution_count": 71,
   "metadata": {},
   "outputs": [
    {
     "data": {
      "text/plain": [
       "<tf.Tensor: shape=(4,), dtype=float32, numpy=\n",
       "array([1.9291649e-06, 2.9188558e-04, 1.0070493e-03, 6.6225167e-04],\n",
       "      dtype=float32)>"
      ]
     },
     "execution_count": 71,
     "metadata": {},
     "output_type": "execute_result"
    }
   ],
   "source": [
    "class_weights"
   ]
  },
  {
   "cell_type": "code",
   "execution_count": 173,
   "metadata": {},
   "outputs": [
    {
     "data": {
      "text/plain": [
       "<tf.Tensor: shape=(4,), dtype=float32, numpy=array([0.00098271, 0.14868484, 0.5129852 , 0.33734724], dtype=float32)>"
      ]
     },
     "execution_count": 173,
     "metadata": {},
     "output_type": "execute_result"
    }
   ],
   "source": [
    "new_class_weights = class_weights/tf.reduce_sum(class_weights, keepdims=True)\n",
    "new_class_weights"
   ]
  },
  {
   "cell_type": "code",
   "execution_count": 115,
   "metadata": {},
   "outputs": [
    {
     "data": {
      "image/png": "[encoded data removed]",
      "text/plain": [
       "<Figure size 432x288 with 1 Axes>"
      ]
     },
     "metadata": {
      "needs_background": "light"
     },
     "output_type": "display_data"
    }
   ],
   "source": [
    "import matplotlib.pyplot as plt\n",
    "plt.imshow(seg[0, :, :, 2])\n",
    "plt.show()"
   ]
  },
  {
   "cell_type": "code",
   "execution_count": null,
   "metadata": {},
   "outputs": [],
   "source": [
    "# Z losowaniem - 3.5s bez - 0.2s"
   ]
  },
  {
   "cell_type": "code",
   "execution_count": 242,
   "metadata": {},
   "outputs": [],
   "source": [
    "model = architecture.build_model((dataloader.IMAGE_SIZE, dataloader.IMAGE_SIZE, dataloader.CHANNELS), NUM_CLASSES)"
   ]
  },
  {
   "cell_type": "code",
   "execution_count": null,
   "metadata": {},
   "outputs": [],
   "source": [
    "model.layers[1].get_layer('depthwise_conv2d_26').trainable_weights"
   ]
  },
  {
   "cell_type": "code",
   "execution_count": 243,
   "metadata": {},
   "outputs": [
    {
     "name": "stdout",
     "output_type": "stream",
     "text": [
      "Model: \"model_18\"\n",
      "__________________________________________________________________________________________________\n",
      " Layer (type)                Output Shape                 Param #   Connected to                  \n",
      "==================================================================================================\n",
      " input_23 (InputLayer)       [(None, 128, 128, 4)]        0         []                            \n",
      "                                                                                                  \n",
      " sequential_176 (Sequential  (None, 128, 128, 16)         33136     ['input_23[0][0]']            \n",
      " )                                                                                                \n",
      "                                                                                                  \n",
      " inception_module_136 (Ince  (None, 64, 64, 16)           824       ['sequential_176[0][0]']      \n",
      " ptionModule)                                                                                     \n",
      "                                                                                                  \n",
      " inception_module_137 (Ince  (None, 64, 64, 16)           824       ['inception_module_136[0][0]']\n",
      " ptionModule)                                                                                     \n",
      "                                                                                                  \n",
      " batch_normalization_294 (B  (None, 64, 64, 16)           64        ['inception_module_137[0][0]']\n",
      " atchNormalization)                                                                               \n",
      "                                                                                                  \n",
      " sequential_177 (Sequential  (None, 64, 64, 32)           33920     ['batch_normalization_294[0][0\n",
      " )                                                                  ]']                           \n",
      "                                                                                                  \n",
      " inception_module_138 (Ince  (None, 32, 32, 32)           3248      ['sequential_177[0][0]']      \n",
      " ptionModule)                                                                                     \n",
      "                                                                                                  \n",
      " inception_module_139 (Ince  (None, 32, 32, 32)           3248      ['inception_module_138[0][0]']\n",
      " ptionModule)                                                                                     \n",
      "                                                                                                  \n",
      " batch_normalization_297 (B  (None, 32, 32, 32)           128       ['inception_module_139[0][0]']\n",
      " atchNormalization)                                                                               \n",
      "                                                                                                  \n",
      " sequential_178 (Sequential  (None, 32, 32, 64)           19712     ['batch_normalization_297[0][0\n",
      " )                                                                  ]']                           \n",
      "                                                                                                  \n",
      " inception_module_140 (Ince  (None, 16, 16, 64)           12896     ['sequential_178[0][0]']      \n",
      " ptionModule)                                                                                     \n",
      "                                                                                                  \n",
      " inception_module_141 (Ince  (None, 16, 16, 64)           12896     ['inception_module_140[0][0]']\n",
      " ptionModule)                                                                                     \n",
      "                                                                                                  \n",
      " batch_normalization_300 (B  (None, 16, 16, 64)           256       ['inception_module_141[0][0]']\n",
      " atchNormalization)                                                                               \n",
      "                                                                                                  \n",
      " sequential_179 (Sequential  (None, 16, 16, 128)          18944     ['batch_normalization_300[0][0\n",
      " )                                                                  ]']                           \n",
      "                                                                                                  \n",
      " inception_module_142 (Ince  (None, 8, 8, 128)            51392     ['sequential_179[0][0]']      \n",
      " ptionModule)                                                                                     \n",
      "                                                                                                  \n",
      " inception_module_143 (Ince  (None, 8, 8, 128)            51392     ['inception_module_142[0][0]']\n",
      " ptionModule)                                                                                     \n",
      "                                                                                                  \n",
      " batch_normalization_303 (B  (None, 8, 8, 128)            512       ['inception_module_143[0][0]']\n",
      " atchNormalization)                                                                               \n",
      "                                                                                                  \n",
      " sequential_180 (Sequential  (None, 8, 8, 256)            41984     ['batch_normalization_303[0][0\n",
      " )                                                                  ]']                           \n",
      "                                                                                                  \n",
      " conv2d_transpose_75 (Conv2  (None, 16, 16, 128)          131200    ['sequential_180[0][0]']      \n",
      " DTranspose)                                                                                      \n",
      "                                                                                                  \n",
      " concatenate_75 (Concatenat  (None, 16, 16, 256)          0         ['conv2d_transpose_75[0][0]', \n",
      " e)                                                                  'sequential_179[0][0]']      \n",
      "                                                                                                  \n",
      " sequential_181 (Sequential  (None, 16, 16, 128)          348480    ['concatenate_75[0][0]']      \n",
      " )                                                                                                \n",
      "                                                                                                  \n",
      " conv2d_transpose_76 (Conv2  (None, 32, 32, 64)           32832     ['sequential_181[0][0]']      \n",
      " DTranspose)                                                                                      \n",
      "                                                                                                  \n",
      " concatenate_76 (Concatenat  (None, 32, 32, 128)          0         ['conv2d_transpose_76[0][0]', \n",
      " e)                                                                  'sequential_178[0][0]']      \n",
      "                                                                                                  \n",
      " sequential_182 (Sequential  (None, 32, 32, 64)           87712     ['concatenate_76[0][0]']      \n",
      " )                                                                                                \n",
      "                                                                                                  \n",
      " conv2d_transpose_77 (Conv2  (None, 64, 64, 32)           8224      ['sequential_182[0][0]']      \n",
      " DTranspose)                                                                                      \n",
      "                                                                                                  \n",
      " concatenate_77 (Concatenat  (None, 64, 64, 64)           0         ['conv2d_transpose_77[0][0]', \n",
      " e)                                                                  'sequential_177[0][0]']      \n",
      "                                                                                                  \n",
      " sequential_183 (Sequential  (None, 64, 64, 32)           22224     ['concatenate_77[0][0]']      \n",
      " )                                                                                                \n",
      "                                                                                                  \n",
      " conv2d_transpose_78 (Conv2  (None, 128, 128, 16)         2064      ['sequential_183[0][0]']      \n",
      " DTranspose)                                                                                      \n",
      "                                                                                                  \n",
      " concatenate_78 (Concatenat  (None, 128, 128, 32)         0         ['conv2d_transpose_78[0][0]', \n",
      " e)                                                                  'sequential_176[0][0]']      \n",
      "                                                                                                  \n",
      " sequential_184 (Sequential  (None, 128, 128, 16)         5704      ['concatenate_78[0][0]']      \n",
      " )                                                                                                \n",
      "                                                                                                  \n",
      " conv2d_95 (Conv2D)          (None, 128, 128, 4)          68        ['sequential_184[0][0]']      \n",
      "                                                                                                  \n",
      "==================================================================================================\n",
      "Total params: 923884 (3.52 MB)\n",
      "Trainable params: 920996 (3.51 MB)\n",
      "Non-trainable params: 2888 (11.28 KB)\n",
      "__________________________________________________________________________________________________\n"
     ]
    }
   ],
   "source": [
    "model.summary()"
   ]
  },
  {
   "cell_type": "code",
   "execution_count": 244,
   "metadata": {},
   "outputs": [],
   "source": [
    "steps_per_epoch = len(train_brains) * (dataloader.BRAIN_FRAMES//BATCH_SIZE)\n",
    "val_steps_per_epoch = len(val_brains) * (dataloader.BRAIN_FRAMES//BATCH_SIZE)\n",
    "clr = tfa.optimizers.CyclicalLearningRate(initial_learning_rate=1e-4,\n",
    "    maximal_learning_rate=1e-2,\n",
    "    scale_fn=lambda x: 1/(2.**(x-1)),\n",
    "    step_size=2 * steps_per_epoch\n",
    ")"
   ]
  },
  {
   "cell_type": "code",
   "execution_count": 245,
   "metadata": {},
   "outputs": [],
   "source": [
    "model.compile(loss=metrics.weighted_f1_loss, optimizer=tf.keras.optimizers.AdamW(learning_rate=clr, weight_decay=0.007), metrics=['accuracy', \n",
    "                                                                                               tf.keras.metrics.OneHotMeanIoU(num_classes=NUM_CLASSES),\n",
    "                                                                                               tf.keras.metrics.OneHotIoU(num_classes=NUM_CLASSES, target_class_ids=[0]),\n",
    "                                                                                               tf.keras.metrics.OneHotIoU(num_classes=NUM_CLASSES, target_class_ids=[1]),\n",
    "                                                                                               tf.keras.metrics.OneHotIoU(num_classes=NUM_CLASSES, target_class_ids=[2]),\n",
    "                                                                                               tf.keras.metrics.OneHotIoU(num_classes=NUM_CLASSES, target_class_ids=[3]),\n",
    "                                                                                               tf.keras.metrics.Precision(class_id=0),\n",
    "                                                                                               tf.keras.metrics.Precision(class_id=1),\n",
    "                                                                                               tf.keras.metrics.Precision(class_id=2),\n",
    "                                                                                               tf.keras.metrics.Precision(class_id=3),\n",
    "                                                                                               tf.keras.metrics.Recall(class_id=0),\n",
    "                                                                                               tf.keras.metrics.Recall(class_id=1),\n",
    "                                                                                               tf.keras.metrics.Recall(class_id=2),\n",
    "                                                                                               tf.keras.metrics.Recall(class_id=3)])"
   ]
  },
  {
   "cell_type": "code",
   "execution_count": 170,
   "metadata": {},
   "outputs": [],
   "source": [
    "checkpoint_filepath = os.path.join(ROOT_DIR, 'checkpoints', 'model-{epoch:02d}-{val_one_hot_mean_io_u:.3f}')\n",
    "\n",
    "model_checkpoint_callback = tf.keras.callbacks.ModelCheckpoint(\n",
    "    filepath=checkpoint_filepath,\n",
    "    save_weights_only=True,\n",
    "    monitor='val_one_hot_mean_io_u',\n",
    "    mode='max',\n",
    "    save_best_only=True)\n",
    "\n",
    "early_stop_callback = tf.keras.callbacks.EarlyStopping(monitor='val_loss', min_delta=0.001, patience=5, verbose=1, restore_best_weights=True)\n",
    "\n",
    "csv_logger_callback = tf.keras.callbacks.CSVLogger('brainTumor.log')"
   ]
  },
  {
   "cell_type": "code",
   "execution_count": 68,
   "metadata": {},
   "outputs": [
    {
     "name": "stdout",
     "output_type": "stream",
     "text": [
      "20/20 [==============================] - 296s 14s/step - loss: 0.9797 - accuracy: 0.4901 - one_hot_mean_io_u_9: 0.1326 - one_hot_io_u_36: 0.4916 - one_hot_io_u_37: 0.0172 - one_hot_io_u_38: 0.0172 - one_hot_io_u_39: 0.0042 - weighted_f1: 0.0194 - precision_36: 0.9913 - precision_37: 0.0603 - precision_38: 0.0213 - precision_39: 0.0034 - recall_36: 0.4297 - recall_37: 0.0228 - recall_38: 0.0243 - recall_39: 0.2333 - val_loss: 0.9974 - val_accuracy: 0.8020 - val_one_hot_mean_io_u_9: 0.2015 - val_one_hot_io_u_36: 0.8031 - val_one_hot_io_u_37: 0.0000e+00 - val_one_hot_io_u_38: 0.0000e+00 - val_one_hot_io_u_39: 0.0029 - val_weighted_f1: 0.0025 - val_precision_36: 0.9889 - val_precision_37: 0.0000e+00 - val_precision_38: 0.0000e+00 - val_precision_39: 0.0030 - val_recall_36: 0.8102 - val_recall_37: 0.0000e+00 - val_recall_38: 0.0000e+00 - val_recall_39: 0.1876\n"
     ]
    }
   ],
   "source": [
    "history = model.fit(train_dataset, epochs=1, steps_per_epoch=20, validation_data=val_dataset, validation_steps=3)"
   ]
  },
  {
   "cell_type": "code",
   "execution_count": 35,
   "metadata": {},
   "outputs": [
    {
     "name": "stdout",
     "output_type": "stream",
     "text": [
      "20/20 [==============================] - 125s 5s/step - loss: 0.9805 - accuracy: 0.3011 - one_hot_mean_io_u_6: 0.0893 - one_hot_io_u_24: 0.3012 - one_hot_io_u_25: 0.0346 - one_hot_io_u_26: 0.0014 - one_hot_io_u_27: 0.0199 - weighted_f1: 0.0174 - precision_24: 0.9995 - precision_25: 0.0498 - precision_26: 0.0012 - precision_27: 0.0306 - recall_24: 0.1866 - recall_25: 0.1768 - recall_26: 0.1760 - recall_27: 0.2441 - val_loss: 0.9968 - val_accuracy: 0.7839 - val_one_hot_mean_io_u_6: 0.1970 - val_one_hot_io_u_24: 0.7863 - val_one_hot_io_u_25: 0.0000e+00 - val_one_hot_io_u_26: 0.0017 - val_one_hot_io_u_27: 0.0000e+00 - val_weighted_f1: 0.0031 - val_precision_24: 0.9820 - val_precision_25: 0.0000e+00 - val_precision_26: 0.0017 - val_precision_27: 0.0000e+00 - val_recall_24: 0.7966 - val_recall_25: 0.0000e+00 - val_recall_26: 0.1929 - val_recall_27: 0.0000e+00\n"
     ]
    }
   ],
   "source": [
    "history = model.fit(train_dataset, epochs=1, steps_per_epoch=20, validation_data=val_dataset, validation_steps=3)"
   ]
  },
  {
   "cell_type": "code",
   "execution_count": null,
   "metadata": {},
   "outputs": [],
   "source": [
    "history = model.fit(train_dataset, epochs=1, steps_per_epoch=steps_per_epoch, validation_data=val_dataset, validation_steps=val_steps_per_epoch)"
   ]
  },
  {
   "cell_type": "code",
   "execution_count": 191,
   "metadata": {},
   "outputs": [],
   "source": [
    "import nibabel as nib\n",
    "import cv2\n",
    "\n",
    "t1 = cv2.resize(nib.load(f'{dataloader.extend_path_from_last_part(train_brains[0])}_t1.nii').get_fdata()[:, :, 70], (128, 128))\n",
    "t1ce = cv2.resize(nib.load(f'{dataloader.extend_path_from_last_part(train_brains[0])}_t1ce.nii').get_fdata()[:, :, 70], (128, 128))\n",
    "t2 = cv2.resize(nib.load(f'{dataloader.extend_path_from_last_part(train_brains[0])}_t2.nii').get_fdata()[:, :, 70], (128, 128))\n",
    "flair = cv2.resize(nib.load(f'{dataloader.extend_path_from_last_part(train_brains[0])}_flair.nii').get_fdata()[:, :, 70], (128, 128))\n",
    "seg = cv2.resize(nib.load(f'{dataloader.extend_path_from_last_part(train_brains[0])}_seg.nii').get_fdata()[:, :, 70], (128, 128))"
   ]
  },
  {
   "cell_type": "code",
   "execution_count": 192,
   "metadata": {},
   "outputs": [],
   "source": [
    "seg = tf.one_hot(seg.reshape(1, 128, 128), 4, dtype=np.uint8)"
   ]
  },
  {
   "cell_type": "code",
   "execution_count": 193,
   "metadata": {},
   "outputs": [],
   "source": [
    "test = np.concatenate([np.expand_dims(t1, axis=-1), np.expand_dims(t1ce, axis=-1), np.expand_dims(t2, axis=-1), np.expand_dims(flair, axis=-1)], axis=-1)"
   ]
  },
  {
   "cell_type": "code",
   "execution_count": 194,
   "metadata": {},
   "outputs": [
    {
     "name": "stdout",
     "output_type": "stream",
     "text": [
      "1/1 [==============================] - 1s 1s/step\n"
     ]
    }
   ],
   "source": [
    "pred = model.predict(test.reshape(1, 128, 128, 4))"
   ]
  },
  {
   "cell_type": "code",
   "execution_count": 196,
   "metadata": {},
   "outputs": [],
   "source": [
    "import matplotlib.pyplot as plt"
   ]
  },
  {
   "cell_type": "code",
   "execution_count": 207,
   "metadata": {},
   "outputs": [
    {
     "data": {
      "text/plain": [
       "<matplotlib.image.AxesImage at 0x190d7511af0>"
      ]
     },
     "execution_count": 207,
     "metadata": {},
     "output_type": "execute_result"
    },
    {
     "data": {
      "image/png": "[encoded data removed]",
      "text/plain": [
       "<Figure size 432x288 with 1 Axes>"
      ]
     },
     "metadata": {
      "needs_background": "light"
     },
     "output_type": "display_data"
    }
   ],
   "source": [
    "plt.imshow(pred[0][:, :, 0])"
   ]
  },
  {
   "cell_type": "code",
   "execution_count": 131,
   "metadata": {},
   "outputs": [
    {
     "data": {
      "text/plain": [
       "<matplotlib.image.AxesImage at 0x2dac36aa970>"
      ]
     },
     "execution_count": 131,
     "metadata": {},
     "output_type": "execute_result"
    },
    {
     "data": {
      "image/png": "[encoded data removed]",
      "text/plain": [
       "<Figure size 432x288 with 1 Axes>"
      ]
     },
     "metadata": {
      "needs_background": "light"
     },
     "output_type": "display_data"
    }
   ],
   "source": [
    "import matplotlib.pyplot as plt\n",
    "plt.imshow(seg)"
   ]
  },
  {
   "cell_type": "code",
   "execution_count": 46,
   "metadata": {},
   "outputs": [
    {
     "data": {
      "text/plain": [
       "{'loss': [1.1112102270126343, 0.4273770749568939],\n",
       " 'accuracy': [0.643875777721405, 0.9611085057258606],\n",
       " 'one_hot_mean_io_u': [0.162858784198761, 0.2403409332036972],\n",
       " 'one_hot_io_u': [0.6442953944206238, 0.961113691329956],\n",
       " 'one_hot_io_u_1': [0.0, 0.0],\n",
       " 'one_hot_io_u_2': [0.007139731198549271, 0.0002500144182704389],\n",
       " 'one_hot_io_u_3': [0.0, 0.0],\n",
       " 'weighted_f1': [0.4888043701648712, 0.8008794784545898],\n",
       " 'precision': [1.0, 0.9833060503005981],\n",
       " 'precision_1': [0.0, 0.0],\n",
       " 'precision_2': [0.0, 0.0],\n",
       " 'precision_3': [0.0, 0.0],\n",
       " 'recall': [0.005293977912515402, 0.7690828442573547],\n",
       " 'recall_1': [0.0, 0.0],\n",
       " 'recall_2': [0.0, 0.0],\n",
       " 'recall_3': [0.0, 0.0],\n",
       " 'val_loss': [0.7661035656929016, 0.09657168388366699],\n",
       " 'val_accuracy': [0.9624722599983215, 0.9846280217170715],\n",
       " 'val_one_hot_mean_io_u': [0.24061806499958038, 0.24615700542926788],\n",
       " 'val_one_hot_io_u': [0.9624722599983215, 0.9846280217170715],\n",
       " 'val_one_hot_io_u_1': [0.0, 0.0],\n",
       " 'val_one_hot_io_u_2': [0.0, 0.0],\n",
       " 'val_one_hot_io_u_3': [0.0, 0.0],\n",
       " 'val_weighted_f1': [0.6338299512863159, 0.9673532843589783],\n",
       " 'val_precision': [0.9877117276191711, 0.9899000525474548],\n",
       " 'val_precision_1': [0.0, 0.0],\n",
       " 'val_precision_2': [0.0, 0.0],\n",
       " 'val_precision_3': [0.0, 0.0],\n",
       " 'val_recall': [0.307643860578537, 0.9875466823577881],\n",
       " 'val_recall_1': [0.0, 0.0],\n",
       " 'val_recall_2': [0.0, 0.0],\n",
       " 'val_recall_3': [0.0, 0.0]}"
      ]
     },
     "execution_count": 46,
     "metadata": {},
     "output_type": "execute_result"
    }
   ],
   "source": [
    "history.history"
   ]
  },
  {
   "cell_type": "code",
   "execution_count": 44,
   "metadata": {},
   "outputs": [
    {
     "name": "stdout",
     "output_type": "stream",
     "text": [
      "Epoch 1/2\n",
      "768/768 [==============================] - 3951s 5s/step - loss: 0.1080 - accuracy: 0.9780 - val_loss: 0.1126 - val_accuracy: 0.9794\n",
      "Epoch 2/2\n",
      "WARNING:tensorflow:Your input ran out of data; interrupting training. Make sure that your dataset or generator can generate at least `steps_per_epoch * epochs` batches (in this case, 1536 batches). You may need to use the repeat() function when building your dataset.\n",
      "768/768 [==============================] - 169s 220ms/step - loss: 0.0000e+00 - accuracy: 0.0000e+00 - val_loss: 0.1126 - val_accuracy: 0.9794\n"
     ]
    }
   ],
   "source": [
    "history = model.fit(train_dataset, epochs=1, steps_per_epoch=len(train_brains) * (dataloader.BRAIN_FRAMES//BATCH_SIZE), validation_data=val_dataset)"
   ]
  },
  {
   "cell_type": "code",
   "execution_count": 22,
   "metadata": {},
   "outputs": [
    {
     "name": "stdout",
     "output_type": "stream",
     "text": [
      "228/228 [==============================] - 195s 854ms/step - loss: 0.0924 - accuracy: 0.9782\n"
     ]
    },
    {
     "data": {
      "text/plain": [
       "[0.09240186959505081, 0.9781610369682312]"
      ]
     },
     "execution_count": 22,
     "metadata": {},
     "output_type": "execute_result"
    }
   ],
   "source": [
    "model.evaluate()"
   ]
  }
 ],
 "metadata": {
  "kernelspec": {
   "display_name": "Python 3",
   "language": "python",
   "name": "python3"
  },
  "language_info": {
   "codemirror_mode": {
    "name": "ipython",
    "version": 3
   },
   "file_extension": ".py",
   "mimetype": "text/x-python",
   "name": "python",
   "nbconvert_exporter": "python",
   "pygments_lexer": "ipython3",
   "version": "3.9.6"
  },
  "orig_nbformat": 4
 },
 "nbformat": 4,
 "nbformat_minor": 2
}
